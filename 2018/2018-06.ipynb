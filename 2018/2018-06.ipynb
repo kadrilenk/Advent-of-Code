{
 "cells": [
  {
   "cell_type": "code",
   "execution_count": 1,
   "metadata": {},
   "outputs": [],
   "source": [
    "import re\n",
    "import numpy as np\n",
    "from scipy.spatial import distance"
   ]
  },
  {
   "cell_type": "code",
   "execution_count": 2,
   "metadata": {},
   "outputs": [
    {
     "data": {
      "text/plain": [
       "5"
      ]
     },
     "execution_count": 2,
     "metadata": {},
     "output_type": "execute_result"
    }
   ],
   "source": [
    "distance.cityblock([1,1], [3,4])"
   ]
  },
  {
   "cell_type": "code",
   "execution_count": 3,
   "metadata": {},
   "outputs": [],
   "source": [
    "data = {}\n",
    "\n",
    "with open(\"input_06_test.csv\") as file:\n",
    "    for index, line in enumerate(file):\n",
    "        y = int(re.findall('(\\d+),', line)[0])\n",
    "        x = int(re.findall(', (\\d+)', line)[0])\n",
    "        data[index+1] = (x, y)"
   ]
  },
  {
   "cell_type": "code",
   "execution_count": 4,
   "metadata": {},
   "outputs": [
    {
     "data": {
      "text/plain": [
       "{1: (1, 1), 2: (6, 1), 3: (3, 8), 4: (4, 3), 5: (5, 5), 6: (9, 8)}"
      ]
     },
     "execution_count": 4,
     "metadata": {},
     "output_type": "execute_result"
    }
   ],
   "source": [
    "data"
   ]
  },
  {
   "cell_type": "code",
   "execution_count": 5,
   "metadata": {},
   "outputs": [
    {
     "name": "stdout",
     "output_type": "stream",
     "text": [
      "max x: 9, max y: 8\n"
     ]
    }
   ],
   "source": [
    "x = []\n",
    "y = []\n",
    "\n",
    "for i in data:\n",
    "    x.append(data[i][0])\n",
    "    y.append(data[i][1])\n",
    "\n",
    "max_x = max(x)\n",
    "max_y = max(y)\n",
    "print(f'max x: {max_x}, max y: {max_y}')"
   ]
  },
  {
   "cell_type": "code",
   "execution_count": 17,
   "metadata": {},
   "outputs": [],
   "source": [
    "map = np.chararray((max_x+1, max_y+1))\n",
    "map[:] = ''\n",
    "# map"
   ]
  },
  {
   "cell_type": "code",
   "execution_count": 18,
   "metadata": {},
   "outputs": [
    {
     "data": {
      "text/plain": [
       "chararray([['', '', '', '', '', '', '', '', ''],\n",
       "           ['', b'1', '', '', '', '', '', '', ''],\n",
       "           ['', '', '', '', '', '', '', '', ''],\n",
       "           ['', '', '', '', '', '', '', '', b'3'],\n",
       "           ['', '', '', b'4', '', '', '', '', ''],\n",
       "           ['', '', '', '', '', b'5', '', '', ''],\n",
       "           ['', b'2', '', '', '', '', '', '', ''],\n",
       "           ['', '', '', '', '', '', '', '', ''],\n",
       "           ['', '', '', '', '', '', '', '', ''],\n",
       "           ['', '', '', '', '', '', '', '', b'6']], dtype='|S1')"
      ]
     },
     "execution_count": 18,
     "metadata": {},
     "output_type": "execute_result"
    }
   ],
   "source": [
    "for i in data:\n",
    "    map[data[i][0], data[i][1]] = i\n",
    "map"
   ]
  },
  {
   "cell_type": "code",
   "execution_count": null,
   "metadata": {},
   "outputs": [],
   "source": []
  }
 ],
 "metadata": {
  "kernelspec": {
   "display_name": "Python 3",
   "language": "python",
   "name": "python3"
  },
  "language_info": {
   "codemirror_mode": {
    "name": "ipython",
    "version": 3
   },
   "file_extension": ".py",
   "mimetype": "text/x-python",
   "name": "python",
   "nbconvert_exporter": "python",
   "pygments_lexer": "ipython3",
   "version": "3.7.3"
  }
 },
 "nbformat": 4,
 "nbformat_minor": 2
}
