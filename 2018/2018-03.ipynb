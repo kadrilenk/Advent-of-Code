{
 "cells": [
  {
   "cell_type": "code",
   "execution_count": 1,
   "metadata": {},
   "outputs": [],
   "source": [
    "import numpy as np\n",
    "import re"
   ]
  },
  {
   "cell_type": "code",
   "execution_count": 2,
   "metadata": {},
   "outputs": [
    {
     "name": "stdout",
     "output_type": "stream",
     "text": [
      "Part 1 answer: 103806\n"
     ]
    }
   ],
   "source": [
    "fabric = np.zeros((1000,1000))\n",
    "\n",
    "with open(\"2018-03.csv\") as file:\n",
    "    for line in file:\n",
    "        \n",
    "        numbers = re.findall(r'\\d+', line)\n",
    "        numbers = [int(i) for i in numbers]\n",
    "        \n",
    "        id = numbers[0]\n",
    "        left_edge = numbers[1]\n",
    "        top_edge = numbers[2]\n",
    "        width = numbers[3]\n",
    "        length = numbers[4]\n",
    "        \n",
    "        fabric[top_edge:top_edge+length, left_edge:left_edge+width] += 1\n",
    "\n",
    "print('Part 1 answer:', len(fabric[np.where(fabric > 1)])) # 103806"
   ]
  },
  {
   "cell_type": "code",
   "execution_count": 3,
   "metadata": {},
   "outputs": [],
   "source": [
    "fabric = np.zeros((1000,1000))\n",
    "check_values = {}\n",
    "\n",
    "with open(\"2018-03.csv\") as file:\n",
    "    for line in file:\n",
    "        \n",
    "        numbers = re.findall(r'\\d+', line)\n",
    "        numbers = [int(i) for i in numbers]\n",
    "        \n",
    "        id = numbers[0]\n",
    "        left_edge = numbers[1]\n",
    "        top_edge = numbers[2]\n",
    "        width = numbers[3]\n",
    "        length = numbers[4]\n",
    "        check_values[id] = width * length * id\n",
    "        \n",
    "        fabric[top_edge:top_edge+length, left_edge:left_edge+width] += id\n",
    "        "
   ]
  },
  {
   "cell_type": "code",
   "execution_count": 4,
   "metadata": {},
   "outputs": [],
   "source": [
    "actual_values = {}\n",
    "\n",
    "with open(\"2018-03.csv\") as file:\n",
    "    for line in file:\n",
    "        \n",
    "        numbers = re.findall(r'\\d+', line)\n",
    "        numbers = [int(i) for i in numbers]\n",
    "        \n",
    "        id = numbers[0]\n",
    "        left_edge = numbers[1]\n",
    "        top_edge = numbers[2]\n",
    "        width = numbers[3]\n",
    "        length = numbers[4]\n",
    "        actual_values[id] = np.sum(fabric[top_edge:top_edge+length, left_edge:left_edge+width])"
   ]
  },
  {
   "cell_type": "code",
   "execution_count": 5,
   "metadata": {},
   "outputs": [
    {
     "name": "stdout",
     "output_type": "stream",
     "text": [
      "Part 2 answer: 625\n"
     ]
    }
   ],
   "source": [
    "for i in check_values:\n",
    "    if check_values[i] == actual_values[i]:\n",
    "        print('Part 2 answer:', i) # 625"
   ]
  },
  {
   "cell_type": "code",
   "execution_count": null,
   "metadata": {},
   "outputs": [],
   "source": []
  }
 ],
 "metadata": {
  "kernelspec": {
   "display_name": "Python 3",
   "language": "python",
   "name": "python3"
  },
  "language_info": {
   "codemirror_mode": {
    "name": "ipython",
    "version": 3
   },
   "file_extension": ".py",
   "mimetype": "text/x-python",
   "name": "python",
   "nbconvert_exporter": "python",
   "pygments_lexer": "ipython3",
   "version": "3.7.3"
  }
 },
 "nbformat": 4,
 "nbformat_minor": 2
}
