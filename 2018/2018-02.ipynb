{
 "cells": [
  {
   "cell_type": "code",
   "execution_count": 19,
   "metadata": {},
   "outputs": [],
   "source": [
    "import pandas as pd\n",
    "import numpy as np\n",
    "import itertools"
   ]
  },
  {
   "cell_type": "code",
   "execution_count": 14,
   "metadata": {},
   "outputs": [
    {
     "name": "stdout",
     "output_type": "stream",
     "text": [
      "6642\n"
     ]
    }
   ],
   "source": [
    "double = 0\n",
    "triple = 0\n",
    "\n",
    "with open(\"2018-02.csv\") as f:\n",
    "    for line in f:\n",
    "        char_count_list = []\n",
    "        for char in line:\n",
    "            char_count_list.append(line.count(char))\n",
    "            \n",
    "        if 2 in char_count_list:\n",
    "            double += 1\n",
    "        if 3 in char_count_list:\n",
    "            triple += 1\n",
    "            \n",
    "checksum = double * triple\n",
    "print(checksum)"
   ]
  },
  {
   "cell_type": "code",
   "execution_count": 59,
   "metadata": {},
   "outputs": [],
   "source": [
    "id_list = []\n",
    "\n",
    "with open(\"2018-02.csv\") as f:\n",
    "    for line in f:\n",
    "        id_list.append(line.rstrip(\"\\n\"))\n",
    "\n",
    "# id_list"
   ]
  },
  {
   "cell_type": "code",
   "execution_count": 62,
   "metadata": {},
   "outputs": [
    {
     "name": "stdout",
     "output_type": "stream",
     "text": [
      "cvqlbidheyujgtrswxmckqnap\n"
     ]
    }
   ],
   "source": [
    "for a, b in itertools.combinations(id_list, 2):\n",
    "    difference = 0\n",
    "    for i in range(len(a)):\n",
    "        if a[i] != b[i]:\n",
    "            difference += 1\n",
    "    if difference == 1:\n",
    "        ans = ''\n",
    "        for i in range(len(a)):\n",
    "            if a[i] == b[i]:\n",
    "                ans = ans + a[i]\n",
    "        break\n",
    "            \n",
    "print(ans)"
   ]
  },
  {
   "cell_type": "code",
   "execution_count": null,
   "metadata": {},
   "outputs": [],
   "source": []
  }
 ],
 "metadata": {
  "kernelspec": {
   "display_name": "Python 3",
   "language": "python",
   "name": "python3"
  },
  "language_info": {
   "codemirror_mode": {
    "name": "ipython",
    "version": 3
   },
   "file_extension": ".py",
   "mimetype": "text/x-python",
   "name": "python",
   "nbconvert_exporter": "python",
   "pygments_lexer": "ipython3",
   "version": "3.7.3"
  }
 },
 "nbformat": 4,
 "nbformat_minor": 2
}
