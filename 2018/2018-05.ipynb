{
 "cells": [
  {
   "cell_type": "code",
   "execution_count": 1,
   "metadata": {},
   "outputs": [
    {
     "name": "stdout",
     "output_type": "stream",
     "text": [
      "50001\n"
     ]
    }
   ],
   "source": [
    "with open(\"input_05.csv\") as file:\n",
    "    for line in file:\n",
    "        input = line\n",
    "        print(len(input))"
   ]
  },
  {
   "cell_type": "code",
   "execution_count": 2,
   "metadata": {},
   "outputs": [],
   "source": [
    "# s = 'dabAcCaCBAcCcaDA'"
   ]
  },
  {
   "cell_type": "code",
   "execution_count": 3,
   "metadata": {},
   "outputs": [
    {
     "name": "stdout",
     "output_type": "stream",
     "text": [
      "Part 1 answer: 9822\n"
     ]
    }
   ],
   "source": [
    "s = input\n",
    "restart = True\n",
    "\n",
    "while restart:\n",
    "    for index, character in enumerate(s[1:]):\n",
    "        if (character.lower() == s[index].lower()) and (character != s[index]):\n",
    "            s = s[0 : index : ] + s[index+1 : :]\n",
    "            s = s[0 : index : ] + s[index+1 : :]\n",
    "            break\n",
    "        if index+2 == len(s):\n",
    "            restart = False\n",
    "            print('Part 1 answer:', len(s.strip('\\n')))"
   ]
  },
  {
   "cell_type": "code",
   "execution_count": 4,
   "metadata": {},
   "outputs": [
    {
     "name": "stdout",
     "output_type": "stream",
     "text": [
      "Part 2 answer: 5726\n"
     ]
    }
   ],
   "source": [
    "s = input\n",
    "alphabet = 'abcdefghijklmnopqrstuvwxyz'\n",
    "polymer_list = []\n",
    "\n",
    "for letter in alphabet:\n",
    "    s = s.replace(letter, '')\n",
    "    s = s.replace(letter.upper(), '')\n",
    "    \n",
    "    restart = True\n",
    "\n",
    "    while restart:\n",
    "        for index, character in enumerate(s[1:]):\n",
    "            if (character.lower() == s[index].lower()) and (character != s[index]):\n",
    "                s = s[0 : index : ] + s[index+1 : :]\n",
    "                s = s[0 : index : ] + s[index+1 : :]\n",
    "                break\n",
    "            if index+2 == len(s):\n",
    "                restart = False\n",
    "                polymer_list.append(s.strip('\\n'))\n",
    "    s = input\n",
    "    \n",
    "print('Part 2 answer:', len(min(polymer_list, key=len)))"
   ]
  },
  {
   "cell_type": "code",
   "execution_count": 6,
   "metadata": {},
   "outputs": [
    {
     "name": "stdout",
     "output_type": "stream",
     "text": [
      "Part1:\n",
      "9822\n"
     ]
    }
   ],
   "source": [
    "# line = open(\"input_05.csv\").read().splitlines()[0]\n",
    "\n",
    "# oldline = None\n",
    "# while oldline != line:\n",
    "#     oldline = line\n",
    "#     for i in range(0,26):\n",
    "#         line = line.replace(chr(ord(\"a\") + i) + chr(ord(\"A\") + i),\"\")\n",
    "#         line = line.replace(chr(ord(\"A\") + i) + chr(ord(\"a\") + i),\"\")\n",
    "\n",
    "# print(\"Part1:\")\n",
    "# print(len(line))"
   ]
  },
  {
   "cell_type": "code",
   "execution_count": null,
   "metadata": {},
   "outputs": [],
   "source": []
  }
 ],
 "metadata": {
  "kernelspec": {
   "display_name": "Python 3",
   "language": "python",
   "name": "python3"
  },
  "language_info": {
   "codemirror_mode": {
    "name": "ipython",
    "version": 3
   },
   "file_extension": ".py",
   "mimetype": "text/x-python",
   "name": "python",
   "nbconvert_exporter": "python",
   "pygments_lexer": "ipython3",
   "version": "3.7.3"
  }
 },
 "nbformat": 4,
 "nbformat_minor": 2
}
