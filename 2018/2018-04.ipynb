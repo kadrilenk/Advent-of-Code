{
 "cells": [
  {
   "cell_type": "code",
   "execution_count": 13,
   "metadata": {},
   "outputs": [],
   "source": [
    "import numpy as np\n",
    "import re\n",
    "import pandas as pd"
   ]
  },
  {
   "cell_type": "code",
   "execution_count": 14,
   "metadata": {},
   "outputs": [
    {
     "data": {
      "text/html": [
       "<div>\n",
       "<style scoped>\n",
       "    .dataframe tbody tr th:only-of-type {\n",
       "        vertical-align: middle;\n",
       "    }\n",
       "\n",
       "    .dataframe tbody tr th {\n",
       "        vertical-align: top;\n",
       "    }\n",
       "\n",
       "    .dataframe thead th {\n",
       "        text-align: right;\n",
       "    }\n",
       "</style>\n",
       "<table border=\"1\" class=\"dataframe\">\n",
       "  <thead>\n",
       "    <tr style=\"text-align: right;\">\n",
       "      <th></th>\n",
       "      <th>datetime</th>\n",
       "      <th>date</th>\n",
       "      <th>time</th>\n",
       "      <th>min</th>\n",
       "      <th>guard_id</th>\n",
       "      <th>action</th>\n",
       "      <th>duration</th>\n",
       "      <th>duration_min</th>\n",
       "    </tr>\n",
       "  </thead>\n",
       "  <tbody>\n",
       "    <tr>\n",
       "      <th>479</th>\n",
       "      <td>2000-02-15 23:58:00</td>\n",
       "      <td>2000-02-15</td>\n",
       "      <td>23:58</td>\n",
       "      <td>58</td>\n",
       "      <td>3557</td>\n",
       "      <td>begins shift</td>\n",
       "      <td>NaT</td>\n",
       "      <td>0</td>\n",
       "    </tr>\n",
       "    <tr>\n",
       "      <th>958</th>\n",
       "      <td>2000-02-16 00:35:00</td>\n",
       "      <td>2000-02-16</td>\n",
       "      <td>00:35</td>\n",
       "      <td>35</td>\n",
       "      <td>3557</td>\n",
       "      <td>falls asleep</td>\n",
       "      <td>00:37:00</td>\n",
       "      <td>37</td>\n",
       "    </tr>\n",
       "    <tr>\n",
       "      <th>124</th>\n",
       "      <td>2000-02-16 00:38:00</td>\n",
       "      <td>2000-02-16</td>\n",
       "      <td>00:38</td>\n",
       "      <td>38</td>\n",
       "      <td>3557</td>\n",
       "      <td>wakes up</td>\n",
       "      <td>00:03:00</td>\n",
       "      <td>3</td>\n",
       "    </tr>\n",
       "    <tr>\n",
       "      <th>375</th>\n",
       "      <td>2000-02-16 00:43:00</td>\n",
       "      <td>2000-02-16</td>\n",
       "      <td>00:43</td>\n",
       "      <td>43</td>\n",
       "      <td>3557</td>\n",
       "      <td>falls asleep</td>\n",
       "      <td>00:05:00</td>\n",
       "      <td>5</td>\n",
       "    </tr>\n",
       "    <tr>\n",
       "      <th>467</th>\n",
       "      <td>2000-02-16 00:45:00</td>\n",
       "      <td>2000-02-16</td>\n",
       "      <td>00:45</td>\n",
       "      <td>45</td>\n",
       "      <td>3557</td>\n",
       "      <td>wakes up</td>\n",
       "      <td>00:02:00</td>\n",
       "      <td>2</td>\n",
       "    </tr>\n",
       "  </tbody>\n",
       "</table>\n",
       "</div>"
      ],
      "text/plain": [
       "               datetime       date   time  min guard_id        action  \\\n",
       "479 2000-02-15 23:58:00 2000-02-15  23:58   58     3557  begins shift   \n",
       "958 2000-02-16 00:35:00 2000-02-16  00:35   35     3557  falls asleep   \n",
       "124 2000-02-16 00:38:00 2000-02-16  00:38   38     3557      wakes up   \n",
       "375 2000-02-16 00:43:00 2000-02-16  00:43   43     3557  falls asleep   \n",
       "467 2000-02-16 00:45:00 2000-02-16  00:45   45     3557      wakes up   \n",
       "\n",
       "    duration  duration_min  \n",
       "479      NaT             0  \n",
       "958 00:37:00            37  \n",
       "124 00:03:00             3  \n",
       "375 00:05:00             5  \n",
       "467 00:02:00             2  "
      ]
     },
     "execution_count": 14,
     "metadata": {},
     "output_type": "execute_result"
    }
   ],
   "source": [
    "df = pd.read_csv('2018-04.csv', header=None, names=['data'])\n",
    "df['datetime'] = df['data'].str.extract(r'(\\d{4}-\\d{2}-\\d{2}\\s\\d{2}:\\d{2})')\n",
    "df['datetime'] = df['datetime'].str.replace('1518','2000')\n",
    "df['datetime'] = pd.to_datetime(df['datetime'], format='%Y-%m-%d %H:%M')\n",
    "df.sort_values(by=['datetime'], inplace=True)\n",
    "\n",
    "df['date'] = df['data'].str.extract(r'(\\d{4}-\\d{2}-\\d{2})')\n",
    "df['date'] = df['date'].str.replace('1518','2000')\n",
    "df['time'] = df['data'].str.extract(r'(\\d{2}:\\d{2})')\n",
    "df['min'] = df['data'].str.extract(r':(\\d{2})]')\n",
    "df['date'] = pd.to_datetime(df['date'], format='%Y-%m-%d')\n",
    "\n",
    "df['guard_id'] = df['data'].str.extract(r'#(\\d+)')\n",
    "df['guard_id'] = df['guard_id'].fillna(method='ffill')\n",
    "df['action'] = df['data'].str.extract(r'(begins shift|falls asleep|wakes up)')\n",
    "\n",
    "df['duration'] = np.where((df.guard_id == df.guard_id.shift())&(df.action != 'begins shift'), df.datetime - df.datetime.shift(), np.nan)\n",
    "df['duration_min'] = df['duration'] / np.timedelta64(1, 'm')\n",
    "\n",
    "df['min'] = df['min'].astype(np.int64)\n",
    "df['duration_min'] = df['duration_min'].fillna(0)\n",
    "df['duration_min'] = df['duration_min'].astype(np.int64)\n",
    "\n",
    "df.drop(columns=['data'], inplace=True)\n",
    "\n",
    "df.head()"
   ]
  },
  {
   "cell_type": "code",
   "execution_count": 15,
   "metadata": {},
   "outputs": [
    {
     "data": {
      "text/html": [
       "<div>\n",
       "<style scoped>\n",
       "    .dataframe tbody tr th:only-of-type {\n",
       "        vertical-align: middle;\n",
       "    }\n",
       "\n",
       "    .dataframe tbody tr th {\n",
       "        vertical-align: top;\n",
       "    }\n",
       "\n",
       "    .dataframe thead th {\n",
       "        text-align: right;\n",
       "    }\n",
       "</style>\n",
       "<table border=\"1\" class=\"dataframe\">\n",
       "  <thead>\n",
       "    <tr style=\"text-align: right;\">\n",
       "      <th></th>\n",
       "      <th>duration_min</th>\n",
       "    </tr>\n",
       "    <tr>\n",
       "      <th>guard_id</th>\n",
       "      <th></th>\n",
       "    </tr>\n",
       "  </thead>\n",
       "  <tbody>\n",
       "    <tr>\n",
       "      <th>3457</th>\n",
       "      <td>504</td>\n",
       "    </tr>\n",
       "  </tbody>\n",
       "</table>\n",
       "</div>"
      ],
      "text/plain": [
       "          duration_min\n",
       "guard_id              \n",
       "3457               504"
      ]
     },
     "execution_count": 15,
     "metadata": {},
     "output_type": "execute_result"
    }
   ],
   "source": [
    "df_pivot = df[df['action']=='wakes up'].pivot_table(values='duration_min', index='guard_id', columns=None, aggfunc='sum')\n",
    "df_pivot = df_pivot.reindex(df_pivot.sort_values(by='duration_min', ascending=False).index)\n",
    "most_asleep_guard_id = list(df_pivot.index)[0]\n",
    "df_pivot.head(1)"
   ]
  },
  {
   "cell_type": "code",
   "execution_count": 16,
   "metadata": {
    "scrolled": true
   },
   "outputs": [],
   "source": [
    "df_sleep_mins = pd.DataFrame({'sleep_time':np.zeros((60))})\n",
    "df_sleep_mins.index.name = 'minute'"
   ]
  },
  {
   "cell_type": "code",
   "execution_count": 17,
   "metadata": {},
   "outputs": [],
   "source": [
    "for index, row in df[df['guard_id'] == most_asleep_guard_id].iterrows():\n",
    "    if row['action'] == 'wakes up':\n",
    "        df_sleep_mins.iloc[row['min']-row['duration_min']:row['min'],0] += 1"
   ]
  },
  {
   "cell_type": "code",
   "execution_count": 18,
   "metadata": {},
   "outputs": [
    {
     "data": {
      "text/html": [
       "<div>\n",
       "<style scoped>\n",
       "    .dataframe tbody tr th:only-of-type {\n",
       "        vertical-align: middle;\n",
       "    }\n",
       "\n",
       "    .dataframe tbody tr th {\n",
       "        vertical-align: top;\n",
       "    }\n",
       "\n",
       "    .dataframe thead th {\n",
       "        text-align: right;\n",
       "    }\n",
       "</style>\n",
       "<table border=\"1\" class=\"dataframe\">\n",
       "  <thead>\n",
       "    <tr style=\"text-align: right;\">\n",
       "      <th></th>\n",
       "      <th>sleep_time</th>\n",
       "    </tr>\n",
       "    <tr>\n",
       "      <th>minute</th>\n",
       "      <th></th>\n",
       "    </tr>\n",
       "  </thead>\n",
       "  <tbody>\n",
       "    <tr>\n",
       "      <th>40</th>\n",
       "      <td>14.0</td>\n",
       "    </tr>\n",
       "  </tbody>\n",
       "</table>\n",
       "</div>"
      ],
      "text/plain": [
       "        sleep_time\n",
       "minute            \n",
       "40            14.0"
      ]
     },
     "execution_count": 18,
     "metadata": {},
     "output_type": "execute_result"
    }
   ],
   "source": [
    "df_sleep_mins.iloc[df_sleep_mins[['sleep_time']].idxmax()]"
   ]
  },
  {
   "cell_type": "code",
   "execution_count": 19,
   "metadata": {},
   "outputs": [],
   "source": [
    "most_slept_min = df_sleep_mins.iloc[df_sleep_mins[['sleep_time']].idxmax()].index.values"
   ]
  },
  {
   "cell_type": "code",
   "execution_count": 20,
   "metadata": {},
   "outputs": [
    {
     "name": "stdout",
     "output_type": "stream",
     "text": [
      "Part 1 answer: 138280\n"
     ]
    }
   ],
   "source": [
    "print('Part 1 answer:', int(most_asleep_guard_id)*int(most_slept_min))"
   ]
  },
  {
   "cell_type": "markdown",
   "metadata": {},
   "source": [
    "# PART TWO"
   ]
  },
  {
   "cell_type": "code",
   "execution_count": 21,
   "metadata": {
    "scrolled": true
   },
   "outputs": [
    {
     "data": {
      "text/html": [
       "<div>\n",
       "<style scoped>\n",
       "    .dataframe tbody tr th:only-of-type {\n",
       "        vertical-align: middle;\n",
       "    }\n",
       "\n",
       "    .dataframe tbody tr th {\n",
       "        vertical-align: top;\n",
       "    }\n",
       "\n",
       "    .dataframe thead th {\n",
       "        text-align: right;\n",
       "    }\n",
       "</style>\n",
       "<table border=\"1\" class=\"dataframe\">\n",
       "  <thead>\n",
       "    <tr style=\"text-align: right;\">\n",
       "      <th></th>\n",
       "      <th>3557</th>\n",
       "      <th>3457</th>\n",
       "      <th>2819</th>\n",
       "      <th>1697</th>\n",
       "      <th>1901</th>\n",
       "      <th>2459</th>\n",
       "      <th>743</th>\n",
       "      <th>443</th>\n",
       "      <th>2593</th>\n",
       "      <th>1693</th>\n",
       "      <th>...</th>\n",
       "      <th>1733</th>\n",
       "      <th>3559</th>\n",
       "      <th>571</th>\n",
       "      <th>1627</th>\n",
       "      <th>1151</th>\n",
       "      <th>101</th>\n",
       "      <th>3301</th>\n",
       "      <th>2657</th>\n",
       "      <th>673</th>\n",
       "      <th>827</th>\n",
       "    </tr>\n",
       "  </thead>\n",
       "  <tbody>\n",
       "    <tr>\n",
       "      <th>0</th>\n",
       "      <td>0.0</td>\n",
       "      <td>0.0</td>\n",
       "      <td>0.0</td>\n",
       "      <td>0.0</td>\n",
       "      <td>0.0</td>\n",
       "      <td>0.0</td>\n",
       "      <td>0.0</td>\n",
       "      <td>0.0</td>\n",
       "      <td>0.0</td>\n",
       "      <td>0.0</td>\n",
       "      <td>...</td>\n",
       "      <td>0.0</td>\n",
       "      <td>0.0</td>\n",
       "      <td>0.0</td>\n",
       "      <td>0.0</td>\n",
       "      <td>0.0</td>\n",
       "      <td>0.0</td>\n",
       "      <td>0.0</td>\n",
       "      <td>0.0</td>\n",
       "      <td>0.0</td>\n",
       "      <td>0.0</td>\n",
       "    </tr>\n",
       "    <tr>\n",
       "      <th>1</th>\n",
       "      <td>0.0</td>\n",
       "      <td>0.0</td>\n",
       "      <td>0.0</td>\n",
       "      <td>0.0</td>\n",
       "      <td>0.0</td>\n",
       "      <td>0.0</td>\n",
       "      <td>0.0</td>\n",
       "      <td>0.0</td>\n",
       "      <td>0.0</td>\n",
       "      <td>0.0</td>\n",
       "      <td>...</td>\n",
       "      <td>0.0</td>\n",
       "      <td>0.0</td>\n",
       "      <td>0.0</td>\n",
       "      <td>0.0</td>\n",
       "      <td>0.0</td>\n",
       "      <td>0.0</td>\n",
       "      <td>0.0</td>\n",
       "      <td>0.0</td>\n",
       "      <td>0.0</td>\n",
       "      <td>0.0</td>\n",
       "    </tr>\n",
       "    <tr>\n",
       "      <th>2</th>\n",
       "      <td>0.0</td>\n",
       "      <td>0.0</td>\n",
       "      <td>0.0</td>\n",
       "      <td>0.0</td>\n",
       "      <td>0.0</td>\n",
       "      <td>0.0</td>\n",
       "      <td>0.0</td>\n",
       "      <td>0.0</td>\n",
       "      <td>0.0</td>\n",
       "      <td>0.0</td>\n",
       "      <td>...</td>\n",
       "      <td>0.0</td>\n",
       "      <td>0.0</td>\n",
       "      <td>0.0</td>\n",
       "      <td>0.0</td>\n",
       "      <td>0.0</td>\n",
       "      <td>0.0</td>\n",
       "      <td>0.0</td>\n",
       "      <td>0.0</td>\n",
       "      <td>0.0</td>\n",
       "      <td>0.0</td>\n",
       "    </tr>\n",
       "    <tr>\n",
       "      <th>3</th>\n",
       "      <td>0.0</td>\n",
       "      <td>0.0</td>\n",
       "      <td>0.0</td>\n",
       "      <td>0.0</td>\n",
       "      <td>0.0</td>\n",
       "      <td>0.0</td>\n",
       "      <td>0.0</td>\n",
       "      <td>0.0</td>\n",
       "      <td>0.0</td>\n",
       "      <td>0.0</td>\n",
       "      <td>...</td>\n",
       "      <td>0.0</td>\n",
       "      <td>0.0</td>\n",
       "      <td>0.0</td>\n",
       "      <td>0.0</td>\n",
       "      <td>0.0</td>\n",
       "      <td>0.0</td>\n",
       "      <td>0.0</td>\n",
       "      <td>0.0</td>\n",
       "      <td>0.0</td>\n",
       "      <td>0.0</td>\n",
       "    </tr>\n",
       "    <tr>\n",
       "      <th>4</th>\n",
       "      <td>0.0</td>\n",
       "      <td>0.0</td>\n",
       "      <td>0.0</td>\n",
       "      <td>0.0</td>\n",
       "      <td>0.0</td>\n",
       "      <td>0.0</td>\n",
       "      <td>0.0</td>\n",
       "      <td>0.0</td>\n",
       "      <td>0.0</td>\n",
       "      <td>0.0</td>\n",
       "      <td>...</td>\n",
       "      <td>0.0</td>\n",
       "      <td>0.0</td>\n",
       "      <td>0.0</td>\n",
       "      <td>0.0</td>\n",
       "      <td>0.0</td>\n",
       "      <td>0.0</td>\n",
       "      <td>0.0</td>\n",
       "      <td>0.0</td>\n",
       "      <td>0.0</td>\n",
       "      <td>0.0</td>\n",
       "    </tr>\n",
       "  </tbody>\n",
       "</table>\n",
       "<p>5 rows × 23 columns</p>\n",
       "</div>"
      ],
      "text/plain": [
       "   3557  3457  2819  1697  1901  2459  743  443  2593  1693  ...  1733  3559  \\\n",
       "0   0.0   0.0   0.0   0.0   0.0   0.0  0.0  0.0   0.0   0.0  ...   0.0   0.0   \n",
       "1   0.0   0.0   0.0   0.0   0.0   0.0  0.0  0.0   0.0   0.0  ...   0.0   0.0   \n",
       "2   0.0   0.0   0.0   0.0   0.0   0.0  0.0  0.0   0.0   0.0  ...   0.0   0.0   \n",
       "3   0.0   0.0   0.0   0.0   0.0   0.0  0.0  0.0   0.0   0.0  ...   0.0   0.0   \n",
       "4   0.0   0.0   0.0   0.0   0.0   0.0  0.0  0.0   0.0   0.0  ...   0.0   0.0   \n",
       "\n",
       "   571  1627  1151  101  3301  2657  673  827  \n",
       "0  0.0   0.0   0.0  0.0   0.0   0.0  0.0  0.0  \n",
       "1  0.0   0.0   0.0  0.0   0.0   0.0  0.0  0.0  \n",
       "2  0.0   0.0   0.0  0.0   0.0   0.0  0.0  0.0  \n",
       "3  0.0   0.0   0.0  0.0   0.0   0.0  0.0  0.0  \n",
       "4  0.0   0.0   0.0  0.0   0.0   0.0  0.0  0.0  \n",
       "\n",
       "[5 rows x 23 columns]"
      ]
     },
     "execution_count": 21,
     "metadata": {},
     "output_type": "execute_result"
    }
   ],
   "source": [
    "df_by_guards = pd.DataFrame(np.zeros((60,len(df['guard_id'].unique()))), columns = df['guard_id'].unique())\n",
    "df_by_guards.head()"
   ]
  },
  {
   "cell_type": "code",
   "execution_count": 22,
   "metadata": {
    "scrolled": true
   },
   "outputs": [],
   "source": [
    "for index, row in df.iterrows():\n",
    "    if row['action'] == 'wakes up':\n",
    "        df_by_guards[row['guard_id']].loc[row['min']-row['duration_min']:row['min']-1] += 1"
   ]
  },
  {
   "cell_type": "code",
   "execution_count": 23,
   "metadata": {},
   "outputs": [],
   "source": [
    "guard_id = list(df_by_guards.max().sort_values(ascending=False).head(1).index)[0]\n",
    "sleep_count = df_by_guards.max().sort_values(ascending=False).head(1)[0]\n",
    "top_minute = df_by_guards.index[df_by_guards[guard_id] == sleep_count][0]"
   ]
  },
  {
   "cell_type": "code",
   "execution_count": 24,
   "metadata": {},
   "outputs": [
    {
     "name": "stdout",
     "output_type": "stream",
     "text": [
      "Part 2 answer: 89347\n"
     ]
    }
   ],
   "source": [
    "print('Part 2 answer:', int(guard_id)*top_minute)"
   ]
  },
  {
   "cell_type": "code",
   "execution_count": null,
   "metadata": {},
   "outputs": [],
   "source": []
  },
  {
   "cell_type": "code",
   "execution_count": null,
   "metadata": {},
   "outputs": [],
   "source": []
  }
 ],
 "metadata": {
  "kernelspec": {
   "display_name": "Python 3",
   "language": "python",
   "name": "python3"
  },
  "language_info": {
   "codemirror_mode": {
    "name": "ipython",
    "version": 3
   },
   "file_extension": ".py",
   "mimetype": "text/x-python",
   "name": "python",
   "nbconvert_exporter": "python",
   "pygments_lexer": "ipython3",
   "version": "3.7.3"
  }
 },
 "nbformat": 4,
 "nbformat_minor": 2
}
