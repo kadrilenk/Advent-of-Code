{
 "cells": [
  {
   "cell_type": "code",
   "execution_count": 1,
   "metadata": {},
   "outputs": [],
   "source": [
    "lower = 197487\n",
    "upper = 673251"
   ]
  },
  {
   "cell_type": "code",
   "execution_count": 3,
   "metadata": {},
   "outputs": [],
   "source": [
    "def double(num, strict):\n",
    "    num_freq = {}\n",
    "\n",
    "    for i in str(num): \n",
    "        if i in num_freq: \n",
    "            num_freq[i] += 1\n",
    "        else: \n",
    "            num_freq[i] = 1\n",
    "\n",
    "    for i in num_freq:\n",
    "        if strict and num_freq[i] == 2:\n",
    "            return True\n",
    "        elif not strict and num_freq[i] >= 2:\n",
    "            return True\n",
    "    return False"
   ]
  },
  {
   "cell_type": "code",
   "execution_count": 4,
   "metadata": {},
   "outputs": [
    {
     "name": "stdout",
     "output_type": "stream",
     "text": [
      "1640\n",
      "1126\n"
     ]
    }
   ],
   "source": [
    "passwords = []\n",
    "passwords_2 = []\n",
    "\n",
    "for a in range(10):\n",
    "    if a > 0:\n",
    "        for b in range(10):\n",
    "            if b >= a:\n",
    "                for c in range(10):\n",
    "                    if c >= b:\n",
    "                        for d in range(10):\n",
    "                            if d >= c:\n",
    "                                for e in range(10):\n",
    "                                    if e >= d:\n",
    "                                        for f in range(10):\n",
    "                                            if f >= e:\n",
    "                                                password = int(str(a)+str(b)+str(c)+str(d)+str(e)+str(f))\n",
    "                                                if password >= lower and password <= upper:\n",
    "                                                    if double(password, False):\n",
    "                                                        passwords.append(password)\n",
    "                                                    if double(password, True):\n",
    "                                                        passwords_2.append(password)\n",
    "\n",
    "print(len(passwords)) # 1640\n",
    "print(len(passwords_2)) # 1126"
   ]
  },
  {
   "cell_type": "code",
   "execution_count": null,
   "metadata": {},
   "outputs": [],
   "source": []
  },
  {
   "cell_type": "code",
   "execution_count": null,
   "metadata": {},
   "outputs": [],
   "source": [
    "import re\n",
    "print(sum([(all([int(str(n)[i])<=int(str(n)[i+1]) for i in range(5)]) and any([re.search(\"(^|[^{0}]){0}{0}([^{0}]|$)\".format(d), str(n)) for d in range(10)])) for n in range(lower, upper)]))"
   ]
  },
  {
   "cell_type": "code",
   "execution_count": 5,
   "metadata": {},
   "outputs": [
    {
     "name": "stdout",
     "output_type": "stream",
     "text": [
      "1126\n"
     ]
    }
   ],
   "source": [
    "A = 197487\n",
    "B = 673251\n",
    "\n",
    "r = 0\n",
    "for x in range(A, B+1):\n",
    "    f = x % 10\n",
    "    e = x // 10 % 10\n",
    "    d = x // 100 % 10\n",
    "    c = x // 1000 % 10\n",
    "    b = x // 10000 % 10\n",
    "    a = x // 100000\n",
    "    if a <= b <= c <= d <= e <= f and \\\n",
    "            (a == b < c or a < b == c < d or b < c == d < e or c < d == e < f or d < e == f):\n",
    "        r += 1\n",
    "print(r)"
   ]
  },
  {
   "cell_type": "code",
   "execution_count": null,
   "metadata": {},
   "outputs": [],
   "source": []
  },
  {
   "cell_type": "code",
   "execution_count": null,
   "metadata": {},
   "outputs": [],
   "source": []
  },
  {
   "cell_type": "code",
   "execution_count": null,
   "metadata": {},
   "outputs": [],
   "source": []
  },
  {
   "cell_type": "code",
   "execution_count": null,
   "metadata": {},
   "outputs": [],
   "source": []
  }
 ],
 "metadata": {
  "kernelspec": {
   "display_name": "Python 3",
   "language": "python",
   "name": "python3"
  },
  "language_info": {
   "codemirror_mode": {
    "name": "ipython",
    "version": 3
   },
   "file_extension": ".py",
   "mimetype": "text/x-python",
   "name": "python",
   "nbconvert_exporter": "python",
   "pygments_lexer": "ipython3",
   "version": "3.7.3"
  }
 },
 "nbformat": 4,
 "nbformat_minor": 2
}
