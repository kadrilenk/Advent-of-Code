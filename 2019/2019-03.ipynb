{
 "cells": [
  {
   "cell_type": "code",
   "execution_count": 1,
   "metadata": {},
   "outputs": [],
   "source": [
    "import csv\n",
    "import numpy as np"
   ]
  },
  {
   "cell_type": "code",
   "execution_count": 2,
   "metadata": {},
   "outputs": [],
   "source": [
    "with open('input_03.csv') as f:\n",
    "    reader = csv.reader(f)\n",
    "    wires = list(reader)\n",
    "    \n",
    "wire1 = wires[0]\n",
    "wire2 = wires[1]"
   ]
  },
  {
   "cell_type": "code",
   "execution_count": 3,
   "metadata": {},
   "outputs": [],
   "source": [
    "grid = np.zeros((40000,40000)) # up-down, left-right\n",
    "x_initial = 20000\n",
    "y_initial = 20000\n",
    "# grid"
   ]
  },
  {
   "cell_type": "code",
   "execution_count": 4,
   "metadata": {},
   "outputs": [],
   "source": [
    "x = x_initial\n",
    "y = y_initial\n",
    "\n",
    "for i in wire1:\n",
    "    if i[0] == 'R':\n",
    "        for i in range(int(i[1:])):\n",
    "            y += 1\n",
    "            grid[(x,y)] = -1\n",
    "    elif i[0] == 'U':\n",
    "        for i in range(int(i[1:])):\n",
    "            x -= 1\n",
    "            grid[(x,y)] = -1\n",
    "    elif i[0] == 'L':\n",
    "        for i in range(int(i[1:])):\n",
    "            y -= 1\n",
    "            grid[(x,y)] = -1\n",
    "    elif i[0] == 'D':\n",
    "        for i in range(int(i[1:])):\n",
    "            x += 1\n",
    "            grid[(x,y)] = -1"
   ]
  },
  {
   "cell_type": "code",
   "execution_count": 5,
   "metadata": {},
   "outputs": [],
   "source": [
    "x = x_initial\n",
    "y = y_initial\n",
    "\n",
    "intersection = 1\n",
    "    \n",
    "for i in wire2:\n",
    "    if i[0] == 'R':\n",
    "        for i in range(int(i[1:])):\n",
    "            y += 1\n",
    "            if grid[(x,y)] == -1:\n",
    "                grid[(x,y)] = intersection\n",
    "                intersection += 1\n",
    "            else:\n",
    "                grid[(x,y)] = -2\n",
    "    elif i[0] == 'U':\n",
    "        for i in range(int(i[1:])):\n",
    "            x -= 1\n",
    "            if grid[(x,y)] == -1:\n",
    "                grid[(x,y)] = intersection\n",
    "                intersection += 1\n",
    "            else:\n",
    "                grid[(x,y)] = -2\n",
    "    elif i[0] == 'L':\n",
    "        for i in range(int(i[1:])):\n",
    "            y -= 1\n",
    "            if grid[(x,y)] == -1:\n",
    "                grid[(x,y)] = intersection\n",
    "                intersection += 1\n",
    "            else:\n",
    "                grid[(x,y)] = -1\n",
    "    elif i[0] == 'D':\n",
    "        for i in range(int(i[1:])):\n",
    "            x += 1\n",
    "            if grid[(x,y)] == -2:\n",
    "                grid[(x,y)] = intersection\n",
    "                intersection += 1\n",
    "            else:\n",
    "                grid[(x,y)] = -1"
   ]
  },
  {
   "cell_type": "code",
   "execution_count": 6,
   "metadata": {},
   "outputs": [],
   "source": [
    "intersections = np.where(grid > 0)\n",
    "# intersections"
   ]
  },
  {
   "cell_type": "code",
   "execution_count": 7,
   "metadata": {},
   "outputs": [
    {
     "name": "stdout",
     "output_type": "stream",
     "text": [
      "Part 1: 1674\n"
     ]
    }
   ],
   "source": [
    "# |x1 – x2| + |y1 – y2|\n",
    "ans = []\n",
    "for i in range(len(intersections[0])):\n",
    "    ans.append(abs(intersections[0][i]-x_initial) + abs(intersections[1][i]-x_initial))\n",
    "print('Part 1:', min(ans)) #1674"
   ]
  },
  {
   "cell_type": "code",
   "execution_count": 8,
   "metadata": {},
   "outputs": [],
   "source": [
    "x = x_initial\n",
    "y = y_initial\n",
    "\n",
    "steps = 0\n",
    "list_x = []\n",
    "\n",
    "for i in wire1:\n",
    "    if i[0] == 'R':\n",
    "        for i in range(int(i[1:])):\n",
    "            y += 1\n",
    "            steps += 1\n",
    "            if grid[(x,y)] > 0:\n",
    "                list_x.append((int(grid[(x,y)]), steps))\n",
    "    elif i[0] == 'U':\n",
    "        for i in range(int(i[1:])):\n",
    "            x -= 1\n",
    "            steps += 1\n",
    "            if grid[(x,y)] > 0:\n",
    "                list_x.append((int(grid[(x,y)]), steps))\n",
    "    elif i[0] == 'L':\n",
    "        for i in range(int(i[1:])):\n",
    "            y -= 1\n",
    "            steps += 1\n",
    "            if grid[(x,y)] > 0:\n",
    "                list_x.append((int(grid[(x,y)]), steps))\n",
    "    elif i[0] == 'D':\n",
    "        for i in range(int(i[1:])):\n",
    "            x += 1\n",
    "            steps += 1\n",
    "            if grid[(x,y)] > 0:\n",
    "                list_x.append((int(grid[(x,y)]), steps))"
   ]
  },
  {
   "cell_type": "code",
   "execution_count": 9,
   "metadata": {},
   "outputs": [],
   "source": [
    "x = x_initial\n",
    "y = y_initial\n",
    "\n",
    "steps = 0\n",
    "list_y = []\n",
    "\n",
    "for i in wire2:\n",
    "    if i[0] == 'R':\n",
    "        for i in range(int(i[1:])):\n",
    "            y += 1\n",
    "            steps += 1\n",
    "            if grid[(x,y)] > 0:\n",
    "                list_y.append((int(grid[(x,y)]), steps))\n",
    "    elif i[0] == 'U':\n",
    "        for i in range(int(i[1:])):\n",
    "            x -= 1\n",
    "            steps += 1\n",
    "            if grid[(x,y)] > 0:\n",
    "                list_y.append((int(grid[(x,y)]), steps))\n",
    "    elif i[0] == 'L':\n",
    "        for i in range(int(i[1:])):\n",
    "            y -= 1\n",
    "            steps += 1\n",
    "            if grid[(x,y)] > 0:\n",
    "                list_y.append((int(grid[(x,y)]), steps))\n",
    "    elif i[0] == 'D':\n",
    "        for i in range(int(i[1:])):\n",
    "            x += 1\n",
    "            steps += 1\n",
    "            if grid[(x,y)] > 0:\n",
    "                list_y.append((int(grid[(x,y)]), steps))"
   ]
  },
  {
   "cell_type": "code",
   "execution_count": 10,
   "metadata": {},
   "outputs": [
    {
     "name": "stdout",
     "output_type": "stream",
     "text": [
      "Part 2: 14012\n"
     ]
    }
   ],
   "source": [
    "ans2 = []\n",
    "for i in list_y:\n",
    "    for j in list_x:\n",
    "        if j[0] == i[0]:\n",
    "            ans2.append(i[1]+j[1])\n",
    "            \n",
    "print('Part 2:', min(ans2)) #14012"
   ]
  },
  {
   "cell_type": "code",
   "execution_count": null,
   "metadata": {},
   "outputs": [],
   "source": []
  },
  {
   "cell_type": "code",
   "execution_count": null,
   "metadata": {},
   "outputs": [],
   "source": []
  },
  {
   "cell_type": "code",
   "execution_count": null,
   "metadata": {},
   "outputs": [],
   "source": []
  },
  {
   "cell_type": "code",
   "execution_count": 11,
   "metadata": {},
   "outputs": [
    {
     "name": "stdout",
     "output_type": "stream",
     "text": [
      "1674 14012\n"
     ]
    }
   ],
   "source": [
    "A,B,_ = open('3.in').read().split('\\n')\n",
    "A,B = [x.split(',') for x in [A,B]]\n",
    "\n",
    "DX = {'L': -1, 'R': 1, 'U': 0, 'D': 0}\n",
    "DY = {'L': 0, 'R': 0, 'U': 1, 'D': -1}\n",
    "def get_points(A):\n",
    "    x = 0\n",
    "    y = 0\n",
    "    length = 0\n",
    "    ans = {}\n",
    "    for cmd in A:\n",
    "        d = cmd[0]\n",
    "        n = int(cmd[1:])\n",
    "        assert d in ['L', 'R', 'U', 'D']\n",
    "        for _ in range(n):\n",
    "            x += DX[d]\n",
    "            y += DY[d]\n",
    "            length += 1\n",
    "            if (x,y) not in ans:\n",
    "                ans[(x,y)] = length\n",
    "    return ans\n",
    "\n",
    "PA = get_points(A)\n",
    "PB = get_points(B)\n",
    "both = set(PA.keys())&set(PB.keys())\n",
    "part1 = min([abs(x)+abs(y) for (x,y) in both])\n",
    "part2 = min([PA[p]+PB[p] for p in both])\n",
    "print(part1,part2)"
   ]
  },
  {
   "cell_type": "code",
   "execution_count": null,
   "metadata": {},
   "outputs": [],
   "source": []
  }
 ],
 "metadata": {
  "kernelspec": {
   "display_name": "Python 3",
   "language": "python",
   "name": "python3"
  },
  "language_info": {
   "codemirror_mode": {
    "name": "ipython",
    "version": 3
   },
   "file_extension": ".py",
   "mimetype": "text/x-python",
   "name": "python",
   "nbconvert_exporter": "python",
   "pygments_lexer": "ipython3",
   "version": "3.7.3"
  }
 },
 "nbformat": 4,
 "nbformat_minor": 2
}
