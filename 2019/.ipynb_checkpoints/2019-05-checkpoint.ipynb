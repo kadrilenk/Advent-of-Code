{
 "cells": [
  {
   "cell_type": "code",
   "execution_count": 1,
   "metadata": {},
   "outputs": [],
   "source": [
    "import numpy as np"
   ]
  },
  {
   "cell_type": "code",
   "execution_count": 2,
   "metadata": {},
   "outputs": [
    {
     "name": "stdout",
     "output_type": "stream",
     "text": [
      "3895705\n"
     ]
    }
   ],
   "source": [
    "intcode = [1,0,0,3,1,1,2,3,1,3,4,3,1,5,0,3,2,1,9,19,1,19,5,23,2,23,13,27,1,10,27,31,2,31,6,35,1,5,35,39,1,39,10,43,2,9,43,47,1,47,5,51,2,51,9,55,1,13,55,59,1,13,59,63,1,6,63,67,2,13,67,71,1,10,71,75,2,13,75,79,1,5,79,83,2,83,9,87,2,87,13,91,1,91,5,95,2,9,95,99,1,99,5,103,1,2,103,107,1,10,107,0,99,2,14,0,0]\n",
    "intcode[1] = 12\n",
    "intcode[2] = 2\n",
    "\n",
    "steps = np.arange(0, 1000, 4)\n",
    "\n",
    "for step in steps:\n",
    "    opcode = intcode[step]\n",
    "    if opcode == 99:\n",
    "        break\n",
    "    \n",
    "    x_pos = intcode[step+1]\n",
    "    x_value = intcode[x_pos]\n",
    "    y_pos = intcode[step+2]\n",
    "    y_value = intcode[y_pos]\n",
    "    z_pos = intcode[step+3]\n",
    "    \n",
    "    if opcode == 1:\n",
    "        intcode[z_pos] = x_value+y_value\n",
    "    elif opcode == 2:\n",
    "        intcode[z_pos] = x_value*y_value\n",
    "print(intcode[0])"
   ]
  },
  {
   "cell_type": "code",
   "execution_count": 9,
   "metadata": {},
   "outputs": [
    {
     "name": "stdout",
     "output_type": "stream",
     "text": [
      "6417\n"
     ]
    }
   ],
   "source": [
    "steps = np.arange(0, 1000, 4)\n",
    "intcode = [1,0,0,3,1,1,2,3,1,3,4,3,1,5,0,3,2,1,9,19,1,19,5,23,2,23,13,27,1,10,27,31,2,31,6,35,1,5,35,39,1,39,10,43,2,9,43,47,1,47,5,51,2,51,9,55,1,13,55,59,1,13,59,63,1,6,63,67,2,13,67,71,1,10,71,75,2,13,75,79,1,5,79,83,2,83,9,87,2,87,13,91,1,91,5,95,2,9,95,99,1,99,5,103,1,2,103,107,1,10,107,0,99,2,14,0,0]\n",
    "\n",
    "done = False\n",
    "\n",
    "noun_values = np.arange(0,100)\n",
    "verb_values = np.arange(0,100)\n",
    "\n",
    "for noun in noun_values:\n",
    "    for verb in verb_values:\n",
    "        intcode[1] = noun\n",
    "        intcode[2] = verb\n",
    "\n",
    "        for step in steps:\n",
    "            opcode = intcode[step]\n",
    "            if opcode == 99:\n",
    "                break\n",
    "\n",
    "            x_pos = intcode[step+1]\n",
    "            x_value = intcode[x_pos]\n",
    "            y_pos = intcode[step+2]\n",
    "            y_value = intcode[y_pos]\n",
    "            z_pos = intcode[step+3]\n",
    "\n",
    "            if opcode == 1:\n",
    "                intcode[z_pos] = x_value+y_value\n",
    "            elif opcode == 2:\n",
    "                intcode[z_pos] = x_value*y_value\n",
    "\n",
    "        if intcode[0] == 19690720:\n",
    "            print(100 * intcode[1] + intcode[2])\n",
    "            done = True\n",
    "            break\n",
    "        else:\n",
    "            intcode = [1,0,0,3,1,1,2,3,1,3,4,3,1,5,0,3,2,1,9,19,1,19,5,23,2,23,13,27,1,10,27,31,2,31,6,35,1,5,35,39,1,39,10,43,2,9,43,47,1,47,5,51,2,51,9,55,1,13,55,59,1,13,59,63,1,6,63,67,2,13,67,71,1,10,71,75,2,13,75,79,1,5,79,83,2,83,9,87,2,87,13,91,1,91,5,95,2,9,95,99,1,99,5,103,1,2,103,107,1,10,107,0,99,2,14,0,0]\n",
    "    if done:\n",
    "        break"
   ]
  },
  {
   "cell_type": "code",
   "execution_count": null,
   "metadata": {},
   "outputs": [],
   "source": []
  }
 ],
 "metadata": {
  "kernelspec": {
   "display_name": "Python 3",
   "language": "python",
   "name": "python3"
  },
  "language_info": {
   "codemirror_mode": {
    "name": "ipython",
    "version": 3
   },
   "file_extension": ".py",
   "mimetype": "text/x-python",
   "name": "python",
   "nbconvert_exporter": "python",
   "pygments_lexer": "ipython3",
   "version": "3.7.3"
  }
 },
 "nbformat": 4,
 "nbformat_minor": 2
}
