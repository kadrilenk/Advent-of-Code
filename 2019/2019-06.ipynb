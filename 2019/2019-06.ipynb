{
 "cells": [
  {
   "cell_type": "code",
   "execution_count": 1,
   "metadata": {},
   "outputs": [],
   "source": [
    "map_data = []\n",
    "\n",
    "with open('input_06.csv') as f:\n",
    "    for line in f:\n",
    "        \n",
    "        map_data.append(line.rstrip().split(')'))"
   ]
  },
  {
   "cell_type": "code",
   "execution_count": 2,
   "metadata": {},
   "outputs": [],
   "source": [
    "# create a dictionary of unique orbits as keys\n",
    "orbit_data = {}\n",
    "\n",
    "for i in map_data:\n",
    "    for j in i:\n",
    "        if j not in orbit_data:\n",
    "            orbit_data[j] = [0, 0]"
   ]
  },
  {
   "cell_type": "code",
   "execution_count": 3,
   "metadata": {},
   "outputs": [],
   "source": [
    "# add the \"before\" orbit\n",
    "for i in map_data:\n",
    "    for j in orbit_data:\n",
    "        if i[1] == j:\n",
    "            orbit_data[j][0] = i[0]"
   ]
  },
  {
   "cell_type": "code",
   "execution_count": 4,
   "metadata": {},
   "outputs": [],
   "source": [
    "# add the \"after\" orbit\n",
    "for i in orbit_data:\n",
    "    for j in map_data:\n",
    "        if i == j[0]:\n",
    "            orbit_data[i][1] = j[1]"
   ]
  },
  {
   "cell_type": "code",
   "execution_count": 5,
   "metadata": {},
   "outputs": [],
   "source": [
    "# calculate distance of each orbit\n",
    "distances = {}\n",
    "\n",
    "for i in orbit_data:\n",
    "    letter = i\n",
    "    distance = 0\n",
    "    while orbit_data[letter][0] != 0:\n",
    "        distance += 1\n",
    "        letter = orbit_data[letter][0]\n",
    "    distances[i] = distance"
   ]
  },
  {
   "cell_type": "code",
   "execution_count": 6,
   "metadata": {},
   "outputs": [
    {
     "data": {
      "text/plain": [
       "300598"
      ]
     },
     "execution_count": 6,
     "metadata": {},
     "output_type": "execute_result"
    }
   ],
   "source": [
    "ans = 0\n",
    "\n",
    "for i in distances:\n",
    "    ans += distances[i]\n",
    "    \n",
    "ans"
   ]
  },
  {
   "cell_type": "code",
   "execution_count": 7,
   "metadata": {},
   "outputs": [],
   "source": [
    "# get all the preceding objects before YOU and SAN\n",
    "you = []\n",
    "san = []\n",
    "    \n",
    "for i in orbit_data:\n",
    "    if i == 'YOU':\n",
    "        letter = i\n",
    "        while orbit_data[letter][0] != 0:\n",
    "            you.append(orbit_data[letter][0])\n",
    "            letter = orbit_data[letter][0]\n",
    "    elif i == 'SAN':\n",
    "        letter = i\n",
    "        while orbit_data[letter][0] != 0:\n",
    "            san.append(orbit_data[letter][0])\n",
    "            letter = orbit_data[letter][0]"
   ]
  },
  {
   "cell_type": "code",
   "execution_count": 8,
   "metadata": {},
   "outputs": [],
   "source": [
    "# calculate the object where YOU and SAN first meet, or intersect\n",
    "done = False\n",
    "for i in you:\n",
    "    for j in san:\n",
    "        if done:\n",
    "            break\n",
    "        if j == i:\n",
    "            crossroad = j\n",
    "            done = True"
   ]
  },
  {
   "cell_type": "code",
   "execution_count": 9,
   "metadata": {},
   "outputs": [
    {
     "data": {
      "text/plain": [
       "520"
      ]
     },
     "execution_count": 9,
     "metadata": {},
     "output_type": "execute_result"
    }
   ],
   "source": [
    "distances['YOU']-distances[crossroad]+distances['SAN']-distances[crossroad]-2"
   ]
  },
  {
   "cell_type": "code",
   "execution_count": null,
   "metadata": {},
   "outputs": [],
   "source": []
  }
 ],
 "metadata": {
  "kernelspec": {
   "display_name": "Python 3",
   "language": "python",
   "name": "python3"
  },
  "language_info": {
   "codemirror_mode": {
    "name": "ipython",
    "version": 3
   },
   "file_extension": ".py",
   "mimetype": "text/x-python",
   "name": "python",
   "nbconvert_exporter": "python",
   "pygments_lexer": "ipython3",
   "version": "3.7.3"
  }
 },
 "nbformat": 4,
 "nbformat_minor": 2
}
