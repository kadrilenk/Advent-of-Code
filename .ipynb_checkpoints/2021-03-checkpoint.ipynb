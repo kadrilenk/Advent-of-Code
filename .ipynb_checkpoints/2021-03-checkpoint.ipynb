{
 "cells": [
  {
   "cell_type": "code",
   "execution_count": 1,
   "id": "5e2651ae",
   "metadata": {},
   "outputs": [],
   "source": [
    "import numpy as np"
   ]
  },
  {
   "cell_type": "code",
   "execution_count": 2,
   "id": "f666c0e1",
   "metadata": {},
   "outputs": [],
   "source": [
    "with open('03.txt') as f:\n",
    "    diagnostic_report = [x.strip() for x in f.readlines()]"
   ]
  },
  {
   "cell_type": "markdown",
   "id": "e41a5721",
   "metadata": {},
   "source": [
    "### Part I"
   ]
  },
  {
   "cell_type": "code",
   "execution_count": 3,
   "id": "a6098327",
   "metadata": {},
   "outputs": [
    {
     "name": "stdout",
     "output_type": "stream",
     "text": [
      "741950\n"
     ]
    }
   ],
   "source": [
    "gamma_rate = ''\n",
    "epsilon_rate = ''\n",
    "\n",
    "for i,v in enumerate(diagnostic_report[0]):\n",
    "    most_common_bit = np.bincount([int(x[i]) for x in diagnostic_report]).argmax()\n",
    "    least_common_bit = np.bincount([int(x[i]) for x in diagnostic_report]).argmin()\n",
    "    gamma_rate += str(most_common_bit)\n",
    "    epsilon_rate += str(least_common_bit)\n",
    "\n",
    "print(int(gamma_rate,2) * int(epsilon_rate,2))"
   ]
  },
  {
   "cell_type": "markdown",
   "id": "84537365",
   "metadata": {},
   "source": [
    "### Part II"
   ]
  },
  {
   "cell_type": "code",
   "execution_count": 4,
   "id": "86bfbec3",
   "metadata": {},
   "outputs": [],
   "source": [
    "oxygen = diagnostic_report\n",
    "co2 = diagnostic_report"
   ]
  },
  {
   "cell_type": "code",
   "execution_count": 5,
   "id": "b61d04bb",
   "metadata": {},
   "outputs": [],
   "source": [
    "i = 0\n",
    "while len(oxygen) > 1:  \n",
    "    counts = np.bincount([int(x[i]) for x in oxygen])\n",
    "    bit = 1 if counts[0] == counts[1] else counts.argmax()\n",
    "    oxygen = [x for x in oxygen if x[i]==str(bit)]\n",
    "    i += 1"
   ]
  },
  {
   "cell_type": "code",
   "execution_count": 6,
   "id": "a2f7e85b",
   "metadata": {},
   "outputs": [],
   "source": [
    "i = 0\n",
    "while len(co2) > 1:  \n",
    "    counts = np.bincount([int(x[i]) for x in co2])\n",
    "    bit = 0 if counts[0] == counts[1] else counts.argmin()\n",
    "    co2 = [x for x in co2 if x[i]==str(bit)]\n",
    "    i += 1"
   ]
  },
  {
   "cell_type": "code",
   "execution_count": 7,
   "id": "d9733782",
   "metadata": {},
   "outputs": [
    {
     "name": "stdout",
     "output_type": "stream",
     "text": [
      "903810\n"
     ]
    }
   ],
   "source": [
    "print(int(oxygen[0],2) * int(co2[0],2))"
   ]
  },
  {
   "cell_type": "code",
   "execution_count": null,
   "id": "8905cdde",
   "metadata": {},
   "outputs": [],
   "source": []
  }
 ],
 "metadata": {
  "kernelspec": {
   "display_name": "Python 3 (ipykernel)",
   "language": "python",
   "name": "python3"
  },
  "language_info": {
   "codemirror_mode": {
    "name": "ipython",
    "version": 3
   },
   "file_extension": ".py",
   "mimetype": "text/x-python",
   "name": "python",
   "nbconvert_exporter": "python",
   "pygments_lexer": "ipython3",
   "version": "3.9.7"
  }
 },
 "nbformat": 4,
 "nbformat_minor": 5
}
