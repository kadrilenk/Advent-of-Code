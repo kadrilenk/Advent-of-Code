{
 "cells": [
  {
   "cell_type": "code",
   "execution_count": 12,
   "id": "62dfc439",
   "metadata": {},
   "outputs": [
    {
     "data": {
      "text/plain": [
       "{0: 0, 1: 1, 2: 4, 3: 9, 4: 16}"
      ]
     },
     "execution_count": 12,
     "metadata": {},
     "output_type": "execute_result"
    }
   ],
   "source": [
    "d = {i: i*i for i in range (5)}\n",
    "d"
   ]
  },
  {
   "cell_type": "code",
   "execution_count": 13,
   "id": "86292895",
   "metadata": {},
   "outputs": [
    {
     "name": "stdout",
     "output_type": "stream",
     "text": [
      "0 0\n",
      "1 1\n",
      "2 4\n",
      "3 9\n",
      "4 16\n"
     ]
    }
   ],
   "source": [
    "for k, v in d.items():\n",
    "    print(k,v)"
   ]
  },
  {
   "cell_type": "code",
   "execution_count": null,
   "id": "6f8c5af0",
   "metadata": {},
   "outputs": [],
   "source": []
  },
  {
   "cell_type": "code",
   "execution_count": 4,
   "id": "3fc16822",
   "metadata": {},
   "outputs": [
    {
     "data": {
      "text/plain": [
       "[0, 1, 2, 0, 1, 2, 0, 1, 2, 0]"
      ]
     },
     "execution_count": 4,
     "metadata": {},
     "output_type": "execute_result"
    }
   ],
   "source": [
    "[i%3 for i in range (10)]"
   ]
  },
  {
   "cell_type": "code",
   "execution_count": 3,
   "id": "fe9db2f1",
   "metadata": {},
   "outputs": [
    {
     "data": {
      "text/plain": [
       "{0, 1, 2}"
      ]
     },
     "execution_count": 3,
     "metadata": {},
     "output_type": "execute_result"
    }
   ],
   "source": [
    "{i%3 for i in range (10)}"
   ]
  },
  {
   "cell_type": "code",
   "execution_count": 14,
   "id": "0d163f02",
   "metadata": {},
   "outputs": [
    {
     "data": {
      "text/plain": [
       "465"
      ]
     },
     "execution_count": 14,
     "metadata": {},
     "output_type": "execute_result"
    }
   ],
   "source": [
    "n = 0\n",
    "for i in range(31):\n",
    "    n += i\n",
    "n"
   ]
  },
  {
   "cell_type": "code",
   "execution_count": 22,
   "id": "bab58b11",
   "metadata": {},
   "outputs": [
    {
     "data": {
      "text/plain": [
       "465"
      ]
     },
     "execution_count": 22,
     "metadata": {},
     "output_type": "execute_result"
    }
   ],
   "source": [
    "sum([i for i in range(31)])"
   ]
  },
  {
   "cell_type": "code",
   "execution_count": null,
   "id": "c9fc3756",
   "metadata": {},
   "outputs": [],
   "source": []
  },
  {
   "cell_type": "code",
   "execution_count": null,
   "id": "10e578ba",
   "metadata": {},
   "outputs": [],
   "source": []
  },
  {
   "cell_type": "code",
   "execution_count": null,
   "id": "4ee805f3",
   "metadata": {},
   "outputs": [],
   "source": []
  },
  {
   "cell_type": "code",
   "execution_count": 23,
   "id": "de258ac3",
   "metadata": {},
   "outputs": [],
   "source": [
    "import numpy as np"
   ]
  },
  {
   "cell_type": "code",
   "execution_count": 25,
   "id": "de4b2687",
   "metadata": {},
   "outputs": [],
   "source": [
    "with open('05.txt') as f:\n",
    "    data = [line.split('->')[i].strip().split(',') \n",
    "        for line in f.readlines() for i in [0,1]]\n",
    "    data = np.array(data, int).reshape(-1,4)"
   ]
  },
  {
   "cell_type": "code",
   "execution_count": 26,
   "id": "e7000f46",
   "metadata": {},
   "outputs": [],
   "source": [
    "def chart(data, diagonals=True):\n",
    "    grid = np.zeros((np.max(data)+1, np.max(data)+1), int)\n",
    "    for x1,y1,x2,y2 in data:\n",
    "        if x1 == x2:\n",
    "            grid[min(y1,y2):max(y1,y2)+1, x1] += 1\n",
    "        elif y1 == y2:\n",
    "            grid[y1, min(x1,x2):max(x1,x2)+1] += 1\n",
    "        elif diagonals:\n",
    "            for x,y in  zip(range(x1,x2+1) if x2>x1 else range(x2,x1+1)[::-1],\n",
    "                            range(y1,y2+1) if y2>y1 else range(y2,y1+1)[::-1]):\n",
    "                grid[y, x] += 1\n",
    "    return grid"
   ]
  },
  {
   "cell_type": "code",
   "execution_count": 30,
   "id": "63757e4e",
   "metadata": {},
   "outputs": [
    {
     "data": {
      "text/plain": [
       "6189"
      ]
     },
     "execution_count": 30,
     "metadata": {},
     "output_type": "execute_result"
    }
   ],
   "source": [
    "(chart(data, diagonals=False)>1).sum()"
   ]
  },
  {
   "cell_type": "code",
   "execution_count": 40,
   "id": "2a892052",
   "metadata": {},
   "outputs": [
    {
     "name": "stdout",
     "output_type": "stream",
     "text": [
      "6189\n",
      "19164\n"
     ]
    }
   ],
   "source": [
    "# answer = lambda x: print(np.bincount(x.flatten())[2:].sum())\n",
    "answer = lambda x: print((x>1).sum())\n",
    "\n",
    "answer(chart(data, diagonals=False))\n",
    "answer(chart(data, diagonals=True))"
   ]
  },
  {
   "cell_type": "code",
   "execution_count": null,
   "id": "6fdd786c",
   "metadata": {},
   "outputs": [],
   "source": []
  },
  {
   "cell_type": "code",
   "execution_count": null,
   "id": "d258d2d7",
   "metadata": {},
   "outputs": [],
   "source": []
  }
 ],
 "metadata": {
  "kernelspec": {
   "display_name": "Python 3 (ipykernel)",
   "language": "python",
   "name": "python3"
  },
  "language_info": {
   "codemirror_mode": {
    "name": "ipython",
    "version": 3
   },
   "file_extension": ".py",
   "mimetype": "text/x-python",
   "name": "python",
   "nbconvert_exporter": "python",
   "pygments_lexer": "ipython3",
   "version": "3.9.7"
  }
 },
 "nbformat": 4,
 "nbformat_minor": 5
}
