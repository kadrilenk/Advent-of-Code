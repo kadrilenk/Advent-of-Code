{
 "cells": [
  {
   "cell_type": "code",
   "execution_count": 7,
   "metadata": {},
   "outputs": [],
   "source": [
    "# import numpy as np\n",
    "import re\n",
    "import itertools\n",
    "import heapq\n",
    "import time\n",
    "# import collections"
   ]
  },
  {
   "cell_type": "code",
   "execution_count": 8,
   "metadata": {},
   "outputs": [],
   "source": [
    "# input_data = [d.strip() for d in open('input14.txt')]\n",
    "input_data = [0,12,6,13,20,1,17]\n",
    "# input_data = [0,3,6]"
   ]
  },
  {
   "cell_type": "code",
   "execution_count": 9,
   "metadata": {},
   "outputs": [
    {
     "data": {
      "text/plain": [
       "{0: [8, 1], 12: [2], 6: [3], 13: [4], 20: [5], 1: [6], 17: [7]}"
      ]
     },
     "execution_count": 9,
     "metadata": {},
     "output_type": "execute_result"
    }
   ],
   "source": [
    "recency = {}\n",
    "\n",
    "for i, n in enumerate(input_data):\n",
    "    recency[n] = [i+1]\n",
    "recency[input_data[0]].insert(0, len(input_data)+1)\n",
    "        \n",
    "recency"
   ]
  },
  {
   "cell_type": "code",
   "execution_count": 10,
   "metadata": {},
   "outputs": [
    {
     "name": "stdout",
     "output_type": "stream",
     "text": [
      "620\n",
      "0.006022214889526367 seconds\n"
     ]
    }
   ],
   "source": [
    "start_time = time.time()\n",
    "\n",
    "most_recent = 0\n",
    "turn = len(input_data)+2\n",
    "new = False\n",
    "\n",
    "rounds = 2020\n",
    "# rounds = 30000000\n",
    "\n",
    "while turn <= rounds:\n",
    "    if new:\n",
    "        most_recent = 0\n",
    "        recency[most_recent].append(turn)\n",
    "        new = False\n",
    "        \n",
    "    elif most_recent in recency.keys():        \n",
    "        most_recent = recency[most_recent][0] - recency[most_recent][1]\n",
    "\n",
    "        if most_recent in recency.keys():\n",
    "            recency[most_recent].append(turn)\n",
    "            new = False\n",
    "        else:\n",
    "            recency[most_recent] = [turn]\n",
    "            new = True\n",
    "    else:\n",
    "        recency[most_recent] = [turn]\n",
    "        most_recent = 0\n",
    "        new = False\n",
    "\n",
    "    recency[most_recent] = heapq.nlargest(2, recency[most_recent])\n",
    "    turn += 1\n",
    "\n",
    "print(most_recent)\n",
    "print(f'{time.time() - start_time} seconds')\n",
    "# part 1: 620\n",
    "# part 2: 110871"
   ]
  },
  {
   "cell_type": "code",
   "execution_count": null,
   "metadata": {},
   "outputs": [],
   "source": []
  }
 ],
 "metadata": {
  "kernelspec": {
   "display_name": "Python 3",
   "language": "python",
   "name": "python3"
  },
  "language_info": {
   "codemirror_mode": {
    "name": "ipython",
    "version": 3
   },
   "file_extension": ".py",
   "mimetype": "text/x-python",
   "name": "python",
   "nbconvert_exporter": "python",
   "pygments_lexer": "ipython3",
   "version": "3.7.6"
  }
 },
 "nbformat": 4,
 "nbformat_minor": 4
}
