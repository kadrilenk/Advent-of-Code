{
 "cells": [
  {
   "cell_type": "code",
   "execution_count": 1,
   "metadata": {},
   "outputs": [],
   "source": [
    "import numpy as np\n",
    "import re\n",
    "from copy import deepcopy"
   ]
  },
  {
   "cell_type": "code",
   "execution_count": 2,
   "metadata": {},
   "outputs": [],
   "source": [
    "input_data = []\n",
    "\n",
    "with open('input09.txt') as f:\n",
    "    for line in f:\n",
    "        input_data.append(int(line.strip()))"
   ]
  },
  {
   "cell_type": "markdown",
   "metadata": {},
   "source": [
    "# Part 1"
   ]
  },
  {
   "cell_type": "code",
   "execution_count": 3,
   "metadata": {},
   "outputs": [
    {
     "name": "stdout",
     "output_type": "stream",
     "text": [
      "18272118\n"
     ]
    }
   ],
   "source": [
    "preamble_length = 25\n",
    "\n",
    "for start_pos in range(len(input_data) - preamble_length - 1):\n",
    "        \n",
    "    preamble = input_data[start_pos:preamble_length+start_pos+1]\n",
    "    success = False\n",
    "\n",
    "    for i in range(preamble_length):\n",
    "        for j in range(i+1, preamble_length):\n",
    "            if preamble[i] + preamble[j] == preamble[preamble_length]:\n",
    "                success = True\n",
    "\n",
    "    if not success:\n",
    "        invalid_number = preamble[preamble_length]\n",
    "        print(invalid_number)\n",
    "# 18272118"
   ]
  },
  {
   "cell_type": "markdown",
   "metadata": {},
   "source": [
    "# Part 2"
   ]
  },
  {
   "cell_type": "code",
   "execution_count": 4,
   "metadata": {},
   "outputs": [
    {
     "name": "stdout",
     "output_type": "stream",
     "text": [
      "2186361\n"
     ]
    }
   ],
   "source": [
    "for start_pos in range(len(input_data)):\n",
    "    for end_pos in range(start_pos+2, len(input_data)):\n",
    "        if sum(input_data[start_pos:end_pos]) == invalid_number:\n",
    "            print(min(input_data[start_pos:end_pos])+max(input_data[start_pos:end_pos]))\n",
    "        elif sum(input_data[start_pos:end_pos]) > invalid_number:\n",
    "            break\n",
    "# 2186361"
   ]
  },
  {
   "cell_type": "code",
   "execution_count": null,
   "metadata": {},
   "outputs": [],
   "source": []
  },
  {
   "cell_type": "code",
   "execution_count": null,
   "metadata": {},
   "outputs": [],
   "source": []
  }
 ],
 "metadata": {
  "kernelspec": {
   "display_name": "Python 3",
   "language": "python",
   "name": "python3"
  },
  "language_info": {
   "codemirror_mode": {
    "name": "ipython",
    "version": 3
   },
   "file_extension": ".py",
   "mimetype": "text/x-python",
   "name": "python",
   "nbconvert_exporter": "python",
   "pygments_lexer": "ipython3",
   "version": "3.7.6"
  }
 },
 "nbformat": 4,
 "nbformat_minor": 4
}
