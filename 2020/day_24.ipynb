{
 "cells": [
  {
   "cell_type": "code",
   "execution_count": 1,
   "metadata": {},
   "outputs": [],
   "source": [
    "import numpy as np\n",
    "import itertools"
   ]
  },
  {
   "cell_type": "code",
   "execution_count": 2,
   "metadata": {},
   "outputs": [],
   "source": [
    "input_data = [d.strip() for d in open('input24.txt')]"
   ]
  },
  {
   "cell_type": "markdown",
   "metadata": {},
   "source": [
    "# Part 1"
   ]
  },
  {
   "cell_type": "code",
   "execution_count": 3,
   "metadata": {
    "scrolled": false
   },
   "outputs": [],
   "source": [
    "instructions = [] \n",
    "for i in input_data:\n",
    "    ins = []\n",
    "    while len(i) > 0:\n",
    "        if i[:2] in ['se','sw','nw','ne']:\n",
    "            ins.append(i[:2])\n",
    "            i = i[2:]\n",
    "        elif i[:1] in ['e','w']:\n",
    "            ins.append(i[:1])\n",
    "            i = i[1:]\n",
    "    instructions.append(ins)"
   ]
  },
  {
   "cell_type": "code",
   "execution_count": 4,
   "metadata": {},
   "outputs": [
    {
     "data": {
      "text/plain": [
       "326"
      ]
     },
     "execution_count": 4,
     "metadata": {},
     "output_type": "execute_result"
    }
   ],
   "source": [
    "floor = np.zeros((151,151))\n",
    "pos = (75,75)\n",
    "\n",
    "for ins in instructions:\n",
    "    for i in ins:\n",
    "        if i == 'e':\n",
    "            pos = (pos[0],pos[1]+1)\n",
    "        elif i == 'w':\n",
    "            pos = (pos[0],pos[1]-1)\n",
    "        elif i == 'ne':\n",
    "            pos = (pos[0]-1,pos[1]+1)\n",
    "        elif i == 'nw':\n",
    "            pos = (pos[0]-1,pos[1])\n",
    "        elif i == 'se':\n",
    "            pos = (pos[0]+1,pos[1])\n",
    "        elif i == 'sw':\n",
    "            pos = (pos[0]+1,pos[1]-1)\n",
    "    if floor[pos] == 0:\n",
    "        floor[pos] = 1\n",
    "    elif floor[pos] == 1:\n",
    "        floor[pos] = 0\n",
    "    pos = (75,75)\n",
    "\n",
    "int(floor.sum())\n",
    "# 326"
   ]
  },
  {
   "cell_type": "markdown",
   "metadata": {},
   "source": [
    "# Part 2"
   ]
  },
  {
   "cell_type": "code",
   "execution_count": 5,
   "metadata": {},
   "outputs": [],
   "source": [
    "def get_black_neighbours(p):\n",
    "    p = tuple(p)\n",
    "    all_neighbours = [(p[0],p[1]+1), (p[0],p[1]-1), (p[0]-1,p[1]+1),\n",
    "                  (p[0]-1,p[1]), (p[0]+1,p[1]), (p[0]+1,p[1]-1)]\n",
    "\n",
    "    neighbours = [i for i in all_neighbours if \n",
    "                  i[0] >= 0 and i[1] >= 0 and i[0]<floor.shape[0] and i[1]<floor.shape[1]]\n",
    "    \n",
    "    black_neighbours = 0\n",
    "    for n in neighbours:\n",
    "        if current_floor[n]==1:\n",
    "            black_neighbours += 1\n",
    "    \n",
    "    return black_neighbours"
   ]
  },
  {
   "cell_type": "code",
   "execution_count": 6,
   "metadata": {},
   "outputs": [],
   "source": [
    "current_floor = floor.copy()\n",
    "new_floor = current_floor.copy()"
   ]
  },
  {
   "cell_type": "code",
   "execution_count": 7,
   "metadata": {},
   "outputs": [
    {
     "name": "stdout",
     "output_type": "stream",
     "text": [
      "3979\n"
     ]
    }
   ],
   "source": [
    "for day in range(100):\n",
    "    \n",
    "    for w in np.array(np.where(current_floor == 0)).T:\n",
    "        if get_black_neighbours(w) == 2:\n",
    "            new_floor[tuple(w)] = 1\n",
    "    \n",
    "    for b in np.array(np.where(current_floor == 1)).T:\n",
    "        if get_black_neighbours(b) == 0 or get_black_neighbours(b) > 2:\n",
    "            new_floor[tuple(b)] = 0\n",
    "            \n",
    "    current_floor = new_floor.copy()\n",
    "print(int(current_floor.sum()))\n",
    "# 3979"
   ]
  }
 ],
 "metadata": {
  "kernelspec": {
   "display_name": "Python 3",
   "language": "python",
   "name": "python3"
  },
  "language_info": {
   "codemirror_mode": {
    "name": "ipython",
    "version": 3
   },
   "file_extension": ".py",
   "mimetype": "text/x-python",
   "name": "python",
   "nbconvert_exporter": "python",
   "pygments_lexer": "ipython3",
   "version": "3.7.6"
  }
 },
 "nbformat": 4,
 "nbformat_minor": 4
}
