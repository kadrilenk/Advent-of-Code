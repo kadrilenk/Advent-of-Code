{
 "cells": [
  {
   "cell_type": "code",
   "execution_count": 1,
   "metadata": {},
   "outputs": [],
   "source": [
    "import numpy as np\n",
    "import re\n",
    "from copy import deepcopy\n",
    "import itertools\n",
    "import math\n",
    "from collections import defaultdict"
   ]
  },
  {
   "cell_type": "code",
   "execution_count": 2,
   "metadata": {},
   "outputs": [],
   "source": [
    "input_data = []\n",
    "\n",
    "with open('input11.txt') as f:\n",
    "    for line in f:\n",
    "        input_data.append(line.strip())\n",
    "for i, l in enumerate(input_data):\n",
    "    input_data[i] = [i for i in l]"
   ]
  },
  {
   "cell_type": "code",
   "execution_count": 3,
   "metadata": {},
   "outputs": [],
   "source": [
    "def get_adjacent_seats(y, x):\n",
    "    adjacent_seats = []\n",
    "\n",
    "    for r in itertools.product([y, y-1, y+1], [x, x-1, x+1]):\n",
    "        adjacent_seats.append(r)\n",
    "\n",
    "    not_adjacent_seats = []\n",
    "    for i in adjacent_seats:\n",
    "        if i[0] == y and i[1] == x:\n",
    "            not_adjacent_seats.append(i)\n",
    "        if i[0] < 0 or i[1] < 0 or i[0] >= len(current_seats) or i[1] >= len(current_seats[0]):\n",
    "            not_adjacent_seats.append(i)\n",
    "\n",
    "    for i in not_adjacent_seats:\n",
    "        adjacent_seats.remove(i)\n",
    "\n",
    "    return adjacent_seats"
   ]
  },
  {
   "cell_type": "code",
   "execution_count": 4,
   "metadata": {},
   "outputs": [],
   "source": [
    "def count_adjacent_occupied_seats(adjacent_seats):\n",
    "    occ_seat_count = 0\n",
    "    for s in adjacent_seats:\n",
    "        if current_seats[s[0]][s[1]] == '#':\n",
    "            occ_seat_count += 1\n",
    "    return occ_seat_count"
   ]
  },
  {
   "cell_type": "code",
   "execution_count": 5,
   "metadata": {},
   "outputs": [],
   "source": [
    "def count_occupied_seats(seats):\n",
    "    occupied_seats = 0\n",
    "    for y, seat_line in enumerate(seats):\n",
    "        for x, seat in enumerate(seat_line):\n",
    "            if seats[y][x] == '#':\n",
    "                occupied_seats += 1\n",
    "    return occupied_seats"
   ]
  },
  {
   "cell_type": "code",
   "execution_count": 6,
   "metadata": {},
   "outputs": [],
   "source": [
    "current_seats = deepcopy(input_data) \n",
    "new_seats = deepcopy(current_seats)"
   ]
  },
  {
   "cell_type": "code",
   "execution_count": 7,
   "metadata": {},
   "outputs": [
    {
     "name": "stdout",
     "output_type": "stream",
     "text": [
      "2453\n"
     ]
    }
   ],
   "source": [
    "keep_running = True\n",
    "\n",
    "while keep_running:\n",
    "    for y, seat_line in enumerate(current_seats):\n",
    "        for x, seat in enumerate(seat_line):\n",
    "            if seat == '.':\n",
    "                pass\n",
    "            elif seat == 'L':\n",
    "                if count_adjacent_occupied_seats(get_adjacent_seats(y,x)) == 0:\n",
    "                    new_seats[y][x] = '#'\n",
    "            elif seat == '#':\n",
    "                if count_adjacent_occupied_seats(get_adjacent_seats(y,x)) >= 4:\n",
    "                    new_seats[y][x] = 'L'\n",
    "\n",
    "    if count_occupied_seats(new_seats) == count_occupied_seats(current_seats):\n",
    "        keep_running = False\n",
    "        print(count_occupied_seats(new_seats))\n",
    "\n",
    "    current_seats = deepcopy(new_seats)\n",
    "    \n",
    "# 2453"
   ]
  },
  {
   "cell_type": "markdown",
   "metadata": {},
   "source": [
    "# Part 2"
   ]
  },
  {
   "cell_type": "code",
   "execution_count": 9,
   "metadata": {},
   "outputs": [],
   "source": [
    "directions = []\n",
    "for r in itertools.product([1,0,-1], [1,0,-1]):\n",
    "    directions.append(r)\n",
    "directions.remove((0,0))"
   ]
  },
  {
   "cell_type": "code",
   "execution_count": 10,
   "metadata": {},
   "outputs": [],
   "source": [
    "def find_seat(y, x, y_direction, x_direction):\n",
    "    keep_running = True\n",
    "    while keep_running:\n",
    "        y += y_direction\n",
    "        x += x_direction\n",
    "        if y < 0 or x < 0 or x >= len(current_seats[0]) or y >= len(current_seats):\n",
    "            keep_running = False\n",
    "            return '.'\n",
    "        elif current_seats[y][x] == '#' or current_seats[y][x] == 'L':\n",
    "            keep_running = False\n",
    "            return current_seats[y][x]"
   ]
  },
  {
   "cell_type": "code",
   "execution_count": 11,
   "metadata": {},
   "outputs": [],
   "source": [
    "def count_occupied(y,x):\n",
    "    occupied_seats = 0\n",
    "    for d in directions:\n",
    "        if find_seat(y,x,d[0],d[1]) == '#':\n",
    "            occupied_seats += 1\n",
    "    return occupied_seats"
   ]
  },
  {
   "cell_type": "code",
   "execution_count": 13,
   "metadata": {},
   "outputs": [
    {
     "name": "stdout",
     "output_type": "stream",
     "text": [
      "2159\n"
     ]
    }
   ],
   "source": [
    "current_seats = deepcopy(input_data) \n",
    "new_seats = deepcopy(current_seats)\n",
    "keep_running = True\n",
    "\n",
    "while keep_running:\n",
    "    for y, seat_line in enumerate(current_seats):\n",
    "        for x, seat in enumerate(seat_line):\n",
    "            if seat == '.':\n",
    "                pass\n",
    "            elif seat == 'L':\n",
    "                if count_occupied(y,x) == 0:\n",
    "                    new_seats[y][x] = '#'\n",
    "            elif seat == '#':\n",
    "                if count_occupied(y,x) >= 5:\n",
    "                    new_seats[y][x] = 'L'\n",
    "\n",
    "    if count_occupied_seats(new_seats) == count_occupied_seats(current_seats):\n",
    "        keep_running = False\n",
    "        print(count_occupied_seats(new_seats))\n",
    "\n",
    "    current_seats = deepcopy(new_seats)\n",
    "    \n",
    "# 2159"
   ]
  },
  {
   "cell_type": "code",
   "execution_count": null,
   "metadata": {},
   "outputs": [],
   "source": []
  }
 ],
 "metadata": {
  "kernelspec": {
   "display_name": "Python 3",
   "language": "python",
   "name": "python3"
  },
  "language_info": {
   "codemirror_mode": {
    "name": "ipython",
    "version": 3
   },
   "file_extension": ".py",
   "mimetype": "text/x-python",
   "name": "python",
   "nbconvert_exporter": "python",
   "pygments_lexer": "ipython3",
   "version": "3.7.6"
  }
 },
 "nbformat": 4,
 "nbformat_minor": 4
}
