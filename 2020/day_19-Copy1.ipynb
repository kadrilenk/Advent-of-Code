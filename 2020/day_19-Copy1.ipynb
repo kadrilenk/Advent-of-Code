{
 "cells": [
  {
   "cell_type": "code",
   "execution_count": null,
   "metadata": {},
   "outputs": [],
   "source": [
    "import re\n",
    "import itertools"
   ]
  },
  {
   "cell_type": "code",
   "execution_count": null,
   "metadata": {},
   "outputs": [],
   "source": [
    "input_data = [d.strip() for d in open('input19_2.txt')]\n",
    "\n",
    "empty_line = [i for i,l in enumerate(input_data) if l == ''][0]\n",
    "rules = input_data[:empty_line]\n",
    "messages = input_data[empty_line+1:]"
   ]
  },
  {
   "cell_type": "code",
   "execution_count": null,
   "metadata": {},
   "outputs": [],
   "source": [
    "letters = {}\n",
    "\n",
    "for r in rules:\n",
    "    if '\"' in r:\n",
    "        letters[int(re.search('(\\d+):',r).group(1))] = re.search(': (.+)',r).group(1).replace('\"','')\n",
    "        \n",
    "letters"
   ]
  },
  {
   "cell_type": "code",
   "execution_count": null,
   "metadata": {},
   "outputs": [],
   "source": [
    "rule_dic = {}\n",
    "\n",
    "for r in rules:\n",
    "    if '\"' not in r:\n",
    "        rule_num = int(re.search('(\\d+):',r).group(1))\n",
    "        rule = re.search(': (.+)',r).group(1).replace('\"','').split(' | ')\n",
    "        \n",
    "        rule_list = []\n",
    "        for i in rule:\n",
    "            i = list(map(int, i.split()))\n",
    "            rule_list.append(i)\n",
    "        \n",
    "        rule_dic[rule_num] = rule_list\n",
    "        \n",
    "rule_dic"
   ]
  },
  {
   "cell_type": "markdown",
   "metadata": {},
   "source": [
    "# Part 1"
   ]
  },
  {
   "cell_type": "code",
   "execution_count": null,
   "metadata": {},
   "outputs": [],
   "source": [
    "for rule_num in rule_dic:\n",
    "    for i, rule in enumerate(rule_dic[rule_num]):\n",
    "        replaced_rule = [letters.get(item,item) for item in rule]\n",
    "        if all(map(lambda x: isinstance(x, str), replaced_rule)):\n",
    "            replaced_rule = ''.join(replaced_rule)\n",
    "        rule_dic[rule_num][i] = replaced_rule\n",
    "rule_dic"
   ]
  },
  {
   "cell_type": "code",
   "execution_count": null,
   "metadata": {},
   "outputs": [],
   "source": [
    "letters = {}\n",
    "\n",
    "for rule_num in rule_dic:\n",
    "    if all(map(lambda x: isinstance(x, str), rule_dic[rule_num])):\n",
    "        letters[rule_num] = rule_dic[rule_num]\n",
    "\n",
    "letters"
   ]
  },
  {
   "cell_type": "code",
   "execution_count": null,
   "metadata": {},
   "outputs": [],
   "source": [
    "for i in letters:\n",
    "    del rule_dic[i]\n",
    "rule_dic"
   ]
  },
  {
   "cell_type": "code",
   "execution_count": null,
   "metadata": {},
   "outputs": [],
   "source": [
    "# second round"
   ]
  },
  {
   "cell_type": "code",
   "execution_count": null,
   "metadata": {},
   "outputs": [],
   "source": [
    "for rule_num in rule_dic:\n",
    "    for i, rule in enumerate(rule_dic[rule_num]):\n",
    "        replaced_rule = [letters.get(item,item) for item in rule]\n",
    "        if all(map(lambda x: isinstance(x, str), replaced_rule)):\n",
    "            replaced_rule = ''.join(replaced_rule)\n",
    "        rule_dic[rule_num][i] = replaced_rule\n",
    "rule_dic"
   ]
  },
  {
   "cell_type": "code",
   "execution_count": null,
   "metadata": {},
   "outputs": [],
   "source": [
    "for rule_num in rule_dic:\n",
    "    if len(rule_dic[rule_num]) > 1:\n",
    "        new_value = []\n",
    "        for i, r in enumerate(rule_dic[rule_num]):\n",
    "            combos = list(itertools.product(rule_dic[rule_num][i][0],rule_dic[rule_num][i][1]))\n",
    "            combos = [i[0]+i[1] for i in combos]\n",
    "            new_value = new_value + combos\n",
    "        rule_dic[rule_num] = new_value"
   ]
  },
  {
   "cell_type": "code",
   "execution_count": null,
   "metadata": {},
   "outputs": [],
   "source": [
    "rule_dic"
   ]
  },
  {
   "cell_type": "code",
   "execution_count": null,
   "metadata": {},
   "outputs": [],
   "source": []
  },
  {
   "cell_type": "code",
   "execution_count": null,
   "metadata": {},
   "outputs": [],
   "source": []
  }
 ],
 "metadata": {
  "kernelspec": {
   "display_name": "Python 3",
   "language": "python",
   "name": "python3"
  },
  "language_info": {
   "codemirror_mode": {
    "name": "ipython",
    "version": 3
   },
   "file_extension": ".py",
   "mimetype": "text/x-python",
   "name": "python",
   "nbconvert_exporter": "python",
   "pygments_lexer": "ipython3",
   "version": "3.7.6"
  }
 },
 "nbformat": 4,
 "nbformat_minor": 4
}
