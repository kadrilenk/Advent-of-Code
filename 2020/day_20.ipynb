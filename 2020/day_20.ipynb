{
 "cells": [
  {
   "cell_type": "code",
   "execution_count": 1,
   "metadata": {},
   "outputs": [],
   "source": [
    "import re\n",
    "import numpy as np\n",
    "import itertools\n",
    "import time"
   ]
  },
  {
   "cell_type": "code",
   "execution_count": 2,
   "metadata": {},
   "outputs": [],
   "source": [
    "input_data = [d.strip() for d in open('input20.txt')]"
   ]
  },
  {
   "cell_type": "code",
   "execution_count": 3,
   "metadata": {
    "scrolled": true
   },
   "outputs": [
    {
     "data": {
      "text/plain": [
       "144"
      ]
     },
     "execution_count": 3,
     "metadata": {},
     "output_type": "execute_result"
    }
   ],
   "source": [
    "tiles = {}\n",
    "\n",
    "for i in [i for i,l in enumerate(input_data) if 'Tile' in l]:\n",
    "    tiles[int(re.search('(\\d+)',input_data[i]).group(1))] = input_data[i+1:i+11]\n",
    "    \n",
    "for t in tiles:\n",
    "    for i, l in enumerate(tiles[t]):\n",
    "        tiles[t][i] = [x for x in l]\n",
    "    tiles[t] = np.array(tiles[t])\n",
    "len(tiles)"
   ]
  },
  {
   "cell_type": "code",
   "execution_count": 4,
   "metadata": {},
   "outputs": [
    {
     "data": {
      "text/plain": [
       "1056"
      ]
     },
     "execution_count": 4,
     "metadata": {},
     "output_type": "execute_result"
    }
   ],
   "source": [
    "pairs = []\n",
    "for t1, t2 in list(itertools.permutations([i for i in tiles],2)):\n",
    "    for r1, r2 in itertools.product([0,1,2,3],[0,1,2,3]):\n",
    "        tile1 = np.rot90(tiles[t1],r1)\n",
    "        tile2 = np.rot90(tiles[t2],r2)\n",
    "            \n",
    "        if all(tile1[:,-1] == tile2[:,0]):\n",
    "            pairs.append([{t1:tile1},{t2:tile2}])\n",
    "            \n",
    "        if all(tile1.T[:,-1] == tile2.T[:,0]):\n",
    "            pairs.append([{t1:tile1.T},{t2:tile2.T}])\n",
    "            \n",
    "        if all(tile1.T[:,-1] == tile2[:,0]):\n",
    "            pairs.append([{t1:tile1.T},{t2:tile2}])\n",
    "            \n",
    "        if all(tile1[:,-1] == tile2.T[:,0]):\n",
    "            pairs.append([{t1:tile1},{t2:tile2.T}])\n",
    "        \n",
    "len(pairs) # 1056"
   ]
  },
  {
   "cell_type": "code",
   "execution_count": 5,
   "metadata": {},
   "outputs": [
    {
     "name": "stdout",
     "output_type": "stream",
     "text": [
      "864\n"
     ]
    }
   ],
   "source": [
    "fours = []\n",
    "for pair1, pair2 in list(itertools.permutations(pairs,2)):    \n",
    "    tile1_id, tile2_id = [list(i.keys())[0] for i in pair1]\n",
    "    tile1, tile2 = [list(i.values())[0] for i in pair1]\n",
    "    tile3_id, tile4_id = [list(i.keys())[0] for i in pair2]\n",
    "    tile3, tile4 = [list(i.values())[0] for i in pair2]\n",
    "        \n",
    "    if all(tile2[:,-1] == tile3[:,0]) and (tile1_id != tile2_id != tile3_id != tile4_id):\n",
    "        fours.append([{tile1_id:tile1},{tile2_id:tile2}, {tile3_id:tile3}, {tile4_id:tile4}])\n",
    "print(len(fours)) # 864"
   ]
  },
  {
   "cell_type": "code",
   "execution_count": 6,
   "metadata": {
    "scrolled": false
   },
   "outputs": [
    {
     "name": "stdout",
     "output_type": "stream",
     "text": [
      "480\n"
     ]
    }
   ],
   "source": [
    "eights = []\n",
    "for t in list(itertools.permutations(fours,2)):\n",
    "    tile1_id, tile2_id, tile3_id, tile4_id = [list(i.keys())[0] for i in t[0]]\n",
    "    tile1, tile2, tile3, tile4 = [list(i.values())[0] for i in t[0]]\n",
    "    \n",
    "    tile5_id, tile6_id, tile7_id, tile8_id = [list(i.keys())[0] for i in t[1]]\n",
    "    tile5, tile6, tile7, tile8 = [list(i.values())[0] for i in t[1]]\n",
    "        \n",
    "    if all(tile4[:,-1] == tile5[:,0]) and (tile1_id != tile2_id != tile3_id != tile4_id != tile5_id != tile6_id != tile7_id != tile8_id):\n",
    "        eights.append([{tile1_id:tile1},{tile2_id:tile2},{tile3_id:tile3},{tile4_id:tile4},\n",
    "                                {tile5_id:tile5},{tile6_id:tile6},{tile7_id:tile7},{tile8_id:tile8}])\n",
    "print(len(eights)) # 480"
   ]
  },
  {
   "cell_type": "code",
   "execution_count": 7,
   "metadata": {},
   "outputs": [
    {
     "data": {
      "text/plain": [
       "96"
      ]
     },
     "execution_count": 7,
     "metadata": {},
     "output_type": "execute_result"
    }
   ],
   "source": [
    "rows = []\n",
    "for t1 in eights:\n",
    "    for t2 in eights:\n",
    "        a = [list(i.values())[0] for i in t1[4:]]\n",
    "        b = [list(i.values())[0] for i in t2[:4]]\n",
    "        if all([all(a[i].flatten() == b[i].flatten()) for i in range(4)]):\n",
    "\n",
    "            entry = []\n",
    "            for i in range(8):\n",
    "                entry.append({[list(i.keys())[0] for i in t1][i]:[list(i.values())[0] for i in t1][i]})\n",
    "            for i in range(4):\n",
    "                entry.append({[list(i.keys())[0] for i in t2[4:]][i]:[list(i.values())[0] for i in t2[4:]][i]})\n",
    "            rows.append(entry)\n",
    "\n",
    "len(rows) # 96"
   ]
  },
  {
   "cell_type": "markdown",
   "metadata": {},
   "source": [
    "# Rows"
   ]
  },
  {
   "cell_type": "code",
   "execution_count": 8,
   "metadata": {},
   "outputs": [
    {
     "data": {
      "text/plain": [
       "88"
      ]
     },
     "execution_count": 8,
     "metadata": {},
     "output_type": "execute_result"
    }
   ],
   "source": [
    "row_pairs = []\n",
    "for row_pair in list(itertools.permutations(rows,2)):\n",
    "    top_ids = [list(i.keys())[0] for i in row_pair[1]]\n",
    "    bottom_ids = [list(i.keys())[0] for i in row_pair[0]]\n",
    "    top = np.array([list(i.values())[0][0,:] for i in row_pair[1]]).flatten()\n",
    "    bottom = np.array([list(i.values())[0][-1,:] for i in row_pair[0]]).flatten()\n",
    "    \n",
    "    if all(bottom==top) and len(set(top_ids+bottom_ids))==24:\n",
    "        row_pairs.append([row_pair[0],row_pair[1]])\n",
    "len(row_pairs) # 88"
   ]
  },
  {
   "cell_type": "code",
   "execution_count": 9,
   "metadata": {
    "scrolled": false
   },
   "outputs": [
    {
     "data": {
      "text/plain": [
       "72"
      ]
     },
     "execution_count": 9,
     "metadata": {},
     "output_type": "execute_result"
    }
   ],
   "source": [
    "row_fours = []\n",
    "for pair1, pair2 in list(itertools.permutations(row_pairs,2)):\n",
    "    \n",
    "    r1_ids = [list(i.keys())[0] for i in pair1[0]]\n",
    "    r2_ids = [list(i.keys())[0] for i in pair1[1]]\n",
    "    r3_ids = [list(i.keys())[0] for i in pair2[0]]\n",
    "    r4_ids = [list(i.keys())[0] for i in pair2[1]]\n",
    "    \n",
    "    r1 = np.array([list(i.values())[0] for i in pair1[0]])\n",
    "    r2 = np.array([list(i.values())[0] for i in pair1[1]])\n",
    "    r3 = np.array([list(i.values())[0] for i in pair2[0]])\n",
    "    r4 = np.array([list(i.values())[0] for i in pair2[1]])\n",
    "    \n",
    "    top = np.array([i[-1,:] for i in r2]).flatten()\n",
    "    bottom = np.array([i[0,:] for i in r3]).flatten()\n",
    "    \n",
    "    if all(top == bottom) and len(set(r1_ids+r2_ids+r3_ids+r4_ids))==48:\n",
    "        entry = [dict(zip(r1_ids, r1)), dict(zip(r2_ids, r2)), \n",
    "                 dict(zip(r3_ids, r3)), dict(zip(r4_ids, r4))]\n",
    "        row_fours.append(entry)\n",
    "len(row_fours) # 72"
   ]
  },
  {
   "cell_type": "code",
   "execution_count": 10,
   "metadata": {
    "scrolled": false
   },
   "outputs": [
    {
     "data": {
      "text/plain": [
       "40"
      ]
     },
     "execution_count": 10,
     "metadata": {},
     "output_type": "execute_result"
    }
   ],
   "source": [
    "row_eights = []\n",
    "for pair1, pair2 in list(itertools.permutations(row_fours,2)):\n",
    "    r1_ids = list(pair1[0].keys())\n",
    "    r2_ids = list(pair1[1].keys())\n",
    "    r3_ids = list(pair1[2].keys())\n",
    "    r4_ids = list(pair1[3].keys())\n",
    "    r5_ids = list(pair2[0].keys())\n",
    "    r6_ids = list(pair2[1].keys())\n",
    "    r7_ids = list(pair2[2].keys())\n",
    "    r8_ids = list(pair2[3].keys())\n",
    "    \n",
    "    r1 = list(pair1[0].values())\n",
    "    r2 = list(pair1[1].values())\n",
    "    r3 = list(pair1[2].values())\n",
    "    r4 = list(pair1[3].values())\n",
    "    r5 = list(pair2[0].values())\n",
    "    r6 = list(pair2[1].values())\n",
    "    r7 = list(pair2[2].values())\n",
    "    r8 = list(pair2[3].values())\n",
    "    \n",
    "    bottom = np.array([i[-1,:] for i in r4]).flatten()\n",
    "    top = np.array([i[0,:] for i in r5]).flatten()\n",
    "    \n",
    "    if all(top==bottom) and len(set(r1_ids+r2_ids+r3_ids+r4_ids+r5_ids+r6_ids+r7_ids+r8_ids))==96:\n",
    "        entry = [dict(zip(r1_ids, r1)), dict(zip(r2_ids, r2)), \n",
    "                 dict(zip(r3_ids, r3)), dict(zip(r4_ids, r4)),\n",
    "                 dict(zip(r5_ids, r5)), dict(zip(r6_ids, r6)),\n",
    "                 dict(zip(r7_ids, r7)), dict(zip(r8_ids, r8))]\n",
    "        row_eights.append(entry)\n",
    "\n",
    "len(row_eights) # 40"
   ]
  },
  {
   "cell_type": "code",
   "execution_count": 11,
   "metadata": {
    "scrolled": true
   },
   "outputs": [
    {
     "data": {
      "text/plain": [
       "8"
      ]
     },
     "execution_count": 11,
     "metadata": {},
     "output_type": "execute_result"
    }
   ],
   "source": [
    "total_rows = []\n",
    "for eight1 in row_eights:\n",
    "    for eight2 in row_eights:\n",
    "        row_11 = list(eight1[0].values())\n",
    "        row_12 = list(eight1[1].values())\n",
    "        row_13 = list(eight1[2].values())\n",
    "        row_14 = list(eight1[3].values())\n",
    "        row_15 = list(eight1[4].values())\n",
    "        row_16 = list(eight1[5].values())\n",
    "        row_17 = list(eight1[6].values())\n",
    "        row_18 = list(eight1[7].values())\n",
    "        row_21 = list(eight2[0].values())\n",
    "        row_22 = list(eight2[1].values())\n",
    "        row_23 = list(eight2[2].values())\n",
    "        row_24 = list(eight2[3].values())\n",
    "        row_25 = list(eight2[4].values())\n",
    "        row_26 = list(eight2[5].values())\n",
    "        row_27 = list(eight2[6].values())\n",
    "        row_28 = list(eight2[7].values())\n",
    "        \n",
    "        row_11_id = [i for i in eight1[0]]\n",
    "        row_12_id = [i for i in eight1[1]]\n",
    "        row_13_id = [i for i in eight1[2]]\n",
    "        row_14_id = [i for i in eight1[3]]\n",
    "        row_15_id = [i for i in eight1[4]]\n",
    "        row_16_id = [i for i in eight1[5]]\n",
    "        row_17_id = [i for i in eight1[6]]\n",
    "        row_18_id = [i for i in eight1[7]]\n",
    "        row_21_id = [i for i in eight2[0]]\n",
    "        row_22_id = [i for i in eight2[1]]\n",
    "        row_23_id = [i for i in eight2[2]]\n",
    "        row_24_id = [i for i in eight2[3]]\n",
    "        row_25_id = [i for i in eight2[4]]\n",
    "        row_26_id = [i for i in eight2[5]]\n",
    "        row_27_id = [i for i in eight2[6]]\n",
    "        row_28_id = [i for i in eight2[7]]\n",
    "        \n",
    "        first_half = np.array(row_15+row_16+row_17+row_18).flatten()\n",
    "        second_half = np.array(row_21+row_22+row_23+row_24).flatten()\n",
    "        all_ids = row_11_id + row_12_id + row_13_id + row_14_id + row_15_id + row_16_id + row_17_id + row_18_id +\\\n",
    "                  row_21_id + row_22_id + row_23_id + row_24_id + row_25_id + row_26_id + row_27_id + row_28_id \n",
    "        \n",
    "        \n",
    "        if all(first_half == second_half) and len(set(all_ids)) == 144:\n",
    "            entry = [dict(zip(row_11_id, row_11)), dict(zip(row_12_id, row_12)), \n",
    "                 dict(zip(row_13_id, row_13)), dict(zip(row_14_id, row_14)),\n",
    "                 dict(zip(row_15_id, row_15)), dict(zip(row_16_id, row_16)),\n",
    "                 dict(zip(row_17_id, row_17)), dict(zip(row_18_id, row_18)),\n",
    "                 dict(zip(row_25_id, row_25)), dict(zip(row_26_id, row_26)),\n",
    "                 dict(zip(row_27_id, row_27)), dict(zip(row_28_id, row_28))]\n",
    "            total_rows.append(entry)\n",
    "\n",
    "len(total_rows)"
   ]
  },
  {
   "cell_type": "code",
   "execution_count": 12,
   "metadata": {},
   "outputs": [
    {
     "name": "stdout",
     "output_type": "stream",
     "text": [
      "66020135789767\n",
      "66020135789767\n",
      "66020135789767\n",
      "66020135789767\n",
      "66020135789767\n",
      "66020135789767\n",
      "66020135789767\n",
      "66020135789767\n"
     ]
    }
   ],
   "source": [
    "for i in range(len(total_rows)):\n",
    "    a = [list(i.keys()) for i in total_rows[i]][0][0]\n",
    "    b = [list(i.keys()) for i in total_rows[i]][0][-1]\n",
    "    c = [list(i.keys()) for i in total_rows[i]][-1][0]\n",
    "    d = [list(i.keys()) for i in total_rows[i]][-1][-1]\n",
    "    print(a*b*c*d)\n",
    "# 66020135789767"
   ]
  },
  {
   "cell_type": "markdown",
   "metadata": {},
   "source": [
    "# Part 2"
   ]
  },
  {
   "cell_type": "code",
   "execution_count": 14,
   "metadata": {},
   "outputs": [],
   "source": [
    "images = []\n",
    "for im in range(8):\n",
    "    image = []\n",
    "    for row, col in list(itertools.product(range(12),range(12))):\n",
    "        c = [list(i.values()) for i in total_rows[im]][row][col]\n",
    "        c = np.delete(c,0,0)\n",
    "        c = np.delete(c,-1,0)\n",
    "        c = np.delete(c,0,1)\n",
    "        c = np.delete(c,-1,1)\n",
    "        image.append(c)\n",
    "    image = np.array(image).reshape(12,12,8,8)\n",
    "    final = np.concatenate(([np.concatenate(([image[j][i] for i in range(12)]), axis=1) for j in range(12)]), axis=0)\n",
    "    images.append(final)"
   ]
  },
  {
   "cell_type": "code",
   "execution_count": 17,
   "metadata": {
    "scrolled": false
   },
   "outputs": [
    {
     "data": {
      "text/plain": [
       "20"
      ]
     },
     "execution_count": 17,
     "metadata": {},
     "output_type": "execute_result"
    }
   ],
   "source": [
    "dragons = 0\n",
    "for i, image in enumerate(images):\n",
    "    for row in range(96-2):\n",
    "        for col in range(96-18):\n",
    "            if image[row][col+18] == '#':\n",
    "                \n",
    "                if image[row+1][col] == '#':\n",
    "                    if image[row+1][col+5] == '#':\n",
    "                        if image[row+1][col+6] == '#':\n",
    "                            if image[row+1][col+11] == '#':\n",
    "                                if image[row+1][col+12] == '#':\n",
    "                                    if image[row+1][col+17] == '#':\n",
    "                                        if image[row+1][col+18] == '#':\n",
    "                                            if image[row+1][col+19] == '#':\n",
    "                                                \n",
    "                                                if image[row+2][col+1] == '#':\n",
    "                                                    if image[row+2][col+4] == '#':\n",
    "                                                        if image[row+2][col+7] == '#':\n",
    "                                                            if image[row+2][col+10] == '#':\n",
    "                                                                if image[row+2][col+13] == '#':\n",
    "                                                                    if image[row+2][col+16] == '#':\n",
    "                                                                        dragons += 1\n",
    "dragons"
   ]
  },
  {
   "cell_type": "code",
   "execution_count": 23,
   "metadata": {},
   "outputs": [
    {
     "data": {
      "text/plain": [
       "1537"
      ]
     },
     "execution_count": 23,
     "metadata": {},
     "output_type": "execute_result"
    }
   ],
   "source": [
    "len(np.where(images[0] == '#')[0]) - dragons*15"
   ]
  },
  {
   "cell_type": "code",
   "execution_count": null,
   "metadata": {},
   "outputs": [],
   "source": []
  }
 ],
 "metadata": {
  "kernelspec": {
   "display_name": "Python 3",
   "language": "python",
   "name": "python3"
  },
  "language_info": {
   "codemirror_mode": {
    "name": "ipython",
    "version": 3
   },
   "file_extension": ".py",
   "mimetype": "text/x-python",
   "name": "python",
   "nbconvert_exporter": "python",
   "pygments_lexer": "ipython3",
   "version": "3.7.6"
  }
 },
 "nbformat": 4,
 "nbformat_minor": 4
}
