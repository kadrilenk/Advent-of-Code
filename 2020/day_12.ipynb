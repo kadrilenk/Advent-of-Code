{
 "cells": [
  {
   "cell_type": "code",
   "execution_count": 1,
   "metadata": {},
   "outputs": [],
   "source": [
    "# import numpy as np\n",
    "# import re\n",
    "# from copy import deepcopy\n",
    "# import itertools\n",
    "# import math\n",
    "# from collections import defaultdict"
   ]
  },
  {
   "cell_type": "code",
   "execution_count": 2,
   "metadata": {},
   "outputs": [
    {
     "data": {
      "text/plain": [
       "[('F', 40), ('N', 1), ('W', 1), ('F', 95), ('W', 2)]"
      ]
     },
     "execution_count": 2,
     "metadata": {},
     "output_type": "execute_result"
    }
   ],
   "source": [
    "# input_data = []\n",
    "\n",
    "# with open('input12.txt') as f:\n",
    "#     for line in f:\n",
    "#         input_data.append(line.strip())\n",
    "\n",
    "input_data = [(d[0], int(d.strip()[1:])) for d in open('input12.txt')]\n",
    "input_data[:5]"
   ]
  },
  {
   "cell_type": "code",
   "execution_count": 3,
   "metadata": {},
   "outputs": [
    {
     "name": "stdout",
     "output_type": "stream",
     "text": [
      "757\n"
     ]
    }
   ],
   "source": [
    "north = 0\n",
    "east = 0\n",
    "facing = 0 # east\n",
    "\n",
    "for action, i in input_data:\n",
    "    if action == 'N':\n",
    "        north += i\n",
    "    elif action == 'S':\n",
    "        north -= i\n",
    "    elif action == 'E':\n",
    "        east += i\n",
    "    elif action == 'W':\n",
    "        east -= i\n",
    "        \n",
    "    elif action == 'F':\n",
    "        if facing == 0:\n",
    "            east += i\n",
    "        elif facing == 1:\n",
    "            north -= i\n",
    "        elif facing == 2:\n",
    "            east -= i\n",
    "        elif facing == 3:\n",
    "            north += i\n",
    "        \n",
    "    elif action == 'R':\n",
    "        facing = (facing + i/90) % 4\n",
    "                \n",
    "    elif action == 'L':\n",
    "        facing = (facing - i/90) % 4\n",
    "        \n",
    "print(abs(north) + abs(east))\n",
    "# 757"
   ]
  },
  {
   "cell_type": "code",
   "execution_count": 10,
   "metadata": {},
   "outputs": [
    {
     "name": "stdout",
     "output_type": "stream",
     "text": [
      "757\n"
     ]
    }
   ],
   "source": [
    "pos = [0,0]\n",
    "facing = 0 # east\n",
    "d = {'N':[1, 1], 'S':[1,-1], 'E':[0,1], 'W':[0,-1],\n",
    "     0:[0,1], 1:[1,-1], 2:[0,-1], 3:[1,1], \n",
    "     'R':1, 'L':-1}\n",
    "\n",
    "for a, i in input_data:\n",
    "    if a in ['N', 'S', 'E', 'W'] :\n",
    "        pos[d[a][0]] += i*d[a][1]\n",
    "        \n",
    "    elif a == 'F':\n",
    "        pos[d[facing][0]] += i*d[facing][1]\n",
    "        \n",
    "    elif a in ['R', 'L']:\n",
    "        facing = (facing + (i/90)*d[a]) % 4\n",
    "                        \n",
    "print(abs(pos[0]) + abs(pos[1]))\n",
    "# 757"
   ]
  },
  {
   "cell_type": "markdown",
   "metadata": {},
   "source": [
    "# Part 2 "
   ]
  },
  {
   "cell_type": "code",
   "execution_count": 4,
   "metadata": {},
   "outputs": [
    {
     "name": "stdout",
     "output_type": "stream",
     "text": [
      "51249\n"
     ]
    }
   ],
   "source": [
    "north = 0\n",
    "east = 0\n",
    "w_north = 1\n",
    "w_east = 10\n",
    "\n",
    "for action, i in input_data:\n",
    "    if action == 'N':\n",
    "        w_north += i\n",
    "    elif action == 'S':\n",
    "        w_north -= i\n",
    "    elif action == 'E':\n",
    "        w_east += i\n",
    "    elif action == 'W':\n",
    "        w_east -= i\n",
    "        \n",
    "    elif action == 'F':\n",
    "        east += i*w_east\n",
    "        north += i*w_north\n",
    "        \n",
    "    elif action in ['R', 'L']:\n",
    "        if i == 180:\n",
    "            w_east, w_north = w_east*-1, w_north*-1\n",
    "        else:\n",
    "            d = {'R':{90:[-1, 1], 270:[1, -1]}, \n",
    "                 'L':{90:[1, -1], 270:[-1, 1]}}\n",
    "            w_east, w_north = w_north*d[action][i][1], w_east*d[action][i][0]                  \n",
    "        \n",
    "print(abs(north) + abs(east))\n",
    "# 51249"
   ]
  },
  {
   "cell_type": "code",
   "execution_count": 12,
   "metadata": {
    "scrolled": true
   },
   "outputs": [
    {
     "name": "stdout",
     "output_type": "stream",
     "text": [
      "51249\n"
     ]
    }
   ],
   "source": [
    "pos = [0,0] \n",
    "w_pos = [10,1] # east, north\n",
    "d = {'N':[1, 1], 'S':[1,-1], 'E':[0,1], 'W':[0,-1], \n",
    "     'R':{90:[-1, 1], 270:[1, -1]}, 'L':{90:[1, -1], 270:[-1, 1]}}\n",
    "\n",
    "for a, i in input_data:\n",
    "    if a in ['N', 'S', 'E', 'W']:\n",
    "        w_pos[d[a][0]] += i*d[a][1]\n",
    "        \n",
    "    elif a == 'F':\n",
    "        pos[0] += i*w_pos[0]\n",
    "        pos[1] += i*w_pos[1]\n",
    "        \n",
    "    elif a in ['R', 'L']:\n",
    "        if i == 180:\n",
    "            w_pos[0], w_pos[1] = w_pos[0]*-1, w_pos[1]*-1\n",
    "        else:\n",
    "            w_pos[0], w_pos[1] = w_pos[1]*d[a][i][1], w_pos[0]*d[a][i][0]                  \n",
    "        \n",
    "print(abs(pos[0])+abs(pos[1]))\n",
    "# 51249"
   ]
  },
  {
   "cell_type": "code",
   "execution_count": null,
   "metadata": {},
   "outputs": [],
   "source": []
  }
 ],
 "metadata": {
  "kernelspec": {
   "display_name": "Python 3",
   "language": "python",
   "name": "python3"
  },
  "language_info": {
   "codemirror_mode": {
    "name": "ipython",
    "version": 3
   },
   "file_extension": ".py",
   "mimetype": "text/x-python",
   "name": "python",
   "nbconvert_exporter": "python",
   "pygments_lexer": "ipython3",
   "version": "3.7.6"
  }
 },
 "nbformat": 4,
 "nbformat_minor": 4
}
