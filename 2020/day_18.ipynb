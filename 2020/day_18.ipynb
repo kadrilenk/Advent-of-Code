{
 "cells": [
  {
   "cell_type": "code",
   "execution_count": 1,
   "metadata": {},
   "outputs": [],
   "source": [
    "import re"
   ]
  },
  {
   "cell_type": "code",
   "execution_count": 2,
   "metadata": {},
   "outputs": [],
   "source": [
    "input_data = [d.strip() for d in open('input18.txt')]\n",
    "for i,n in enumerate(input_data):\n",
    "    input_data[i] = n.replace(' ','')"
   ]
  },
  {
   "cell_type": "markdown",
   "metadata": {},
   "source": [
    "# Part 1"
   ]
  },
  {
   "cell_type": "code",
   "execution_count": 3,
   "metadata": {},
   "outputs": [],
   "source": [
    "def find_deepest_level(s):\n",
    "    level = 1\n",
    "    level_list = []\n",
    "\n",
    "    for i, c in enumerate(s):\n",
    "        if c == '(':\n",
    "            level += 1\n",
    "            level_list.append((i,level))\n",
    "        elif c == ')':\n",
    "            level -= 1\n",
    "            level_list.append((i,level))\n",
    "\n",
    "    deepest_level = []\n",
    "    for i, l in enumerate(level_list):\n",
    "        if l[1] == max([i[1] for i in level_list]):\n",
    "            deepest_level.append([l[0]+1, level_list[i+1][0]])\n",
    "            break\n",
    "    \n",
    "    if len(deepest_level) == 0:\n",
    "        deepest_level.append([0,len(s)])\n",
    "    \n",
    "    return deepest_level[0]"
   ]
  },
  {
   "cell_type": "code",
   "execution_count": 4,
   "metadata": {},
   "outputs": [],
   "source": [
    "def solve_operation(input_string):\n",
    "    ans = int(re.search('^(\\d+)', input_string).group(1))\n",
    "    operations = re.findall('([\\*|\\+]\\d+)', input_string)\n",
    "    \n",
    "    for op in operations:\n",
    "        if op[0] == '+':\n",
    "            ans += int(op[1:])\n",
    "        elif op[0] == '*':\n",
    "            ans *= int(op[1:])\n",
    "    return ans"
   ]
  },
  {
   "cell_type": "code",
   "execution_count": 5,
   "metadata": {},
   "outputs": [],
   "source": [
    "def replace_with_ans(s, level, ans):\n",
    "    start = level[0]-1\n",
    "    end = level[1]+1\n",
    "    if start < 0:\n",
    "        start = 0\n",
    "        end = len(s)\n",
    "    return s[:start] + str(ans) + s[end:]"
   ]
  },
  {
   "cell_type": "code",
   "execution_count": 6,
   "metadata": {},
   "outputs": [],
   "source": [
    "def solve_string(s):\n",
    "    while True:\n",
    "        if '+' in s or '*' in s:\n",
    "            level = find_deepest_level(s)\n",
    "            ans = solve_operation(s[level[0]:level[1]])\n",
    "            s = replace_with_ans(s, level, ans)\n",
    "        else:\n",
    "            return int(s)\n",
    "            break"
   ]
  },
  {
   "cell_type": "code",
   "execution_count": 7,
   "metadata": {},
   "outputs": [
    {
     "data": {
      "text/plain": [
       "9535936849815"
      ]
     },
     "execution_count": 7,
     "metadata": {},
     "output_type": "execute_result"
    }
   ],
   "source": [
    "ans = 0\n",
    "for s in input_data:\n",
    "    ans += solve_string(s)\n",
    "ans"
   ]
  },
  {
   "cell_type": "markdown",
   "metadata": {},
   "source": [
    "# Part 2"
   ]
  },
  {
   "cell_type": "code",
   "execution_count": 8,
   "metadata": {},
   "outputs": [],
   "source": [
    "def multiply(s):\n",
    "    ans = 1\n",
    "    for i in s.split('*'):\n",
    "        ans *= int(solve_operation(i))\n",
    "    return ans"
   ]
  },
  {
   "cell_type": "code",
   "execution_count": 9,
   "metadata": {},
   "outputs": [],
   "source": [
    "def solve_string_2(s):\n",
    "    while True:\n",
    "        if '+' in s or '*' in s:\n",
    "            level = find_deepest_level(s)\n",
    "            ans = multiply(s[level[0]:level[1]])\n",
    "            s = replace_with_ans(s, level, ans)\n",
    "        else:\n",
    "            return int(s)\n",
    "            break"
   ]
  },
  {
   "cell_type": "code",
   "execution_count": 10,
   "metadata": {},
   "outputs": [
    {
     "data": {
      "text/plain": [
       "472171581333710"
      ]
     },
     "execution_count": 10,
     "metadata": {},
     "output_type": "execute_result"
    }
   ],
   "source": [
    "ans = 0\n",
    "for s in input_data:\n",
    "    ans += solve_string_2(s)\n",
    "ans"
   ]
  },
  {
   "cell_type": "code",
   "execution_count": null,
   "metadata": {},
   "outputs": [],
   "source": []
  }
 ],
 "metadata": {
  "kernelspec": {
   "display_name": "Python 3",
   "language": "python",
   "name": "python3"
  },
  "language_info": {
   "codemirror_mode": {
    "name": "ipython",
    "version": 3
   },
   "file_extension": ".py",
   "mimetype": "text/x-python",
   "name": "python",
   "nbconvert_exporter": "python",
   "pygments_lexer": "ipython3",
   "version": "3.7.6"
  }
 },
 "nbformat": 4,
 "nbformat_minor": 4
}
