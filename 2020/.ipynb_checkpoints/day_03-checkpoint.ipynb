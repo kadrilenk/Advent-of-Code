{
 "cells": [
  {
   "cell_type": "code",
   "execution_count": 1,
   "metadata": {},
   "outputs": [],
   "source": [
    "import numpy as np"
   ]
  },
  {
   "cell_type": "code",
   "execution_count": 2,
   "metadata": {},
   "outputs": [],
   "source": [
    "gridmap = []\n",
    "\n",
    "with open('input03.txt') as f:\n",
    "    for line in f:\n",
    "        gridmap.append(line.strip())"
   ]
  },
  {
   "cell_type": "markdown",
   "metadata": {},
   "source": [
    "# First part"
   ]
  },
  {
   "cell_type": "code",
   "execution_count": 3,
   "metadata": {},
   "outputs": [
    {
     "data": {
      "text/plain": [
       "270"
      ]
     },
     "execution_count": 3,
     "metadata": {},
     "output_type": "execute_result"
    }
   ],
   "source": [
    "trees = 0\n",
    "pos = 0\n",
    "\n",
    "for line in gridmap[1:]:\n",
    "    pos += 3\n",
    "    if pos > len(line)-1:\n",
    "        pos -= len(line)\n",
    "    if line[pos] == '#':\n",
    "        trees += 1\n",
    "    \n",
    "trees\n",
    "# 270"
   ]
  },
  {
   "cell_type": "markdown",
   "metadata": {},
   "source": [
    "# Second part"
   ]
  },
  {
   "cell_type": "code",
   "execution_count": 4,
   "metadata": {},
   "outputs": [
    {
     "data": {
      "text/plain": [
       "2122848000"
      ]
     },
     "execution_count": 4,
     "metadata": {},
     "output_type": "execute_result"
    }
   ],
   "source": [
    "ans = 1\n",
    "\n",
    "for right, down in [[1,1],[3,1],[5,1],[7,1],[1,2]]:\n",
    "    pos = 0\n",
    "    trees = 0\n",
    "    for i, line in enumerate(gridmap):\n",
    "        if i in np.arange(down,len(gridmap)+5,down):\n",
    "            pos += right\n",
    "            if pos > len(line)-1:\n",
    "                pos -= len(line)\n",
    "            if line[pos] == '#':\n",
    "                trees += 1\n",
    "\n",
    "    ans *= trees\n",
    "\n",
    "ans\n",
    "# 2122848000"
   ]
  },
  {
   "cell_type": "code",
   "execution_count": null,
   "metadata": {},
   "outputs": [],
   "source": []
  },
  {
   "cell_type": "code",
   "execution_count": null,
   "metadata": {},
   "outputs": [],
   "source": []
  }
 ],
 "metadata": {
  "kernelspec": {
   "display_name": "Python 3",
   "language": "python",
   "name": "python3"
  },
  "language_info": {
   "codemirror_mode": {
    "name": "ipython",
    "version": 3
   },
   "file_extension": ".py",
   "mimetype": "text/x-python",
   "name": "python",
   "nbconvert_exporter": "python",
   "pygments_lexer": "ipython3",
   "version": "3.7.6"
  }
 },
 "nbformat": 4,
 "nbformat_minor": 4
}
