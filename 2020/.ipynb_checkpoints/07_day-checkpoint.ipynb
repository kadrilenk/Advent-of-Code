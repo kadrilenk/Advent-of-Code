{
 "cells": [
  {
   "cell_type": "code",
   "execution_count": 1,
   "metadata": {},
   "outputs": [],
   "source": [
    "import numpy as np\n",
    "import re"
   ]
  },
  {
   "cell_type": "code",
   "execution_count": 2,
   "metadata": {},
   "outputs": [],
   "source": [
    "puzzle_input = []\n",
    "\n",
    "with open('input07.txt') as f:\n",
    "    for line in f:\n",
    "        puzzle_input.append(line.strip())"
   ]
  },
  {
   "cell_type": "markdown",
   "metadata": {},
   "source": [
    "# Part 1"
   ]
  },
  {
   "cell_type": "code",
   "execution_count": 3,
   "metadata": {},
   "outputs": [],
   "source": [
    "bags = []  \n",
    "\n",
    "for i in puzzle_input:\n",
    "    bags.append(re.findall('([a-z]+\\s[a-z]+) bag', i))\n",
    "    \n",
    "for b in bags:\n",
    "    if 'no other' in b:\n",
    "        b.remove('no other')"
   ]
  },
  {
   "cell_type": "code",
   "execution_count": 4,
   "metadata": {},
   "outputs": [
    {
     "data": {
      "text/plain": [
       "257"
      ]
     },
     "execution_count": 4,
     "metadata": {},
     "output_type": "execute_result"
    }
   ],
   "source": [
    "old_ans = 0\n",
    "keep_looking = True\n",
    "\n",
    "while keep_looking:\n",
    "    new_ans = 0\n",
    "    for i, bag_row in enumerate(bags):\n",
    "        for bag in bag_row:\n",
    "            for j, bag_row2 in enumerate(bags):\n",
    "                if i==j:\n",
    "                    pass\n",
    "                elif bag in bag_row2[0]:\n",
    "                    bags[i] = bags[i] + bag_row2[1:]\n",
    "                    bags[i] = list(dict.fromkeys(bags[i]))\n",
    "                    \n",
    "    for i in bags:\n",
    "        if 'shiny gold' in i[1:]:\n",
    "            new_ans += 1\n",
    "            \n",
    "    if old_ans == new_ans:\n",
    "        keep_looking = False\n",
    "    else:\n",
    "        old_ans = new_ans\n",
    "        \n",
    "    \n",
    "new_ans # 257"
   ]
  },
  {
   "cell_type": "code",
   "execution_count": null,
   "metadata": {},
   "outputs": [],
   "source": []
  },
  {
   "cell_type": "markdown",
   "metadata": {},
   "source": [
    "# Part 2"
   ]
  },
  {
   "cell_type": "code",
   "execution_count": 5,
   "metadata": {},
   "outputs": [],
   "source": [
    "puzzle_input = []\n",
    "\n",
    "with open('input07.txt') as f:\n",
    "    for line in f:\n",
    "        puzzle_input.append(line.strip())"
   ]
  },
  {
   "cell_type": "code",
   "execution_count": 6,
   "metadata": {},
   "outputs": [],
   "source": [
    "bags = {}\n",
    "\n",
    "for i in puzzle_input:\n",
    "    dict_key = re.search('^(\\w+\\s\\w+)\\sbags', i).group(1)\n",
    "    dict_values =  []\n",
    "    \n",
    "    for j in re.findall('(\\d+\\s[a-z]+\\s[a-z]+) bag', i):\n",
    "        dict_values.append([re.search('(\\d+)', j).group(1), re.search('([a-z]+\\s[a-z]+)', j).group(1)])\n",
    "        \n",
    "    bags[dict_key] = dict_values"
   ]
  },
  {
   "cell_type": "code",
   "execution_count": 7,
   "metadata": {
    "scrolled": true
   },
   "outputs": [
    {
     "data": {
      "text/plain": [
       "1038"
      ]
     },
     "execution_count": 7,
     "metadata": {},
     "output_type": "execute_result"
    }
   ],
   "source": [
    "def ans(bag):\n",
    "    return sum(int(i) + int(i)*ans(n) for i,n in bags[bag])\n",
    "\n",
    "ans('shiny gold') # 1038"
   ]
  },
  {
   "cell_type": "code",
   "execution_count": null,
   "metadata": {},
   "outputs": [],
   "source": []
  }
 ],
 "metadata": {
  "kernelspec": {
   "display_name": "Python 3",
   "language": "python",
   "name": "python3"
  },
  "language_info": {
   "codemirror_mode": {
    "name": "ipython",
    "version": 3
   },
   "file_extension": ".py",
   "mimetype": "text/x-python",
   "name": "python",
   "nbconvert_exporter": "python",
   "pygments_lexer": "ipython3",
   "version": "3.7.6"
  }
 },
 "nbformat": 4,
 "nbformat_minor": 4
}
