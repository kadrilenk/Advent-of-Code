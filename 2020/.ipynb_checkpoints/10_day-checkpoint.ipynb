{
 "cells": [
  {
   "cell_type": "code",
   "execution_count": 1,
   "metadata": {},
   "outputs": [],
   "source": [
    "import numpy as np\n",
    "import re\n",
    "from copy import deepcopy\n",
    "import itertools"
   ]
  },
  {
   "cell_type": "code",
   "execution_count": 2,
   "metadata": {},
   "outputs": [],
   "source": [
    "input_data = []\n",
    "\n",
    "with open('input10.txt') as f:\n",
    "    for line in f:\n",
    "        input_data.append(int(line.strip()))"
   ]
  },
  {
   "cell_type": "markdown",
   "metadata": {},
   "source": [
    "# Part 1"
   ]
  },
  {
   "cell_type": "code",
   "execution_count": 3,
   "metadata": {},
   "outputs": [],
   "source": [
    "list1 = deepcopy(input_data)\n",
    "list1.sort()\n",
    "built_in_adapter = list1[-1]+3\n",
    "list1.append(built_in_adapter)\n",
    "\n",
    "list2 = deepcopy(list1)\n",
    "list2.insert(0, 0)\n",
    "list2.remove(built_in_adapter)"
   ]
  },
  {
   "cell_type": "code",
   "execution_count": 4,
   "metadata": {
    "scrolled": true
   },
   "outputs": [],
   "source": [
    "differences = [a - b for a, b in zip(list1, list2)]"
   ]
  },
  {
   "cell_type": "code",
   "execution_count": 5,
   "metadata": {},
   "outputs": [
    {
     "name": "stdout",
     "output_type": "stream",
     "text": [
      "1625\n"
     ]
    }
   ],
   "source": [
    "print(differences.count(1) * differences.count(3)) # 1625"
   ]
  },
  {
   "cell_type": "markdown",
   "metadata": {},
   "source": [
    "# Part 2"
   ]
  },
  {
   "cell_type": "code",
   "execution_count": 6,
   "metadata": {
    "scrolled": true
   },
   "outputs": [],
   "source": [
    "moveable_nums = []\n",
    "\n",
    "for i in range(len(differences)):\n",
    "    for j in range(i+2,len(differences)):\n",
    "        if sum(differences[i:j]) >= 3:\n",
    "            pass\n",
    "        else:\n",
    "            moveable_nums.append(list1[i])\n",
    "            \n",
    "# moveable_nums"
   ]
  },
  {
   "cell_type": "code",
   "execution_count": 7,
   "metadata": {},
   "outputs": [],
   "source": [
    "sometimes_moveable_nums = []\n",
    "\n",
    "for i in range(len(moveable_nums)-2):\n",
    "    if moveable_nums[i+2] - moveable_nums[i] == 2:\n",
    "        sometimes_moveable_nums.append(moveable_nums[i:i+3])\n",
    "\n",
    "# sometimes_moveable_nums"
   ]
  },
  {
   "cell_type": "code",
   "execution_count": 8,
   "metadata": {},
   "outputs": [],
   "source": [
    "import time"
   ]
  },
  {
   "cell_type": "code",
   "execution_count": 9,
   "metadata": {},
   "outputs": [
    {
     "name": "stdout",
     "output_type": "stream",
     "text": [
      "14.020632982254028 seconds\n",
      "1594323\n"
     ]
    }
   ],
   "source": [
    "start_time = time.time()\n",
    "lists = []\n",
    "\n",
    "for to_remove in itertools.product(*sometimes_moveable_nums):\n",
    "    lists.append([i for i in moveable_nums if i not in to_remove])\n",
    "    \n",
    "print('%s seconds' % (time.time() - start_time))\n",
    "print(len(lists)) # 1594323"
   ]
  },
  {
   "cell_type": "code",
   "execution_count": 12,
   "metadata": {},
   "outputs": [
    {
     "data": {
      "text/plain": [
       "15943.23"
      ]
     },
     "execution_count": 12,
     "metadata": {},
     "output_type": "execute_result"
    }
   ],
   "source": [
    "1594323 *.01"
   ]
  },
  {
   "cell_type": "code",
   "execution_count": null,
   "metadata": {},
   "outputs": [],
   "source": [
    "start_time = time.time()\n",
    "combos = set()\n",
    "\n",
    "for l in lists[:15943]:\n",
    "    for i in range(len(l)+1):\n",
    "        for subset in itertools.combinations(l, i):\n",
    "            combos.add(subset)\n",
    "\n",
    "\n",
    "print('%s seconds' % (time.time() - start_time)) # 0.05347084999084473\n",
    "print(len(combos))"
   ]
  },
  {
   "cell_type": "code",
   "execution_count": null,
   "metadata": {},
   "outputs": [],
   "source": [
    "# start_time = time.time()\n",
    "# combos = []\n",
    "\n",
    "# for l in lists:\n",
    "#     for i in range(len(l)+1):\n",
    "#         for subset in itertools.combinations(l, i):\n",
    "#             combos.append(subset)\n",
    "        \n",
    "\n",
    "# print('%s seconds' % (time.time() - start_time)) # 0.05347084999084473\n",
    "# print(len( list(set(frozenset(item) for item in combos))  ))\n"
   ]
  },
  {
   "cell_type": "code",
   "execution_count": null,
   "metadata": {},
   "outputs": [],
   "source": []
  },
  {
   "cell_type": "code",
   "execution_count": null,
   "metadata": {
    "scrolled": true
   },
   "outputs": [],
   "source": [
    "# start_time = time.time()\n",
    "\n",
    "# combos = set()\n",
    "\n",
    "# for to_remove in list(itertools.product(*sometimes_moveable_nums)):\n",
    "#     input_list = deepcopy(moveable_nums)\n",
    "#     input_list = [i for i in input_list if i not in list(to_remove)]\n",
    "\n",
    "#     for L in range(len(input_list)+1):\n",
    "#         for subset in itertools.combinations(input_list, L):\n",
    "#             combos.add(subset)\n",
    "\n",
    "# print(len(combos))\n",
    "# print(\"--- %s seconds ---\" % (time.time() - start_time))"
   ]
  }
 ],
 "metadata": {
  "kernelspec": {
   "display_name": "Python 3",
   "language": "python",
   "name": "python3"
  },
  "language_info": {
   "codemirror_mode": {
    "name": "ipython",
    "version": 3
   },
   "file_extension": ".py",
   "mimetype": "text/x-python",
   "name": "python",
   "nbconvert_exporter": "python",
   "pygments_lexer": "ipython3",
   "version": "3.7.6"
  }
 },
 "nbformat": 4,
 "nbformat_minor": 4
}
