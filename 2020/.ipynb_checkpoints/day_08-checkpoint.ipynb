{
 "cells": [
  {
   "cell_type": "code",
   "execution_count": 1,
   "metadata": {},
   "outputs": [],
   "source": [
    "import numpy as np\n",
    "import re\n",
    "from copy import deepcopy"
   ]
  },
  {
   "cell_type": "code",
   "execution_count": 2,
   "metadata": {},
   "outputs": [],
   "source": [
    "input_data = []\n",
    "\n",
    "with open('input08.txt') as f:\n",
    "    for line in f:\n",
    "        input_data.append(line.strip())"
   ]
  },
  {
   "cell_type": "code",
   "execution_count": 3,
   "metadata": {},
   "outputs": [],
   "source": [
    "for i, n in enumerate(input_data):\n",
    "    new_line = n.split(' ')\n",
    "    new_line[1] = int(new_line[1].replace('+',''))\n",
    "    new_line.append(0)\n",
    "    input_data[i] = new_line"
   ]
  },
  {
   "cell_type": "markdown",
   "metadata": {},
   "source": [
    "# Part 1"
   ]
  },
  {
   "cell_type": "code",
   "execution_count": 4,
   "metadata": {},
   "outputs": [],
   "source": [
    "def solve(puzzle_input, puzzle_num):\n",
    "    pos = 0\n",
    "    acc = 0\n",
    "    keep_running = True\n",
    "\n",
    "    while keep_running:\n",
    "\n",
    "        if puzzle_input[pos][2] == 1:\n",
    "            keep_running = False\n",
    "            if puzzle_num == 1:\n",
    "                print(acc)\n",
    "\n",
    "        else:\n",
    "            if puzzle_input[pos][0] == 'nop':\n",
    "                puzzle_input[pos][2] = 1\n",
    "                pos += 1\n",
    "                if pos >= len(puzzle_input):\n",
    "                    keep_running = False\n",
    "                    print(acc)\n",
    "\n",
    "            elif puzzle_input[pos][0] == 'acc':\n",
    "                puzzle_input[pos][2] = 1\n",
    "                acc += puzzle_input[pos][1]\n",
    "                pos += 1\n",
    "                if pos >= len(puzzle_input):\n",
    "                    keep_running = False\n",
    "                    print(acc)\n",
    "\n",
    "            elif puzzle_input[pos][0] == 'jmp':\n",
    "                puzzle_input[pos][2] = 1\n",
    "                pos += puzzle_input[pos][1]\n",
    "                if pos >= len(puzzle_input):\n",
    "                    keep_running = False\n",
    "                    print(acc)"
   ]
  },
  {
   "cell_type": "code",
   "execution_count": 5,
   "metadata": {},
   "outputs": [
    {
     "name": "stdout",
     "output_type": "stream",
     "text": [
      "1594\n"
     ]
    }
   ],
   "source": [
    "solve(deepcopy(input_data), 1)"
   ]
  },
  {
   "cell_type": "markdown",
   "metadata": {},
   "source": [
    "# Part 2"
   ]
  },
  {
   "cell_type": "code",
   "execution_count": 6,
   "metadata": {},
   "outputs": [],
   "source": [
    "puzzle_input = deepcopy(input_data)\n",
    "input_collection = [puzzle_input]\n",
    "\n",
    "for i, n in enumerate(puzzle_input):\n",
    "    new_input = deepcopy(puzzle_input)    \n",
    "    if n[0] == 'nop':\n",
    "        new_input[i][0] = 'jmp'\n",
    "        input_collection.append(new_input)\n",
    "    \n",
    "    elif n[0] == 'jmp':\n",
    "        new_input[i][0] = 'nop'\n",
    "        input_collection.append(new_input)"
   ]
  },
  {
   "cell_type": "code",
   "execution_count": 7,
   "metadata": {},
   "outputs": [
    {
     "name": "stdout",
     "output_type": "stream",
     "text": [
      "758\n"
     ]
    }
   ],
   "source": [
    "for puzzle_input in input_collection:\n",
    "    solve(puzzle_input,2) # 758"
   ]
  },
  {
   "cell_type": "code",
   "execution_count": null,
   "metadata": {},
   "outputs": [],
   "source": []
  }
 ],
 "metadata": {
  "kernelspec": {
   "display_name": "Python 3",
   "language": "python",
   "name": "python3"
  },
  "language_info": {
   "codemirror_mode": {
    "name": "ipython",
    "version": 3
   },
   "file_extension": ".py",
   "mimetype": "text/x-python",
   "name": "python",
   "nbconvert_exporter": "python",
   "pygments_lexer": "ipython3",
   "version": "3.7.6"
  }
 },
 "nbformat": 4,
 "nbformat_minor": 4
}
