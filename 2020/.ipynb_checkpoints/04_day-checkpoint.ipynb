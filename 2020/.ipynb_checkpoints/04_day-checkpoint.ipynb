{
 "cells": [
  {
   "cell_type": "code",
   "execution_count": 1,
   "metadata": {},
   "outputs": [],
   "source": [
    "import numpy as np\n",
    "import re"
   ]
  },
  {
   "cell_type": "code",
   "execution_count": 2,
   "metadata": {},
   "outputs": [],
   "source": [
    "passports = []\n",
    "\n",
    "with open(\"input04.txt\") as f:\n",
    "    for line in f:\n",
    "        passports.append(line.strip())"
   ]
  },
  {
   "cell_type": "code",
   "execution_count": 3,
   "metadata": {},
   "outputs": [
    {
     "data": {
      "text/plain": [
       "['ecl:hzl byr:1926 iyr:2010',\n",
       " 'pid:221225902 cid:61 hgt:186cm eyr:2021 hcl:#7d3b0c',\n",
       " '',\n",
       " 'hcl:#efcc98 hgt:178 pid:433543520',\n",
       " 'eyr:2020 byr:1926']"
      ]
     },
     "execution_count": 3,
     "metadata": {},
     "output_type": "execute_result"
    }
   ],
   "source": [
    "passports[:5]"
   ]
  },
  {
   "cell_type": "code",
   "execution_count": 4,
   "metadata": {},
   "outputs": [],
   "source": [
    "passports_clean = ['']\n",
    "\n",
    "pos = 0\n",
    "\n",
    "for i, line in enumerate(passports):\n",
    "    if len(line) > 0:\n",
    "        passports_clean[pos] = (passports_clean[pos] + ' ' + line).strip()\n",
    "    else:\n",
    "        pos += 1\n",
    "        passports_clean.append('')"
   ]
  },
  {
   "cell_type": "code",
   "execution_count": 5,
   "metadata": {},
   "outputs": [
    {
     "data": {
      "text/plain": [
       "['ecl:hzl byr:1926 iyr:2010 pid:221225902 cid:61 hgt:186cm eyr:2021 hcl:#7d3b0c',\n",
       " 'hcl:#efcc98 hgt:178 pid:433543520 eyr:2020 byr:1926 ecl:blu cid:92 iyr:2010',\n",
       " 'iyr:2018 eyr:2026 byr:1946 ecl:brn hcl:#b6652a hgt:158cm pid:822320101',\n",
       " 'iyr:2010 hgt:138 ecl:grn pid:21019503 eyr:1937 byr:2008 hcl:z',\n",
       " 'byr:2018 hcl:z eyr:1990 ecl:#d06796 iyr:2019 hgt:176in cid:75 pid:153cm']"
      ]
     },
     "execution_count": 5,
     "metadata": {},
     "output_type": "execute_result"
    }
   ],
   "source": [
    "passports_clean[:5]"
   ]
  },
  {
   "cell_type": "code",
   "execution_count": 6,
   "metadata": {},
   "outputs": [
    {
     "name": "stdout",
     "output_type": "stream",
     "text": [
      "237\n"
     ]
    }
   ],
   "source": [
    "valid_passports = 0\n",
    "\n",
    "for passport in passports_clean:\n",
    "    ecl = re.search('ecl:', passport)!=None\n",
    "    pid = re.search('pid:', passport)!=None\n",
    "    eyr = re.search('eyr:', passport)!=None\n",
    "    hcl = re.search('hcl:', passport)!=None\n",
    "    byr = re.search('byr:', passport)!=None\n",
    "    iyr = re.search('iyr:', passport)!=None\n",
    "    hgt = re.search('hgt:', passport)!=None\n",
    "    \n",
    "    if ecl and pid and eyr and hcl and byr and iyr and hgt:\n",
    "        valid_passports += 1\n",
    "        \n",
    "print(valid_passports)\n",
    "# 237"
   ]
  },
  {
   "cell_type": "code",
   "execution_count": 7,
   "metadata": {},
   "outputs": [
    {
     "name": "stdout",
     "output_type": "stream",
     "text": [
      "172\n"
     ]
    }
   ],
   "source": [
    "valid_passports = 0\n",
    "\n",
    "for passport in passports_clean:\n",
    "    byr = re.search('byr:(\\d{4})', passport)\n",
    "    if byr != None:\n",
    "        byr = int(byr.group(1)) >= 1920 and int(byr.group(1)) <= 2002\n",
    "    else:\n",
    "        byr = False\n",
    "\n",
    "    iyr = re.search('iyr:(\\d{4})', passport)    \n",
    "    if iyr != None:\n",
    "        iyr = int(iyr.group(1)) >= 2010 and int(iyr.group(1)) <= 2020\n",
    "    else:\n",
    "        iyr = False\n",
    "        \n",
    "        \n",
    "    eyr = re.search('eyr:(\\d{4})', passport)\n",
    "    if eyr != None:\n",
    "        eyr = int(eyr.group(1)) >= 2020 and int(eyr.group(1)) <= 2030\n",
    "    else:\n",
    "        eyr = False\n",
    "        \n",
    "    hgt = re.search('hgt:(\\d+)(cm|in)', passport)\n",
    "    if hgt != None:\n",
    "        if hgt.group(2) == 'cm':\n",
    "            hgt = int(hgt.group(1)) >= 150 and int(hgt.group(1)) <= 193\n",
    "        elif hgt.group(2) == 'in':\n",
    "            hgt = int(hgt.group(1)) >= 59 and int(hgt.group(1)) <= 76\n",
    "    else:\n",
    "        hgt = False\n",
    "    \n",
    "    hcl = re.search('hcl:#[0-9a-fA-F]+', passport) != None    \n",
    "    \n",
    "    ecl = re.search('ecl:(amb|blu|brn|gry|grn|hzl|oth)', passport) != None\n",
    "    \n",
    "    pid = re.search('pid:(\\d+)', passport)\n",
    "    if pid != None:\n",
    "        pid = len(pid.group(1)) == 9\n",
    "    else:\n",
    "        pid = False\n",
    "        \n",
    "    if ecl and pid and eyr and hcl and byr and iyr and hgt:\n",
    "        valid_passports += 1\n",
    "        \n",
    "print(valid_passports)\n",
    "# 172"
   ]
  },
  {
   "cell_type": "code",
   "execution_count": null,
   "metadata": {},
   "outputs": [],
   "source": []
  }
 ],
 "metadata": {
  "kernelspec": {
   "display_name": "Python 3",
   "language": "python",
   "name": "python3"
  },
  "language_info": {
   "codemirror_mode": {
    "name": "ipython",
    "version": 3
   },
   "file_extension": ".py",
   "mimetype": "text/x-python",
   "name": "python",
   "nbconvert_exporter": "python",
   "pygments_lexer": "ipython3",
   "version": "3.7.6"
  }
 },
 "nbformat": 4,
 "nbformat_minor": 4
}
