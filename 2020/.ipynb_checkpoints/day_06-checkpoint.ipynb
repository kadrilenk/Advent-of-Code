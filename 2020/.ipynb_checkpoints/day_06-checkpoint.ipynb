{
 "cells": [
  {
   "cell_type": "code",
   "execution_count": 1,
   "metadata": {},
   "outputs": [],
   "source": [
    "import numpy as np\n",
    "import re\n",
    "import string"
   ]
  },
  {
   "cell_type": "code",
   "execution_count": 2,
   "metadata": {},
   "outputs": [],
   "source": [
    "puzzle_input = []\n",
    "\n",
    "with open('input06.txt') as f:\n",
    "    for line in f:\n",
    "        puzzle_input.append(line.strip())"
   ]
  },
  {
   "cell_type": "code",
   "execution_count": 3,
   "metadata": {},
   "outputs": [],
   "source": [
    "answers = ['']\n",
    "pos = 0\n",
    "\n",
    "for i, line in enumerate(puzzle_input):\n",
    "    if len(line) > 0:\n",
    "        answers[pos] = (answers[pos] + ' ' + line).strip()\n",
    "    else:\n",
    "        pos += 1\n",
    "        answers.append('')"
   ]
  },
  {
   "cell_type": "markdown",
   "metadata": {},
   "source": [
    "# Part 1"
   ]
  },
  {
   "cell_type": "code",
   "execution_count": 4,
   "metadata": {},
   "outputs": [
    {
     "data": {
      "text/plain": [
       "6778"
      ]
     },
     "execution_count": 4,
     "metadata": {},
     "output_type": "execute_result"
    }
   ],
   "source": [
    "ans = 0\n",
    "\n",
    "for i in answers:\n",
    "    ans += len(''.join(set(i.replace(' ',''))))\n",
    "\n",
    "ans # 6778"
   ]
  },
  {
   "cell_type": "markdown",
   "metadata": {},
   "source": [
    "# Part 2"
   ]
  },
  {
   "cell_type": "code",
   "execution_count": 5,
   "metadata": {},
   "outputs": [
    {
     "data": {
      "text/plain": [
       "3406"
      ]
     },
     "execution_count": 5,
     "metadata": {},
     "output_type": "execute_result"
    }
   ],
   "source": [
    "for i, ans in enumerate(answers):\n",
    "    answers[i] = ans.split(' ')\n",
    "    \n",
    "result = 0\n",
    "\n",
    "for answers in answers:\n",
    "    persons_count = len(answers)\n",
    "    letters_dict = dict.fromkeys(string.ascii_lowercase, 0)\n",
    "    \n",
    "    for a in answers:\n",
    "        for l in a:\n",
    "            letters_dict[l] += 1\n",
    "            \n",
    "    for i in letters_dict:\n",
    "        if letters_dict[i] == persons_count:\n",
    "            result += 1\n",
    "        \n",
    "    \n",
    "result # 3406"
   ]
  },
  {
   "cell_type": "code",
   "execution_count": null,
   "metadata": {},
   "outputs": [],
   "source": []
  }
 ],
 "metadata": {
  "kernelspec": {
   "display_name": "Python 3",
   "language": "python",
   "name": "python3"
  },
  "language_info": {
   "codemirror_mode": {
    "name": "ipython",
    "version": 3
   },
   "file_extension": ".py",
   "mimetype": "text/x-python",
   "name": "python",
   "nbconvert_exporter": "python",
   "pygments_lexer": "ipython3",
   "version": "3.7.6"
  }
 },
 "nbformat": 4,
 "nbformat_minor": 4
}
