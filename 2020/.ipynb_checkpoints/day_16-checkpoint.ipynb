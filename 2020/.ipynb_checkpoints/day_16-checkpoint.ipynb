{
 "cells": [
  {
   "cell_type": "code",
   "execution_count": 1,
   "metadata": {},
   "outputs": [],
   "source": [
    "import numpy as np\n",
    "import re\n",
    "import itertools\n",
    "import heapq\n",
    "import time\n",
    "import collections"
   ]
  },
  {
   "cell_type": "code",
   "execution_count": 2,
   "metadata": {},
   "outputs": [],
   "source": [
    "input_data = [d.strip() for d in open('input16.txt')]\n",
    "# input_data"
   ]
  },
  {
   "cell_type": "code",
   "execution_count": 3,
   "metadata": {},
   "outputs": [],
   "source": [
    "fields = 0\n",
    "tickets = 0\n",
    "my_ticket = 0\n",
    "for i,l in enumerate(input_data):\n",
    "    if 'your ticket' in l:\n",
    "        fields = i-1\n",
    "        my_ticket = i+1\n",
    "        tickets = i+4"
   ]
  },
  {
   "cell_type": "markdown",
   "metadata": {},
   "source": [
    "# Part 1"
   ]
  },
  {
   "cell_type": "code",
   "execution_count": 4,
   "metadata": {},
   "outputs": [],
   "source": [
    "field_ranges = {}\n",
    "\n",
    "for i in input_data[:fields]:\n",
    "    field_name = re.search('^(\\D+):',i).group(1)\n",
    "    range1 = re.findall('(\\d+-\\d+)',i)[0]\n",
    "    range2 = re.findall('(\\d+-\\d+)',i)[1]\n",
    "    r1 = range(int(re.findall('(\\d+)',range1)[0]),int(re.findall('(\\d+)',range1)[1])+1)\n",
    "    r2 = range(int(re.findall('(\\d+)',range2)[0]),int(re.findall('(\\d+)',range2)[1])+1)\n",
    "    field_ranges[field_name] = [r1,r2]"
   ]
  },
  {
   "cell_type": "code",
   "execution_count": 5,
   "metadata": {},
   "outputs": [],
   "source": [
    "ranges_list = []\n",
    "for i in field_ranges:\n",
    "    ranges_list.append(field_ranges[i][0])\n",
    "    ranges_list.append(field_ranges[i][1])"
   ]
  },
  {
   "cell_type": "code",
   "execution_count": 6,
   "metadata": {},
   "outputs": [
    {
     "data": {
      "text/plain": [
       "19087"
      ]
     },
     "execution_count": 6,
     "metadata": {},
     "output_type": "execute_result"
    }
   ],
   "source": [
    "invalid = 0\n",
    "invalid_tickets = []\n",
    "all_tickets = input_data[tickets:]\n",
    "\n",
    "for i,line in enumerate(all_tickets):\n",
    "    nums = list(map(int, line.split(',')))\n",
    "    for n in nums:\n",
    "        if len([r for r in ranges_list if n in r]) == 0:\n",
    "            invalid += n\n",
    "            invalid_tickets.append(i)\n",
    "invalid\n",
    "# 19087"
   ]
  },
  {
   "cell_type": "markdown",
   "metadata": {},
   "source": [
    "# Part 2"
   ]
  },
  {
   "cell_type": "code",
   "execution_count": 7,
   "metadata": {},
   "outputs": [],
   "source": [
    "valid_tickets = [t for i,t in enumerate(all_tickets) if i not in invalid_tickets]\n",
    "valid_tickets = [list(map(int, t.split(','))) for t in valid_tickets]"
   ]
  },
  {
   "cell_type": "code",
   "execution_count": 8,
   "metadata": {
    "scrolled": true
   },
   "outputs": [],
   "source": [
    "matches = {}\n",
    "\n",
    "for i,field_values in enumerate(np.array(valid_tickets).T):\n",
    "    f = []\n",
    "    for field_name in field_ranges:\n",
    "        r1 = field_ranges[field_name][0]\n",
    "        r2 = field_ranges[field_name][1]\n",
    "        if len([value for value in field_values if value in r1 or value in r2]) == len(field_values):\n",
    "            f.append(field_name)\n",
    "    matches[i] = f"
   ]
  },
  {
   "cell_type": "code",
   "execution_count": 9,
   "metadata": {},
   "outputs": [
    {
     "data": {
      "text/plain": [
       "{0: ['departure time'],\n",
       " 1: ['departure track'],\n",
       " 2: ['class'],\n",
       " 3: ['duration'],\n",
       " 4: ['arrival track'],\n",
       " 5: ['zone'],\n",
       " 6: ['train'],\n",
       " 7: ['price'],\n",
       " 8: ['arrival platform'],\n",
       " 9: ['departure platform'],\n",
       " 10: ['arrival station'],\n",
       " 11: ['arrival location'],\n",
       " 12: ['row'],\n",
       " 13: ['route'],\n",
       " 14: ['departure station'],\n",
       " 15: ['departure location'],\n",
       " 16: ['type'],\n",
       " 17: ['departure date'],\n",
       " 18: ['wagon'],\n",
       " 19: ['seat']}"
      ]
     },
     "execution_count": 9,
     "metadata": {},
     "output_type": "execute_result"
    }
   ],
   "source": [
    "removed = set()\n",
    "run = True\n",
    "\n",
    "while run:\n",
    "    for field_id in matches:\n",
    "        if len(matches[field_id]) == 1 and matches[field_id][0] not in removed:\n",
    "            to_remove = matches[field_id][0]\n",
    "            for f in matches:\n",
    "                if len(matches[f])>1 and to_remove in matches[f]:\n",
    "                    matches[f].remove(to_remove)\n",
    "                    removed.add(to_remove)\n",
    "        elif len(removed) == len(matches)-1:\n",
    "            run = False\n",
    "\n",
    "matches"
   ]
  },
  {
   "cell_type": "code",
   "execution_count": 10,
   "metadata": {},
   "outputs": [
    {
     "data": {
      "text/plain": [
       "1382443095281"
      ]
     },
     "execution_count": 10,
     "metadata": {},
     "output_type": "execute_result"
    }
   ],
   "source": [
    "my_ticket = list(map(int, input_data[my_ticket].split(',')))\n",
    "ans = 1\n",
    "\n",
    "for i,v in enumerate(my_ticket):\n",
    "    if 'departure' in matches[i][0]:\n",
    "        ans *= v\n",
    "ans\n",
    "# 1382443095281"
   ]
  },
  {
   "cell_type": "code",
   "execution_count": null,
   "metadata": {},
   "outputs": [],
   "source": []
  }
 ],
 "metadata": {
  "kernelspec": {
   "display_name": "Python 3",
   "language": "python",
   "name": "python3"
  },
  "language_info": {
   "codemirror_mode": {
    "name": "ipython",
    "version": 3
   },
   "file_extension": ".py",
   "mimetype": "text/x-python",
   "name": "python",
   "nbconvert_exporter": "python",
   "pygments_lexer": "ipython3",
   "version": "3.7.6"
  }
 },
 "nbformat": 4,
 "nbformat_minor": 4
}
