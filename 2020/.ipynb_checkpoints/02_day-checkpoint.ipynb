{
 "cells": [
  {
   "cell_type": "code",
   "execution_count": 58,
   "metadata": {},
   "outputs": [],
   "source": [
    "nums = []\n",
    "\n",
    "with open(\"input01.txt\") as f:\n",
    "    for line in f:\n",
    "        nums.append(int(line))"
   ]
  },
  {
   "cell_type": "code",
   "execution_count": 50,
   "metadata": {},
   "outputs": [
    {
     "name": "stdout",
     "output_type": "stream",
     "text": [
      "puzzle 1: 646779 from numbers: 399 1621\n",
      "puzzle 2: 246191688 from numbers 591 1021 408\n"
     ]
    }
   ],
   "source": [
    "for i, num1 in enumerate(nums):\n",
    "    for j, num2 in enumerate(nums[i+1:]):\n",
    "        \n",
    "        if num1 + num2 == 2020:\n",
    "            print('puzzle 1:', num1*num2, 'from numbers:', num1, num2)\n",
    "        \n",
    "        for n, num3 in enumerate(nums[j+1:]):\n",
    "            if num1 + num2 + num3 == 2020:\n",
    "                print('puzzle 2:', num1*num2*num3, 'from numbers', num1, num2, num3)"
   ]
  },
  {
   "cell_type": "code",
   "execution_count": null,
   "metadata": {},
   "outputs": [],
   "source": []
  }
 ],
 "metadata": {
  "kernelspec": {
   "display_name": "Python 3",
   "language": "python",
   "name": "python3"
  },
  "language_info": {
   "codemirror_mode": {
    "name": "ipython",
    "version": 3
   },
   "file_extension": ".py",
   "mimetype": "text/x-python",
   "name": "python",
   "nbconvert_exporter": "python",
   "pygments_lexer": "ipython3",
   "version": "3.7.6"
  }
 },
 "nbformat": 4,
 "nbformat_minor": 4
}
