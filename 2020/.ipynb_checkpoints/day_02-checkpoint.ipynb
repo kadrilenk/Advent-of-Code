{
 "cells": [
  {
   "cell_type": "code",
   "execution_count": 1,
   "metadata": {},
   "outputs": [],
   "source": [
    "import re"
   ]
  },
  {
   "cell_type": "code",
   "execution_count": 2,
   "metadata": {},
   "outputs": [],
   "source": [
    "passwords = []\n",
    "\n",
    "with open('input02.txt') as f:\n",
    "    for line in f:\n",
    "        passwords.append(line.strip())"
   ]
  },
  {
   "cell_type": "code",
   "execution_count": 3,
   "metadata": {
    "scrolled": true
   },
   "outputs": [
    {
     "name": "stdout",
     "output_type": "stream",
     "text": [
      "puzzle 1: 519\n",
      "puzzle 2: 708\n"
     ]
    }
   ],
   "source": [
    "valid_passwords_1 = 0\n",
    "valid_passwords_2 = 0\n",
    "\n",
    "for pwd in passwords:\n",
    "    lower = int(re.search('([0-9]*)-', pwd).group(1))\n",
    "    upper = int(re.search('-([0-9]*)', pwd).group(1))\n",
    "    letter = re.search('([a-z]):', pwd).group(1)\n",
    "    password = re.search(': ([a-z]*)', pwd).group(1)\n",
    "    \n",
    "    if password.count(letter) >= lower and password.count(letter) <= upper:\n",
    "        valid_passwords_1 += 1\n",
    "        \n",
    "    if (password[lower-1] == letter) + (password[upper-1] == letter) == 1:\n",
    "        valid_passwords_2 += 1\n",
    "\n",
    "print('puzzle 1:', valid_passwords_1)\n",
    "print('puzzle 2:', valid_passwords_2)\n",
    "\n",
    "# 519\n",
    "# 708"
   ]
  },
  {
   "cell_type": "code",
   "execution_count": null,
   "metadata": {},
   "outputs": [],
   "source": []
  }
 ],
 "metadata": {
  "kernelspec": {
   "display_name": "Python 3",
   "language": "python",
   "name": "python3"
  },
  "language_info": {
   "codemirror_mode": {
    "name": "ipython",
    "version": 3
   },
   "file_extension": ".py",
   "mimetype": "text/x-python",
   "name": "python",
   "nbconvert_exporter": "python",
   "pygments_lexer": "ipython3",
   "version": "3.7.6"
  }
 },
 "nbformat": 4,
 "nbformat_minor": 4
}
