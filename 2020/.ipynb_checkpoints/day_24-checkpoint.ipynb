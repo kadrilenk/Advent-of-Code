{
 "cells": [
  {
   "cell_type": "code",
   "execution_count": 1,
   "metadata": {},
   "outputs": [],
   "source": [
    "input_data = [d.strip() for d in open('input22.txt')]"
   ]
  },
  {
   "cell_type": "code",
   "execution_count": 2,
   "metadata": {},
   "outputs": [],
   "source": [
    "empty_line = [i for i,l in enumerate(input_data) if l==''][0]"
   ]
  },
  {
   "cell_type": "markdown",
   "metadata": {},
   "source": [
    "# Part 1"
   ]
  },
  {
   "cell_type": "code",
   "execution_count": 3,
   "metadata": {},
   "outputs": [],
   "source": [
    "player1 = [int(i) for i in input_data[1:empty_line]]\n",
    "player2 = [int(i) for i in input_data[empty_line+2:]]"
   ]
  },
  {
   "cell_type": "code",
   "execution_count": 4,
   "metadata": {
    "scrolled": true
   },
   "outputs": [],
   "source": [
    "while len(player1) != 0 and len(player2) != 0:\n",
    "    card1, card2 = player1.pop(0), player2.pop(0)\n",
    "\n",
    "    if card1 > card2:\n",
    "        player1.extend([card1, card2])\n",
    "    else:\n",
    "        player2.extend([card2, card1])"
   ]
  },
  {
   "cell_type": "code",
   "execution_count": 5,
   "metadata": {},
   "outputs": [],
   "source": [
    "def calculate_score(cards):\n",
    "    ans = 0\n",
    "    cards.reverse()\n",
    "    for i, v in enumerate(cards):\n",
    "        ans += (i+1)*v\n",
    "    return ans"
   ]
  },
  {
   "cell_type": "code",
   "execution_count": 6,
   "metadata": {},
   "outputs": [
    {
     "name": "stdout",
     "output_type": "stream",
     "text": [
      "30138\n"
     ]
    }
   ],
   "source": [
    "if len(player1) > len(player2):\n",
    "    print(calculate_score(player1))\n",
    "else:\n",
    "    print(calculate_score(player2))\n",
    "\n",
    "# 30138"
   ]
  },
  {
   "cell_type": "markdown",
   "metadata": {},
   "source": [
    "# Part 2"
   ]
  },
  {
   "cell_type": "code",
   "execution_count": 7,
   "metadata": {},
   "outputs": [],
   "source": [
    "player1 = [int(i) for i in input_data[1:empty_line]]\n",
    "player2 = [int(i) for i in input_data[empty_line+2:]]"
   ]
  },
  {
   "cell_type": "code",
   "execution_count": 8,
   "metadata": {},
   "outputs": [],
   "source": [
    "def play_game(player1, player2):\n",
    "    setup = {1:[],2:[]}\n",
    "\n",
    "    while len(player1) != 0 and len(player2) != 0:\n",
    "        \n",
    "        if player1 in setup[1] and player2 in setup[2]:\n",
    "            player2 = []\n",
    "\n",
    "        else:\n",
    "            setup[1].append(player1.copy())\n",
    "            setup[2].append(player2.copy())\n",
    "            card1, card2 = player1.pop(0), player2.pop(0)\n",
    "            \n",
    "            if card1 <= len(player1) and card2 <= len(player2):\n",
    "                if play_game(player1[:card1].copy(), player2[:card2].copy()) == 1:\n",
    "                    player1.extend([card1, card2])\n",
    "                else:\n",
    "                    player2.extend([card2, card1])\n",
    "                    \n",
    "            else:\n",
    "                if card1 > card2:\n",
    "                    player1.extend([card1, card2])\n",
    "                else:\n",
    "                    player2.extend([card2, card1])\n",
    "\n",
    "    if len(player2) == 0:\n",
    "        return 1\n",
    "    else:\n",
    "        return 2"
   ]
  },
  {
   "cell_type": "code",
   "execution_count": 9,
   "metadata": {},
   "outputs": [
    {
     "name": "stdout",
     "output_type": "stream",
     "text": [
      "31587\n"
     ]
    }
   ],
   "source": [
    "if play_game(player1, player2) == 1:\n",
    "    print(calculate_score(player1))\n",
    "else:\n",
    "    print(calculate_score(player2))\n",
    "\n",
    "# 31587"
   ]
  },
  {
   "cell_type": "code",
   "execution_count": null,
   "metadata": {},
   "outputs": [],
   "source": []
  }
 ],
 "metadata": {
  "kernelspec": {
   "display_name": "Python 3",
   "language": "python",
   "name": "python3"
  },
  "language_info": {
   "codemirror_mode": {
    "name": "ipython",
    "version": 3
   },
   "file_extension": ".py",
   "mimetype": "text/x-python",
   "name": "python",
   "nbconvert_exporter": "python",
   "pygments_lexer": "ipython3",
   "version": "3.7.6"
  }
 },
 "nbformat": 4,
 "nbformat_minor": 4
}
