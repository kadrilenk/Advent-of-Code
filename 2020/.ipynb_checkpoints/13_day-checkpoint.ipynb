{
 "cells": [
  {
   "cell_type": "code",
   "execution_count": 1,
   "metadata": {},
   "outputs": [],
   "source": [
    "import numpy as np\n",
    "import re\n",
    "import itertools\n",
    "import time\n",
    "import collections"
   ]
  },
  {
   "cell_type": "code",
   "execution_count": 2,
   "metadata": {},
   "outputs": [
    {
     "data": {
      "text/plain": [
       "['939', '7,13,x,x,59,x,31,19']"
      ]
     },
     "execution_count": 2,
     "metadata": {},
     "output_type": "execute_result"
    }
   ],
   "source": [
    "input_data = [d.strip() for d in open('input13_2.txt')]\n",
    "input_data"
   ]
  },
  {
   "cell_type": "markdown",
   "metadata": {},
   "source": [
    "# Part 1"
   ]
  },
  {
   "cell_type": "code",
   "execution_count": 3,
   "metadata": {},
   "outputs": [],
   "source": [
    "buses = input_data[1].split(',')\n",
    "buses = [int(b) for b in buses if b != 'x']\n",
    "depart = int(input_data[0])"
   ]
  },
  {
   "cell_type": "code",
   "execution_count": 4,
   "metadata": {},
   "outputs": [
    {
     "name": "stdout",
     "output_type": "stream",
     "text": [
      "295\n",
      "0.0003020763397216797 seconds\n"
     ]
    }
   ],
   "source": [
    "start_time = time.time()\n",
    "\n",
    "depart_times = {}\n",
    "running = True\n",
    "\n",
    "while running:\n",
    "    for b in buses:\n",
    "        if depart % b == 0:\n",
    "            print(b * (depart - int(input_data[0])))\n",
    "            running = False\n",
    "    depart += 1\n",
    "    \n",
    "print('%s seconds' % (time.time() - start_time))"
   ]
  },
  {
   "cell_type": "markdown",
   "metadata": {},
   "source": [
    "# Part 2"
   ]
  },
  {
   "cell_type": "code",
   "execution_count": 5,
   "metadata": {},
   "outputs": [
    {
     "data": {
      "text/plain": [
       "939"
      ]
     },
     "execution_count": 5,
     "metadata": {},
     "output_type": "execute_result"
    }
   ],
   "source": [
    "buses = input_data[1].split(',')\n",
    "depart = int(input_data[0])\n",
    "depart"
   ]
  },
  {
   "cell_type": "code",
   "execution_count": 6,
   "metadata": {},
   "outputs": [
    {
     "data": {
      "text/plain": [
       "{7: 0, 13: 1, 59: 4, 31: 6, 19: 7}"
      ]
     },
     "execution_count": 6,
     "metadata": {},
     "output_type": "execute_result"
    }
   ],
   "source": [
    "bus_departures = {}\n",
    "for i, bus in enumerate(buses):\n",
    "    if bus != 'x':\n",
    "        bus_departures[int(bus)] = i\n",
    "\n",
    "bus_departures"
   ]
  },
  {
   "cell_type": "code",
   "execution_count": 7,
   "metadata": {},
   "outputs": [
    {
     "data": {
      "text/plain": [
       "[59, 31, 19, 13, 7]"
      ]
     },
     "execution_count": 7,
     "metadata": {},
     "output_type": "execute_result"
    }
   ],
   "source": [
    "buses_sorted = sorted(list(bus_departures.keys()), reverse=True)\n",
    "buses_sorted"
   ]
  },
  {
   "cell_type": "code",
   "execution_count": 8,
   "metadata": {},
   "outputs": [
    {
     "name": "stdout",
     "output_type": "stream",
     "text": [
      "451763\n"
     ]
    }
   ],
   "source": [
    "step = 1\n",
    "\n",
    "for i, bus in enumerate(buses_sorted[:4]):\n",
    "    for j in range(step,99999999999999999999,step):\n",
    "        if sum([j%buses_sorted[i] for bus in buses_sorted[:i+1]]) == 0:\n",
    "            step = j\n",
    "            break\n",
    "print(step)"
   ]
  },
  {
   "cell_type": "code",
   "execution_count": 9,
   "metadata": {},
   "outputs": [
    {
     "name": "stdout",
     "output_type": "stream",
     "text": [
      "165255\n",
      "0.01093602180480957 seconds\n"
     ]
    }
   ],
   "source": [
    "start_time = time.time()\n",
    "\n",
    "for a in range(buses_sorted[0]-bus_departures[buses_sorted[0]],99999999999999999999,buses_sorted[0]):\n",
    "    if sum([(a+bus_departures[buses_sorted[i]])%buses_sorted[i] for i in np.arange(1,4)]) == 0:\n",
    "        depart = a\n",
    "        break\n",
    "\n",
    "print(depart)\n",
    "print('%s seconds' % (time.time() - start_time))"
   ]
  },
  {
   "cell_type": "code",
   "execution_count": 10,
   "metadata": {},
   "outputs": [
    {
     "name": "stdout",
     "output_type": "stream",
     "text": [
      "1068781\n",
      "0.0002918243408203125 seconds\n"
     ]
    }
   ],
   "source": [
    "start_time = time.time()\n",
    "\n",
    "while True:\n",
    "    if sum([(depart+bus_departures[bus])%bus for bus in bus_departures]) == 0:\n",
    "        break\n",
    "    else:\n",
    "        depart += step\n",
    "\n",
    "print(depart)\n",
    "print('%s seconds' % (time.time() - start_time))\n",
    "# 842186186521918"
   ]
  },
  {
   "cell_type": "code",
   "execution_count": null,
   "metadata": {},
   "outputs": [],
   "source": []
  }
 ],
 "metadata": {
  "kernelspec": {
   "display_name": "Python 3",
   "language": "python",
   "name": "python3"
  },
  "language_info": {
   "codemirror_mode": {
    "name": "ipython",
    "version": 3
   },
   "file_extension": ".py",
   "mimetype": "text/x-python",
   "name": "python",
   "nbconvert_exporter": "python",
   "pygments_lexer": "ipython3",
   "version": "3.7.6"
  }
 },
 "nbformat": 4,
 "nbformat_minor": 4
}
