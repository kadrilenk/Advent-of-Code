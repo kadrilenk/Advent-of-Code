{
 "cells": [
  {
   "cell_type": "code",
   "execution_count": 1,
   "metadata": {},
   "outputs": [],
   "source": [
    "import numpy as np\n",
    "import re"
   ]
  },
  {
   "cell_type": "code",
   "execution_count": 2,
   "metadata": {},
   "outputs": [],
   "source": [
    "boarding_passes = []\n",
    "\n",
    "with open(\"input05.txt\") as f:\n",
    "    for line in f:\n",
    "        boarding_passes.append(line.strip())"
   ]
  },
  {
   "cell_type": "code",
   "execution_count": 3,
   "metadata": {},
   "outputs": [],
   "source": [
    "ids = []\n",
    "\n",
    "for bp in boarding_passes:\n",
    "    \n",
    "    row_lower = 0\n",
    "    row_upper = 127\n",
    "    col_lower = 0\n",
    "    col_upper = 7\n",
    "    \n",
    "    for i in bp:\n",
    "        if i == 'F':\n",
    "            row_upper = row_upper - (row_upper-row_lower+1)/2\n",
    "        elif i == 'B':\n",
    "            row_lower = row_lower + (row_upper-row_lower+1)/2\n",
    "        elif i == 'L':\n",
    "            col_upper = col_upper - (col_upper-col_lower+1)/2\n",
    "        elif i == 'R':\n",
    "            col_lower = col_lower + (col_upper-col_lower+1)/2\n",
    "\n",
    "    bp_id = int(row_lower*8+col_lower)\n",
    "    ids.append(bp_id)"
   ]
  },
  {
   "cell_type": "code",
   "execution_count": 4,
   "metadata": {},
   "outputs": [
    {
     "name": "stdout",
     "output_type": "stream",
     "text": [
      "part 1: 838\n"
     ]
    }
   ],
   "source": [
    "print('part 1:', max(ids)) # 838"
   ]
  },
  {
   "cell_type": "code",
   "execution_count": 5,
   "metadata": {},
   "outputs": [
    {
     "name": "stdout",
     "output_type": "stream",
     "text": [
      "part 2: 714\n"
     ]
    }
   ],
   "source": [
    "for i in np.arange(95,839):\n",
    "    if i not in ids:\n",
    "        print('part 2:', i) # 714"
   ]
  },
  {
   "cell_type": "code",
   "execution_count": null,
   "metadata": {},
   "outputs": [],
   "source": []
  },
  {
   "cell_type": "code",
   "execution_count": null,
   "metadata": {},
   "outputs": [],
   "source": []
  }
 ],
 "metadata": {
  "kernelspec": {
   "display_name": "Python 3",
   "language": "python",
   "name": "python3"
  },
  "language_info": {
   "codemirror_mode": {
    "name": "ipython",
    "version": 3
   },
   "file_extension": ".py",
   "mimetype": "text/x-python",
   "name": "python",
   "nbconvert_exporter": "python",
   "pygments_lexer": "ipython3",
   "version": "3.7.6"
  }
 },
 "nbformat": 4,
 "nbformat_minor": 4
}
