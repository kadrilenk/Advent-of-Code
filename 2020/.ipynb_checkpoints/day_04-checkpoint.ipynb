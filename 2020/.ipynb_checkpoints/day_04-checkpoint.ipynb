{
 "cells": [
  {
   "cell_type": "code",
   "execution_count": 1,
   "metadata": {},
   "outputs": [],
   "source": [
    "import numpy as np\n",
    "import re"
   ]
  },
  {
   "cell_type": "code",
   "execution_count": 2,
   "metadata": {},
   "outputs": [],
   "source": [
    "passports = []\n",
    "\n",
    "with open('input04.txt') as f:\n",
    "    for line in f:\n",
    "        passports.append(line.strip())"
   ]
  },
  {
   "cell_type": "code",
   "execution_count": 3,
   "metadata": {},
   "outputs": [],
   "source": [
    "passports_clean = ['']\n",
    "\n",
    "pos = 0\n",
    "\n",
    "for i, line in enumerate(passports):\n",
    "    if len(line) > 0:\n",
    "        passports_clean[pos] = (passports_clean[pos] + ' ' + line).strip()\n",
    "    else:\n",
    "        pos += 1\n",
    "        passports_clean.append('')"
   ]
  },
  {
   "cell_type": "code",
   "execution_count": 4,
   "metadata": {},
   "outputs": [
    {
     "name": "stdout",
     "output_type": "stream",
     "text": [
      "237\n"
     ]
    }
   ],
   "source": [
    "valid_passports = 0\n",
    "\n",
    "for passport in passports_clean:\n",
    "    ecl = re.search('ecl:', passport)!=None\n",
    "    pid = re.search('pid:', passport)!=None\n",
    "    eyr = re.search('eyr:', passport)!=None\n",
    "    hcl = re.search('hcl:', passport)!=None\n",
    "    byr = re.search('byr:', passport)!=None\n",
    "    iyr = re.search('iyr:', passport)!=None\n",
    "    hgt = re.search('hgt:', passport)!=None\n",
    "    \n",
    "    if ecl and pid and eyr and hcl and byr and iyr and hgt:\n",
    "        valid_passports += 1\n",
    "        \n",
    "print(valid_passports)\n",
    "# 237"
   ]
  },
  {
   "cell_type": "code",
   "execution_count": 5,
   "metadata": {},
   "outputs": [
    {
     "name": "stdout",
     "output_type": "stream",
     "text": [
      "172\n"
     ]
    }
   ],
   "source": [
    "valid_passports = 0\n",
    "\n",
    "for passport in passports_clean:\n",
    "    byr = re.search('byr:(\\d{4})', passport)\n",
    "    if byr != None:\n",
    "        byr = int(byr.group(1)) >= 1920 and int(byr.group(1)) <= 2002\n",
    "    else:\n",
    "        byr = False\n",
    "\n",
    "    iyr = re.search('iyr:(\\d{4})', passport)    \n",
    "    if iyr != None:\n",
    "        iyr = int(iyr.group(1)) >= 2010 and int(iyr.group(1)) <= 2020\n",
    "    else:\n",
    "        iyr = False\n",
    "        \n",
    "        \n",
    "    eyr = re.search('eyr:(\\d{4})', passport)\n",
    "    if eyr != None:\n",
    "        eyr = int(eyr.group(1)) >= 2020 and int(eyr.group(1)) <= 2030\n",
    "    else:\n",
    "        eyr = False\n",
    "        \n",
    "    hgt = re.search('hgt:(\\d+)(cm|in)', passport)\n",
    "    if hgt != None:\n",
    "        if hgt.group(2) == 'cm':\n",
    "            hgt = int(hgt.group(1)) >= 150 and int(hgt.group(1)) <= 193\n",
    "        elif hgt.group(2) == 'in':\n",
    "            hgt = int(hgt.group(1)) >= 59 and int(hgt.group(1)) <= 76\n",
    "    else:\n",
    "        hgt = False\n",
    "    \n",
    "    hcl = re.search('hcl:#[0-9a-fA-F]+', passport) != None    \n",
    "    \n",
    "    ecl = re.search('ecl:(amb|blu|brn|gry|grn|hzl|oth)', passport) != None\n",
    "    \n",
    "    pid = re.search('pid:(\\d+)', passport)\n",
    "    if pid != None:\n",
    "        pid = len(pid.group(1)) == 9\n",
    "    else:\n",
    "        pid = False\n",
    "        \n",
    "    if ecl and pid and eyr and hcl and byr and iyr and hgt:\n",
    "        valid_passports += 1\n",
    "        \n",
    "print(valid_passports)\n",
    "# 172"
   ]
  },
  {
   "cell_type": "code",
   "execution_count": null,
   "metadata": {},
   "outputs": [],
   "source": []
  }
 ],
 "metadata": {
  "kernelspec": {
   "display_name": "Python 3",
   "language": "python",
   "name": "python3"
  },
  "language_info": {
   "codemirror_mode": {
    "name": "ipython",
    "version": 3
   },
   "file_extension": ".py",
   "mimetype": "text/x-python",
   "name": "python",
   "nbconvert_exporter": "python",
   "pygments_lexer": "ipython3",
   "version": "3.7.6"
  }
 },
 "nbformat": 4,
 "nbformat_minor": 4
}
