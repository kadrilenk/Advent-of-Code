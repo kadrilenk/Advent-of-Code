{
 "cells": [
  {
   "cell_type": "code",
   "execution_count": 1,
   "metadata": {},
   "outputs": [],
   "source": [
    "import re\n",
    "import numpy as np\n",
    "import itertools\n",
    "import time\n",
    "from collections import Counter"
   ]
  },
  {
   "cell_type": "code",
   "execution_count": 2,
   "metadata": {},
   "outputs": [],
   "source": [
    "input_data = [d.strip() for d in open('input21.txt')]\n",
    "# input_data"
   ]
  },
  {
   "cell_type": "code",
   "execution_count": 3,
   "metadata": {},
   "outputs": [],
   "source": [
    "foods = []\n",
    "for i in input_data:\n",
    "    foods.append({'ingredients':re.search('(.+) \\(contains',i).group(1).split(),\n",
    "                  'allergens':re.search('contains (.+)\\)',i).group(1).split(', ')})"
   ]
  },
  {
   "cell_type": "code",
   "execution_count": 4,
   "metadata": {},
   "outputs": [],
   "source": [
    "allergen_occurrances = []\n",
    "ingredients_occurrances = []\n",
    "\n",
    "for f in foods:\n",
    "    for a in f['allergens']:\n",
    "        allergen_occurrances.append(a)\n",
    "    for i in f['ingredients']:\n",
    "        ingredients_occurrances.append(i)\n",
    "\n",
    "allergen_occurrances = dict(Counter(allergen_occurrances))\n",
    "ingredients_occurrances = dict(Counter(ingredients_occurrances))\n",
    "\n",
    "all_ingredients = set([i for f in foods for i in f['ingredients']])"
   ]
  },
  {
   "cell_type": "code",
   "execution_count": 5,
   "metadata": {},
   "outputs": [],
   "source": [
    "possibilities = dict(zip([i for i in all_ingredients], [set() for i in range(len(all_ingredients))]))"
   ]
  },
  {
   "cell_type": "code",
   "execution_count": 6,
   "metadata": {
    "scrolled": false
   },
   "outputs": [],
   "source": [
    "for x, f in enumerate(foods):\n",
    "    for i in f['ingredients']:\n",
    "        for a in f['allergens']:\n",
    "            allergen_count = 1\n",
    "            \n",
    "            if allergen_occurrances[a]==1:\n",
    "                all_ingredients.discard(i)\n",
    "                possibilities[i].add(a)\n",
    "            else:\n",
    "            \n",
    "                for y,ff in enumerate(foods):\n",
    "                    for ii in ff['ingredients']:\n",
    "                        for aa in ff['allergens']:\n",
    "                            if x!=y and ii==i and aa==a:\n",
    "                                allergen_count += 1\n",
    "                                if allergen_count == allergen_occurrances[aa]:\n",
    "                                    all_ingredients.discard(ii)\n",
    "                                    possibilities[ii].add(aa)"
   ]
  },
  {
   "cell_type": "code",
   "execution_count": 7,
   "metadata": {},
   "outputs": [
    {
     "data": {
      "text/plain": [
       "2265"
      ]
     },
     "execution_count": 7,
     "metadata": {},
     "output_type": "execute_result"
    }
   ],
   "source": [
    "ans = 0\n",
    "for i in ingredients_occurrances:\n",
    "    if i in all_ingredients:\n",
    "        ans += ingredients_occurrances[i]\n",
    "ans"
   ]
  },
  {
   "cell_type": "markdown",
   "metadata": {},
   "source": [
    "# Part 2"
   ]
  },
  {
   "cell_type": "code",
   "execution_count": 8,
   "metadata": {},
   "outputs": [
    {
     "data": {
      "text/plain": [
       "{'pxr': {'nuts', 'shellfish'},\n",
       " 'xkclg': {'sesame'},\n",
       " 'dtb': {'eggs', 'nuts'},\n",
       " 'cqnl': {'eggs', 'fish', 'peanuts', 'sesame', 'shellfish', 'soy'},\n",
       " 'lsvlx': {'shellfish', 'soy', 'wheat'},\n",
       " 'xtzh': {'sesame', 'shellfish'},\n",
       " 'zgk': {'fish', 'wheat'},\n",
       " 'jpnv': {'sesame', 'soy'}}"
      ]
     },
     "execution_count": 8,
     "metadata": {},
     "output_type": "execute_result"
    }
   ],
   "source": [
    "for i in all_ingredients:\n",
    "    del possibilities[i]\n",
    "    \n",
    "possibilities"
   ]
  },
  {
   "cell_type": "code",
   "execution_count": 9,
   "metadata": {},
   "outputs": [
    {
     "data": {
      "text/plain": [
       "{'pxr': 'nuts',\n",
       " 'xkclg': 'sesame',\n",
       " 'dtb': 'eggs',\n",
       " 'cqnl': 'peanuts',\n",
       " 'lsvlx': 'wheat',\n",
       " 'xtzh': 'shellfish',\n",
       " 'zgk': 'fish',\n",
       " 'jpnv': 'soy'}"
      ]
     },
     "execution_count": 9,
     "metadata": {},
     "output_type": "execute_result"
    }
   ],
   "source": [
    "cleaned = set()\n",
    "run = True\n",
    "\n",
    "while run:\n",
    "    for i in possibilities:\n",
    "        if len(possibilities[i]) == 1 and i not in cleaned:\n",
    "            to_remove = list(possibilities[i])[0]\n",
    "            for f in possibilities:\n",
    "                if len(possibilities[f])>1:\n",
    "                    possibilities[f].discard(to_remove)\n",
    "                    cleaned.add(i)\n",
    "        elif len(cleaned) == len(possibilities)-1:\n",
    "            run = False\n",
    "\n",
    "for i in possibilities:\n",
    "    possibilities[i] = list(possibilities[i])[0]\n",
    "    \n",
    "possibilities"
   ]
  },
  {
   "cell_type": "code",
   "execution_count": 10,
   "metadata": {},
   "outputs": [
    {
     "data": {
      "text/plain": [
       "'dtb,zgk,pxr,cqnl,xkclg,xtzh,jpnv,lsvlx'"
      ]
     },
     "execution_count": 10,
     "metadata": {},
     "output_type": "execute_result"
    }
   ],
   "source": [
    "possibilities = dict(sorted(possibilities.items(), key=lambda item: item[1]))\n",
    "','.join(list(possibilities.keys()))\n",
    "# dtb,zgk,pxr,cqnl,xkclg,xtzh,jpnv,lsvlx"
   ]
  }
 ],
 "metadata": {
  "kernelspec": {
   "display_name": "Python 3",
   "language": "python",
   "name": "python3"
  },
  "language_info": {
   "codemirror_mode": {
    "name": "ipython",
    "version": 3
   },
   "file_extension": ".py",
   "mimetype": "text/x-python",
   "name": "python",
   "nbconvert_exporter": "python",
   "pygments_lexer": "ipython3",
   "version": "3.7.6"
  }
 },
 "nbformat": 4,
 "nbformat_minor": 4
}
