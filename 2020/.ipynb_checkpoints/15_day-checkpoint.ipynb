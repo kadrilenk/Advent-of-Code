{
 "cells": [
  {
   "cell_type": "code",
   "execution_count": 1,
   "metadata": {},
   "outputs": [],
   "source": [
    "# import numpy as np\n",
    "import re\n",
    "import itertools\n",
    "# import time\n",
    "# import collections"
   ]
  },
  {
   "cell_type": "code",
   "execution_count": 2,
   "metadata": {},
   "outputs": [],
   "source": [
    "input_data = [d.strip() for d in open('input14.txt')]\n",
    "# input_data"
   ]
  },
  {
   "cell_type": "markdown",
   "metadata": {},
   "source": [
    "# Part 1"
   ]
  },
  {
   "cell_type": "code",
   "execution_count": 3,
   "metadata": {},
   "outputs": [],
   "source": [
    "def apply_mask_to_value(mask, value):\n",
    "\n",
    "    b_value = '{0:b}'.format(value)\n",
    "    b_value = '0'*(len(mask) - len(b_value)) + b_value\n",
    "\n",
    "    for i, n in enumerate(mask):\n",
    "        if n == '1' or n == '0':\n",
    "            b_value = b_value[:i] + n + b_value[i+1:]\n",
    "\n",
    "    return int(b_value, 2)"
   ]
  },
  {
   "cell_type": "code",
   "execution_count": 4,
   "metadata": {},
   "outputs": [
    {
     "data": {
      "text/plain": [
       "10050490168421"
      ]
     },
     "execution_count": 4,
     "metadata": {},
     "output_type": "execute_result"
    }
   ],
   "source": [
    "memory = {}\n",
    "\n",
    "for i in input_data:\n",
    "    if i[:4] == 'mask':\n",
    "        mask = i[-36:]\n",
    "    elif i[:3] == 'mem':\n",
    "        address = re.search('\\[(\\d+)\\]', i).group(1)\n",
    "        value = int(re.search('= (\\d+)', i).group(1))\n",
    "        memory[address] = apply_mask_to_value(mask, value)\n",
    "        \n",
    "sum(list(memory.values()))\n",
    "# 10050490168421"
   ]
  },
  {
   "cell_type": "markdown",
   "metadata": {},
   "source": [
    "# Part 2"
   ]
  },
  {
   "cell_type": "code",
   "execution_count": 5,
   "metadata": {},
   "outputs": [],
   "source": [
    "def find_all(s, c):\n",
    "    idx = s.find(c)\n",
    "    while idx != -1:\n",
    "        yield idx\n",
    "        idx = s.find(c, idx+1)"
   ]
  },
  {
   "cell_type": "code",
   "execution_count": 6,
   "metadata": {},
   "outputs": [],
   "source": [
    "def apply_mask_to_address(mask, address):\n",
    "\n",
    "    b_address = '{0:b}'.format(address)\n",
    "    b_address = '0'*(len(mask) - len(b_address)) + b_address\n",
    "    \n",
    "    for i, n in enumerate(mask):\n",
    "        if n == '1' or n == 'X':\n",
    "            b_address = b_address[:i] + n + b_address[i+1:]\n",
    "            \n",
    "    combos = list(itertools.product([0,1], repeat=b_address.count('X')))\n",
    "    x_loc = list(find_all(mask, 'X'))\n",
    "    addresses = []\n",
    "    \n",
    "    for combo in combos:\n",
    "        new_address = b_address\n",
    "        for i, c in enumerate(combo):\n",
    "            new_address = new_address[:x_loc[i]] + str(c) + new_address[x_loc[i]+1:]\n",
    "        addresses.append(int(new_address,2))\n",
    "    \n",
    "    return addresses"
   ]
  },
  {
   "cell_type": "code",
   "execution_count": 7,
   "metadata": {},
   "outputs": [
    {
     "data": {
      "text/plain": [
       "2173858456958"
      ]
     },
     "execution_count": 7,
     "metadata": {},
     "output_type": "execute_result"
    }
   ],
   "source": [
    "memory = {}\n",
    "\n",
    "for i in input_data:\n",
    "    if i[:4] == 'mask':\n",
    "        mask = i[-36:]\n",
    "    elif i[:3] == 'mem':\n",
    "        address = int(re.search('\\[(\\d+)\\]', i).group(1))\n",
    "        value = int(re.search('= (\\d+)', i).group(1))\n",
    "        addresses = apply_mask_to_address(mask, address)\n",
    "        for a in addresses:\n",
    "            memory[a] = value\n",
    "        \n",
    "sum(list(memory.values()))\n",
    "# 2173858456958"
   ]
  },
  {
   "cell_type": "code",
   "execution_count": null,
   "metadata": {},
   "outputs": [],
   "source": []
  }
 ],
 "metadata": {
  "kernelspec": {
   "display_name": "Python 3",
   "language": "python",
   "name": "python3"
  },
  "language_info": {
   "codemirror_mode": {
    "name": "ipython",
    "version": 3
   },
   "file_extension": ".py",
   "mimetype": "text/x-python",
   "name": "python",
   "nbconvert_exporter": "python",
   "pygments_lexer": "ipython3",
   "version": "3.7.6"
  }
 },
 "nbformat": 4,
 "nbformat_minor": 4
}
