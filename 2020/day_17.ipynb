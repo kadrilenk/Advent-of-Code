{
 "cells": [
  {
   "cell_type": "code",
   "execution_count": 2,
   "metadata": {},
   "outputs": [],
   "source": [
    "import numpy as np\n",
    "import itertools\n",
    "import time\n",
    "import collections"
   ]
  },
  {
   "cell_type": "code",
   "execution_count": 59,
   "metadata": {},
   "outputs": [
    {
     "data": {
      "text/plain": [
       "(1, 8, 8)"
      ]
     },
     "execution_count": 59,
     "metadata": {},
     "output_type": "execute_result"
    }
   ],
   "source": [
    "input_data = [d.strip() for d in open('input17.txt')]\n",
    "\n",
    "for i,d in enumerate(input_data):\n",
    "    l=[]\n",
    "    l[:0]=d\n",
    "    input_data[i] = l\n",
    "\n",
    "cube = np.array(input_data).reshape(1,len(input_data),len(input_data[0])) # z y x\n",
    "cube.shape\n",
    "# cube"
   ]
  },
  {
   "cell_type": "markdown",
   "metadata": {},
   "source": [
    "# Part 1"
   ]
  },
  {
   "cell_type": "code",
   "execution_count": 60,
   "metadata": {
    "scrolled": false
   },
   "outputs": [
    {
     "data": {
      "text/plain": [
       "(13, 20, 20)"
      ]
     },
     "execution_count": 60,
     "metadata": {},
     "output_type": "execute_result"
    }
   ],
   "source": [
    "# add 6 in each direction\n",
    "expand = 6\n",
    "z, y, x = cube.shape\n",
    "\n",
    "z_layer = np.repeat(['.'], expand*y*x).reshape(expand,y,x)\n",
    "cube = np.vstack((z_layer, np.vstack((cube, z_layer))))\n",
    "z, y, x = cube.shape\n",
    "\n",
    "y_layer = np.repeat(['.'], z*expand*x).reshape(z,expand,x)\n",
    "cube = np.hstack((y_layer, np.hstack((cube, y_layer))))\n",
    "z, y, x = cube.shape\n",
    "\n",
    "x_layer = np.repeat(['.'], z*y*expand).reshape(z,y,expand)\n",
    "cube = np.dstack((x_layer, np.dstack((cube, x_layer))))\n",
    "z, y, x = cube.shape\n",
    "\n",
    "cube.shape"
   ]
  },
  {
   "cell_type": "code",
   "execution_count": 61,
   "metadata": {},
   "outputs": [],
   "source": [
    "current_cube = cube.copy()\n",
    "new_cube = current_cube.copy()"
   ]
  },
  {
   "cell_type": "code",
   "execution_count": 62,
   "metadata": {},
   "outputs": [],
   "source": [
    "def get_active_neighbour_count(c):\n",
    "    c = tuple(c)\n",
    "    l = [[i, i-1, i+1] for i in tuple(c)]\n",
    "    all_neighbours = itertools.product(l[0], l[1], l[2])\n",
    "\n",
    "    neighbours = [i for i in all_neighbours if \n",
    "                  i[0] >= 0 and i[1] >= 0 and i[2] >= 0 and \n",
    "                  i[0] < z and i[1] < y and i[2] < x]\n",
    "    neighbours.remove(c)\n",
    "\n",
    "    active_count = 0\n",
    "\n",
    "    for n in neighbours:\n",
    "        if current_cube[n] == '#':\n",
    "            active_count += 1\n",
    "\n",
    "    return active_count"
   ]
  },
  {
   "cell_type": "code",
   "execution_count": 63,
   "metadata": {},
   "outputs": [
    {
     "name": "stdout",
     "output_type": "stream",
     "text": [
      "1.2963283061981201 seconds\n",
      "395\n"
     ]
    }
   ],
   "source": [
    "start_time = time.time()\n",
    "for c in range(expand):\n",
    "\n",
    "    for a in np.array(np.where(current_cube == '#')).T:\n",
    "        if get_active_neighbour_count(a) < 2 or get_active_neighbour_count(a) > 3:\n",
    "            new_cube[tuple(a)] = '.'\n",
    "\n",
    "    for i in np.array(np.where(current_cube == '.')).T:\n",
    "        if get_active_neighbour_count(i) == 3:\n",
    "            new_cube[tuple(i)] = '#'\n",
    "                \n",
    "    current_cube = new_cube.copy()\n",
    "\n",
    "print(f'{time.time() - start_time} seconds')\n",
    "print(len(np.where(new_cube == '#')[0]))\n",
    "# 395"
   ]
  },
  {
   "cell_type": "markdown",
   "metadata": {},
   "source": [
    "# Part 2"
   ]
  },
  {
   "cell_type": "code",
   "execution_count": 7,
   "metadata": {},
   "outputs": [
    {
     "data": {
      "text/plain": [
       "(13, 13, 20, 20)"
      ]
     },
     "execution_count": 7,
     "metadata": {},
     "output_type": "execute_result"
    }
   ],
   "source": [
    "cube = cube.reshape(1,z,y,x)\n",
    "\n",
    "w_layer = np.repeat(['.'], expand*z*y*x).reshape(expand,z,y,x)\n",
    "cube = np.concatenate((w_layer, np.concatenate((cube, w_layer))))\n",
    "w, z, y, x = cube.shape\n",
    "\n",
    "cube.shape"
   ]
  },
  {
   "cell_type": "code",
   "execution_count": 8,
   "metadata": {},
   "outputs": [],
   "source": [
    "current_cube = cube.copy()\n",
    "new_cube = current_cube.copy()"
   ]
  },
  {
   "cell_type": "code",
   "execution_count": 9,
   "metadata": {},
   "outputs": [],
   "source": [
    "def get_active_neighbour_count(c):\n",
    "    c = tuple(c)\n",
    "    l = [[i, i-1, i+1] for i in tuple(c)]\n",
    "    all_neighbours = itertools.product(l[0], l[1], l[2], l[3])\n",
    "\n",
    "    neighbours = [i for i in all_neighbours if \n",
    "                  i[0] >= 0 and i[1] >= 0 and i[2] >= 0 and i[3] >= 0 and\n",
    "                  i[0] < w and i[1] < z and i[2] < y and i[3] < x]\n",
    "    neighbours.remove(c)\n",
    "\n",
    "    active_count = 0\n",
    "\n",
    "    for n in neighbours:\n",
    "        if current_cube[n] == '#':\n",
    "            active_count += 1\n",
    "\n",
    "    return active_count"
   ]
  },
  {
   "cell_type": "code",
   "execution_count": 10,
   "metadata": {},
   "outputs": [
    {
     "name": "stdout",
     "output_type": "stream",
     "text": [
      "57.968706130981445 seconds\n",
      "2296\n"
     ]
    }
   ],
   "source": [
    "start_time = time.time()\n",
    "for c in range(expand):\n",
    "\n",
    "    for a in np.array(np.where(current_cube == '#')).T:\n",
    "        if get_active_neighbour_count(a) < 2 or get_active_neighbour_count(a) > 3:\n",
    "            new_cube[tuple(a)] = '.'\n",
    "\n",
    "    for i in np.array(np.where(current_cube == '.')).T:\n",
    "        if get_active_neighbour_count(i) == 3:\n",
    "            new_cube[tuple(i)] = '#'\n",
    "                \n",
    "    current_cube = new_cube.copy()\n",
    "    \n",
    "print(f'{time.time() - start_time} seconds')\n",
    "print(len(np.where(new_cube == '#')[0]))\n",
    "# 2296"
   ]
  },
  {
   "cell_type": "code",
   "execution_count": null,
   "metadata": {},
   "outputs": [],
   "source": []
  }
 ],
 "metadata": {
  "kernelspec": {
   "display_name": "Python 3",
   "language": "python",
   "name": "python3"
  },
  "language_info": {
   "codemirror_mode": {
    "name": "ipython",
    "version": 3
   },
   "file_extension": ".py",
   "mimetype": "text/x-python",
   "name": "python",
   "nbconvert_exporter": "python",
   "pygments_lexer": "ipython3",
   "version": "3.7.6"
  }
 },
 "nbformat": 4,
 "nbformat_minor": 4
}
