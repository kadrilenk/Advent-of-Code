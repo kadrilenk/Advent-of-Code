{
 "cells": [
  {
   "cell_type": "markdown",
   "metadata": {},
   "source": [
    "# Part 1"
   ]
  },
  {
   "cell_type": "code",
   "execution_count": 1,
   "metadata": {},
   "outputs": [],
   "source": [
    "def select_next_three(cups, cup_label):\n",
    "    cup_pos = [i[0] for i in enumerate(cups) if i[1]==cup_label][0]\n",
    "    picked_up_i = [i-len(cups) if i>=len(cups) else i for i in range(cup_pos+1,cup_pos+4)]\n",
    "\n",
    "    return [j[1] for i in picked_up_i for j in enumerate(cups) if j[0]==i]"
   ]
  },
  {
   "cell_type": "code",
   "execution_count": 2,
   "metadata": {},
   "outputs": [],
   "source": [
    "def select_dest_cup():\n",
    "    dest_cup = current_cup - 1\n",
    "    while dest_cup in pick_up or dest_cup == 0:\n",
    "        dest_cup -= 1\n",
    "        if dest_cup <= 0:\n",
    "            dest_cup = max(cups)\n",
    "    return dest_cup"
   ]
  },
  {
   "cell_type": "code",
   "execution_count": 3,
   "metadata": {},
   "outputs": [],
   "source": [
    "def form_new_cups(dest_cup, remaining_cups, pick_up, current_cup):\n",
    "    k = [i[0] for i in enumerate(remaining_cups) if i[1] == dest_cup][0] # dest cup index\n",
    "    new_cups = remaining_cups[:k+1] + pick_up + remaining_cups[k+1:]\n",
    "    actual_pos = [item[0] for item in enumerate(new_cups) if item[1]==current_cup][0]    \n",
    "    new_cups = [(item[0]-(actual_pos-current_pos)+len(new_cups) if item[0]-(actual_pos-current_pos)<0 else item[0]-(actual_pos-current_pos),item[1]) for item in enumerate(new_cups)]\n",
    "    new_cups = sorted(new_cups, key=lambda tup: tup[0])\n",
    "    new_cups = [i[1] for i in new_cups]\n",
    "    \n",
    "    return new_cups"
   ]
  },
  {
   "cell_type": "code",
   "execution_count": 4,
   "metadata": {
    "scrolled": true
   },
   "outputs": [],
   "source": [
    "# cups = '389125467'\n",
    "cups = '643719258'\n",
    "cups = [int(i) for i in cups]\n",
    "current_pos = 0\n",
    "\n",
    "for round in range(100):\n",
    "    current_cup = cups[current_pos]\n",
    "    pick_up = select_next_three(cups, current_cup)\n",
    "    remaining_cups = [i for i in cups if i not in pick_up]\n",
    "    dest_cup = select_dest_cup()\n",
    "    new_cups = form_new_cups(dest_cup, remaining_cups, pick_up, current_cup)\n",
    "    cups = new_cups.copy()\n",
    "\n",
    "    current_pos += 1\n",
    "    if current_pos == len(cups):\n",
    "        current_pos = 0"
   ]
  },
  {
   "cell_type": "code",
   "execution_count": 5,
   "metadata": {},
   "outputs": [
    {
     "name": "stdout",
     "output_type": "stream",
     "text": [
      "54896723\n"
     ]
    }
   ],
   "source": [
    "one_pos = [i[0] for i in enumerate(cups) if i[1]==1][0]\n",
    "l = cups[one_pos+1:] + cups[:one_pos]\n",
    "print(''.join([str(i) for i in l]))\n",
    "# 54896723"
   ]
  },
  {
   "cell_type": "code",
   "execution_count": null,
   "metadata": {},
   "outputs": [],
   "source": []
  }
 ],
 "metadata": {
  "kernelspec": {
   "display_name": "Python 3",
   "language": "python",
   "name": "python3"
  },
  "language_info": {
   "codemirror_mode": {
    "name": "ipython",
    "version": 3
   },
   "file_extension": ".py",
   "mimetype": "text/x-python",
   "name": "python",
   "nbconvert_exporter": "python",
   "pygments_lexer": "ipython3",
   "version": "3.7.6"
  }
 },
 "nbformat": 4,
 "nbformat_minor": 4
}
