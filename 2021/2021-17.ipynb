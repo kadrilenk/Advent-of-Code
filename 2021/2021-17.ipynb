{
 "cells": [
  {
   "cell_type": "code",
   "execution_count": 1,
   "id": "0b62c4b2",
   "metadata": {},
   "outputs": [],
   "source": [
    "from itertools import product"
   ]
  },
  {
   "cell_type": "code",
   "execution_count": 2,
   "id": "7b021c89",
   "metadata": {},
   "outputs": [],
   "source": [
    "target_x_min, target_x_max = 81, 129\n",
    "target_y_min, target_y_max = -150, -108"
   ]
  },
  {
   "cell_type": "code",
   "execution_count": 3,
   "id": "f79624a1",
   "metadata": {},
   "outputs": [],
   "source": [
    "def launch_probe(c):\n",
    "    velocity_x, velocity_y = c\n",
    "    pos_x, pos_y = velocity_x, velocity_y\n",
    "    y_values = [pos_y]\n",
    "\n",
    "    while True:\n",
    "        if target_x_min<=pos_x<=target_x_max and target_y_min<=pos_y<=target_y_max:\n",
    "            return max(y_values)\n",
    "\n",
    "        if pos_y<target_y_min:\n",
    "            return -999\n",
    "        \n",
    "        velocity_x -= 1\n",
    "        velocity_y -= 1\n",
    "        if velocity_x < 0: velocity_x = 0\n",
    "\n",
    "        pos_x += velocity_x\n",
    "        pos_y += velocity_y\n",
    "        y_values.append(pos_y)"
   ]
  },
  {
   "cell_type": "code",
   "execution_count": 4,
   "id": "d31587c1",
   "metadata": {},
   "outputs": [],
   "source": [
    "velocity_list = list(product(range(-150,200), repeat=2))\n",
    "velocity_list = [(x,y) for x,y in velocity_list if 0<x<=target_x_max and y>=target_y_min]"
   ]
  },
  {
   "cell_type": "code",
   "execution_count": 5,
   "id": "6beb1c78",
   "metadata": {},
   "outputs": [],
   "source": [
    "success = []\n",
    "\n",
    "for v in velocity_list:\n",
    "    t = launch_probe(v)\n",
    "    if t != -999:\n",
    "        success.append([v,t])"
   ]
  },
  {
   "cell_type": "code",
   "execution_count": 6,
   "id": "18d43455",
   "metadata": {},
   "outputs": [
    {
     "name": "stdout",
     "output_type": "stream",
     "text": [
      "Part 1: 11175\n",
      "Part 2: 3540\n"
     ]
    }
   ],
   "source": [
    "print(f'Part 1: {max([v[1] for v in success])}')\n",
    "print(f'Part 2: {len(success)}')"
   ]
  },
  {
   "cell_type": "code",
   "execution_count": null,
   "id": "c588a6c5",
   "metadata": {},
   "outputs": [],
   "source": []
  }
 ],
 "metadata": {
  "kernelspec": {
   "display_name": "Python 3 (ipykernel)",
   "language": "python",
   "name": "python3"
  },
  "language_info": {
   "codemirror_mode": {
    "name": "ipython",
    "version": 3
   },
   "file_extension": ".py",
   "mimetype": "text/x-python",
   "name": "python",
   "nbconvert_exporter": "python",
   "pygments_lexer": "ipython3",
   "version": "3.9.7"
  }
 },
 "nbformat": 4,
 "nbformat_minor": 5
}
