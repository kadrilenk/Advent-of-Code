{
 "cells": [
  {
   "cell_type": "code",
   "execution_count": 1,
   "id": "5b519a8f",
   "metadata": {},
   "outputs": [],
   "source": [
    "with open('01.txt') as f:\n",
    "    numbers = [int(x) for x in f.readlines()]"
   ]
  },
  {
   "cell_type": "markdown",
   "id": "a93d0201",
   "metadata": {},
   "source": [
    "### Part I"
   ]
  },
  {
   "cell_type": "code",
   "execution_count": 2,
   "id": "9ee16cb9",
   "metadata": {},
   "outputs": [
    {
     "name": "stdout",
     "output_type": "stream",
     "text": [
      "1715\n"
     ]
    }
   ],
   "source": [
    "counter = 0\n",
    "\n",
    "for i, n in enumerate(numbers[1:]):\n",
    "    if n > numbers[i]:\n",
    "        counter += 1\n",
    "\n",
    "print(counter)"
   ]
  },
  {
   "cell_type": "markdown",
   "id": "a6c02c98",
   "metadata": {},
   "source": [
    "### Part II"
   ]
  },
  {
   "cell_type": "code",
   "execution_count": 3,
   "id": "2ea25d49",
   "metadata": {},
   "outputs": [
    {
     "name": "stdout",
     "output_type": "stream",
     "text": [
      "1739\n"
     ]
    }
   ],
   "source": [
    "counter = 0\n",
    "\n",
    "for i, n in enumerate(numbers[:-2]):\n",
    "    if sum(numbers[i:i+3]) < sum(numbers[i+1:i+4]):\n",
    "        counter += 1\n",
    "\n",
    "print(counter)"
   ]
  },
  {
   "cell_type": "markdown",
   "id": "006eecb1",
   "metadata": {},
   "source": [
    "### Someone else's solutions\n",
    "that I found from Reddit"
   ]
  },
  {
   "cell_type": "code",
   "execution_count": 4,
   "id": "18185e39",
   "metadata": {},
   "outputs": [
    {
     "name": "stdout",
     "output_type": "stream",
     "text": [
      "1715\n",
      "1739\n"
     ]
    }
   ],
   "source": [
    "print(sum([1 for i,x in enumerate(numbers[1:]) if x > numbers[i]]))\n",
    "print(sum([1 for i,x in enumerate(numbers[3:]) if x > numbers[i]]))"
   ]
  },
  {
   "cell_type": "code",
   "execution_count": null,
   "id": "8ebc3b9d",
   "metadata": {},
   "outputs": [],
   "source": []
  }
 ],
 "metadata": {
  "kernelspec": {
   "display_name": "Python 3 (ipykernel)",
   "language": "python",
   "name": "python3"
  },
  "language_info": {
   "codemirror_mode": {
    "name": "ipython",
    "version": 3
   },
   "file_extension": ".py",
   "mimetype": "text/x-python",
   "name": "python",
   "nbconvert_exporter": "python",
   "pygments_lexer": "ipython3",
   "version": "3.9.7"
  }
 },
 "nbformat": 4,
 "nbformat_minor": 5
}
