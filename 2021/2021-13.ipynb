{
 "cells": [
  {
   "cell_type": "code",
   "execution_count": 1,
   "id": "9b10f5b9",
   "metadata": {},
   "outputs": [],
   "source": [
    "import numpy as np"
   ]
  },
  {
   "cell_type": "code",
   "execution_count": 2,
   "id": "bb873af6",
   "metadata": {},
   "outputs": [],
   "source": [
    "with open('13.txt') as f:\n",
    "    data = [i.strip() for i in f.readlines()]"
   ]
  },
  {
   "cell_type": "code",
   "execution_count": 3,
   "id": "c6a3c18a",
   "metadata": {},
   "outputs": [],
   "source": [
    "dots = data[:data.index('')]\n",
    "dots = [(int(d.split(',')[0]),int(d.split(',')[1])) for d in dots]"
   ]
  },
  {
   "cell_type": "code",
   "execution_count": 4,
   "id": "bd3fe399",
   "metadata": {},
   "outputs": [],
   "source": [
    "folds = data[data.index('')+1:]"
   ]
  },
  {
   "cell_type": "code",
   "execution_count": 5,
   "id": "db6b45df",
   "metadata": {},
   "outputs": [],
   "source": [
    "y, x = max([y for x,y in dots])+1, max([x for x,y in dots])+1\n",
    "if not y % 2: y += 1\n",
    "if not x % 2: x += 1\n",
    "    \n",
    "paper = np.zeros((y,x))"
   ]
  },
  {
   "cell_type": "markdown",
   "id": "d50d9da9",
   "metadata": {},
   "source": [
    "### Draw dots"
   ]
  },
  {
   "cell_type": "code",
   "execution_count": 6,
   "id": "a6e45983",
   "metadata": {},
   "outputs": [],
   "source": [
    "for x, y in dots:\n",
    "    paper[y,x] = 1"
   ]
  },
  {
   "cell_type": "markdown",
   "id": "c995a11a",
   "metadata": {},
   "source": [
    "### Fold"
   ]
  },
  {
   "cell_type": "code",
   "execution_count": 7,
   "id": "1df35780",
   "metadata": {},
   "outputs": [],
   "source": [
    "for f in folds:\n",
    "    f = f.replace('fold along ','').split('=')\n",
    "    n = int(f[1])\n",
    "    \n",
    "    if f[0] == 'y':\n",
    "        up = paper[:n]\n",
    "        bottom = np.flipud(paper[n+1:])\n",
    "        paper = up+bottom\n",
    "                \n",
    "    else:\n",
    "        left = paper[:,:n]\n",
    "        right = np.fliplr(paper[:,n+1:])\n",
    "        paper = left+right\n",
    "        "
   ]
  },
  {
   "cell_type": "code",
   "execution_count": 8,
   "id": "757a8cc2",
   "metadata": {},
   "outputs": [
    {
     "data": {
      "image/png": "[encoded data removed]",
      "text/plain": [
       "<Figure size 432x288 with 1 Axes>"
      ]
     },
     "metadata": {
      "needs_background": "light"
     },
     "output_type": "display_data"
    }
   ],
   "source": [
    "import matplotlib.pyplot as plt\n",
    "\n",
    "plt.imshow(paper>0)\n",
    "plt.show()"
   ]
  },
  {
   "cell_type": "code",
   "execution_count": 9,
   "id": "448b188f",
   "metadata": {},
   "outputs": [],
   "source": [
    "# RHALRCRA"
   ]
  },
  {
   "cell_type": "code",
   "execution_count": null,
   "id": "324a1c04",
   "metadata": {},
   "outputs": [],
   "source": []
  }
 ],
 "metadata": {
  "kernelspec": {
   "display_name": "Python 3 (ipykernel)",
   "language": "python",
   "name": "python3"
  },
  "language_info": {
   "codemirror_mode": {
    "name": "ipython",
    "version": 3
   },
   "file_extension": ".py",
   "mimetype": "text/x-python",
   "name": "python",
   "nbconvert_exporter": "python",
   "pygments_lexer": "ipython3",
   "version": "3.9.7"
  }
 },
 "nbformat": 4,
 "nbformat_minor": 5
}
