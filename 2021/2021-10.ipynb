{
 "cells": [
  {
   "cell_type": "code",
   "execution_count": 1,
   "id": "58adf245",
   "metadata": {},
   "outputs": [],
   "source": [
    "with open('10.txt') as f:\n",
    "    code = [x.strip() for x in f.readlines()]"
   ]
  },
  {
   "cell_type": "code",
   "execution_count": 2,
   "id": "b096b4c5",
   "metadata": {
    "scrolled": true
   },
   "outputs": [],
   "source": [
    "illegals = ['(]','(}','(>','[)','[}','[>','{)','{]','{>','<)','<]','<}']\n",
    "legals = ['()','[]','{}','<>']\n",
    "\n",
    "corrupted_out = []\n",
    "incomplete_out = []\n",
    "\n",
    "for line in code:\n",
    "    run = True\n",
    "    \n",
    "    while run:\n",
    "        \n",
    "        illegal = [i for i in illegals if i in line]\n",
    "        if illegal:\n",
    "            corrupted_out.append(illegal[0][1])\n",
    "            run = False\n",
    "        \n",
    "        elif [i for i in legals if i in line]:\n",
    "            line = line.replace('()','').replace('[]','').replace('{}','').replace('<>','')\n",
    "        \n",
    "        elif not [i for i in [')',']','}','>'] if i in line]:\n",
    "            end = line.replace('(',')').replace('[',']').replace('{','}').replace('<','>')[::-1]\n",
    "            incomplete_out.append(end)\n",
    "            run = False\n",
    "        \n",
    "        else:\n",
    "            run = False"
   ]
  },
  {
   "cell_type": "markdown",
   "id": "3297bb65",
   "metadata": {},
   "source": [
    "### Part I"
   ]
  },
  {
   "cell_type": "code",
   "execution_count": 3,
   "id": "324fbf32",
   "metadata": {},
   "outputs": [
    {
     "name": "stdout",
     "output_type": "stream",
     "text": [
      "316851\n"
     ]
    }
   ],
   "source": [
    "points = {')':3, ']':57, '}':1197, '>':25137}\n",
    "\n",
    "print(sum([points.get(i,i) for i in corrupted_out]))"
   ]
  },
  {
   "cell_type": "markdown",
   "id": "c42ab2ff",
   "metadata": {},
   "source": [
    "### Part II"
   ]
  },
  {
   "cell_type": "code",
   "execution_count": 4,
   "id": "8a21d6c3",
   "metadata": {},
   "outputs": [],
   "source": [
    "points = {')':1, ']':2, '}':3, '>':4}\n",
    "scores = []\n",
    "\n",
    "for line in incomplete_out:\n",
    "    score = 0\n",
    "    for l in line:\n",
    "        score *= 5\n",
    "        score += points[l]\n",
    "    scores.append(score)"
   ]
  },
  {
   "cell_type": "code",
   "execution_count": 5,
   "id": "442d95c7",
   "metadata": {},
   "outputs": [],
   "source": [
    "import statistics"
   ]
  },
  {
   "cell_type": "code",
   "execution_count": 6,
   "id": "affc20c0",
   "metadata": {},
   "outputs": [
    {
     "name": "stdout",
     "output_type": "stream",
     "text": [
      "2182912364\n"
     ]
    }
   ],
   "source": [
    "print(statistics.median(scores))"
   ]
  },
  {
   "cell_type": "code",
   "execution_count": null,
   "id": "83a9fb91",
   "metadata": {},
   "outputs": [],
   "source": []
  }
 ],
 "metadata": {
  "kernelspec": {
   "display_name": "Python 3 (ipykernel)",
   "language": "python",
   "name": "python3"
  },
  "language_info": {
   "codemirror_mode": {
    "name": "ipython",
    "version": 3
   },
   "file_extension": ".py",
   "mimetype": "text/x-python",
   "name": "python",
   "nbconvert_exporter": "python",
   "pygments_lexer": "ipython3",
   "version": "3.9.7"
  }
 },
 "nbformat": 4,
 "nbformat_minor": 5
}
