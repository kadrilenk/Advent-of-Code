{
 "cells": [
  {
   "cell_type": "code",
   "execution_count": 1,
   "id": "58adf245",
   "metadata": {},
   "outputs": [],
   "source": [
    "with open('08.txt') as f:\n",
    "    data = [x.strip().split(' | ') for x in f.readlines()]"
   ]
  },
  {
   "cell_type": "code",
   "execution_count": 2,
   "id": "4b79f27c",
   "metadata": {},
   "outputs": [],
   "source": [
    "data_sorted = [[[''.join(sorted(s)) for s in x.split()],[''.join(sorted(s)) for s in y.split()]] for x,y in data]"
   ]
  },
  {
   "cell_type": "markdown",
   "id": "3297bb65",
   "metadata": {},
   "source": [
    "### Part I"
   ]
  },
  {
   "cell_type": "code",
   "execution_count": 3,
   "id": "6a187f12",
   "metadata": {},
   "outputs": [
    {
     "name": "stdout",
     "output_type": "stream",
     "text": [
      "390\n"
     ]
    }
   ],
   "source": [
    "counter = 0\n",
    "\n",
    "for signal, output in data_sorted:\n",
    "    for o in output:\n",
    "        if len(o)==2 or len(o)==4 or len(o)==3 or len(o)==7:\n",
    "            counter += 1\n",
    "print(counter)"
   ]
  },
  {
   "cell_type": "markdown",
   "id": "c42ab2ff",
   "metadata": {},
   "source": [
    "### Part II"
   ]
  },
  {
   "cell_type": "code",
   "execution_count": 4,
   "id": "79a3e6a0",
   "metadata": {},
   "outputs": [],
   "source": [
    "# 1 - length 2\n",
    "# 4 - length 4\n",
    "# 7 - length 3\n",
    "# 8 - length 7\n",
    "# 6 - length 6, cannot contain number 1\n",
    "# 9 - length 6, has to contain number 4\n",
    "# 3 - length 5, has to contain number 1\n",
    "# 0 - length 6, is not 6 nor 9\n",
    "# 5 - length 5, has to contain number 6\n",
    "# 2 - length 5, is not 5 nor 3"
   ]
  },
  {
   "cell_type": "code",
   "execution_count": 5,
   "id": "2a9aa3a9",
   "metadata": {},
   "outputs": [
    {
     "name": "stdout",
     "output_type": "stream",
     "text": [
      "1011785\n"
     ]
    }
   ],
   "source": [
    "counter = 0\n",
    "\n",
    "for signal, output in data_sorted:    \n",
    "    nums = {i:'' for i in range(10)}\n",
    "    \n",
    "    nums[1] = [x for x in signal if len(x)==2][0]\n",
    "    nums[4] = [x for x in signal if len(x)==4][0]\n",
    "    nums[7] = [x for x in signal if len(x)==3][0]\n",
    "    nums[8] = [x for x in signal if len(x)==7][0]\n",
    "    nums[6] = [x for x in signal if len(x)==6 and len([i for i in x if i in nums[1]])==1][0]\n",
    "    nums[9] = [x for x in signal if len(x)==6 and len([i for i in x if i in nums[4]])==4][0]\n",
    "    nums[3] = [x for x in signal if len(x)==5 and len([i for i in x if i in nums[1]])==2][0]\n",
    "    nums[0] = [x for x in signal if len(x)==6 and x!=nums[6] and x!=nums[9]][0]\n",
    "    nums[5] = [x for x in signal if len(x)==5 and len([i for i in x if i in nums[6]])==5][0]\n",
    "    nums[2] = [x for x in signal if len(x)==5 and x!=nums[5] and x!=nums[3]][0]\n",
    "            \n",
    "    num_out = ''\n",
    "    \n",
    "    for o in output:\n",
    "        num = str([k for k,v in nums.items() if v==o][0])\n",
    "        num_out += num\n",
    "    \n",
    "    counter += int(num_out)\n",
    "\n",
    "print(counter)"
   ]
  }
 ],
 "metadata": {
  "kernelspec": {
   "display_name": "Python 3 (ipykernel)",
   "language": "python",
   "name": "python3"
  },
  "language_info": {
   "codemirror_mode": {
    "name": "ipython",
    "version": 3
   },
   "file_extension": ".py",
   "mimetype": "text/x-python",
   "name": "python",
   "nbconvert_exporter": "python",
   "pygments_lexer": "ipython3",
   "version": "3.9.7"
  }
 },
 "nbformat": 4,
 "nbformat_minor": 5
}
