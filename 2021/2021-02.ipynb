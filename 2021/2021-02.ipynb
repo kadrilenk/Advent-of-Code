{
 "cells": [
  {
   "cell_type": "code",
   "execution_count": 1,
   "id": "5b519a8f",
   "metadata": {},
   "outputs": [],
   "source": [
    "with open('02.txt') as f:\n",
    "    instructions = [x.strip().split(' ') for x in f.readlines()]"
   ]
  },
  {
   "cell_type": "markdown",
   "id": "a255ecec",
   "metadata": {},
   "source": [
    "### Part I"
   ]
  },
  {
   "cell_type": "code",
   "execution_count": 2,
   "id": "3b440ec7",
   "metadata": {},
   "outputs": [
    {
     "name": "stdout",
     "output_type": "stream",
     "text": [
      "1855814\n"
     ]
    }
   ],
   "source": [
    "depth = 0\n",
    "horizon = 0\n",
    "\n",
    "for move, step in instructions:\n",
    "    if move == 'down':\n",
    "        depth += int(step)\n",
    "    elif move == 'up':\n",
    "        depth -= int(step)\n",
    "    else:\n",
    "        horizon += int(step)\n",
    "             \n",
    "print(depth * horizon)"
   ]
  },
  {
   "cell_type": "markdown",
   "id": "0a11e0ec",
   "metadata": {},
   "source": [
    "### Part II"
   ]
  },
  {
   "cell_type": "code",
   "execution_count": 3,
   "id": "ecc7bbad",
   "metadata": {},
   "outputs": [
    {
     "name": "stdout",
     "output_type": "stream",
     "text": [
      "1845455714\n"
     ]
    }
   ],
   "source": [
    "depth = 0\n",
    "horizon = 0\n",
    "aim = 0\n",
    "\n",
    "for move, step in instructions:\n",
    "    if move == 'down':\n",
    "        aim += int(step)\n",
    "    elif move == 'up':\n",
    "        aim -= int(step)\n",
    "    else:\n",
    "        horizon += int(step)\n",
    "        depth += aim*int(step)\n",
    "        \n",
    "print(depth * horizon)"
   ]
  },
  {
   "cell_type": "code",
   "execution_count": null,
   "id": "3e22a563",
   "metadata": {},
   "outputs": [],
   "source": []
  }
 ],
 "metadata": {
  "kernelspec": {
   "display_name": "Python 3 (ipykernel)",
   "language": "python",
   "name": "python3"
  },
  "language_info": {
   "codemirror_mode": {
    "name": "ipython",
    "version": 3
   },
   "file_extension": ".py",
   "mimetype": "text/x-python",
   "name": "python",
   "nbconvert_exporter": "python",
   "pygments_lexer": "ipython3",
   "version": "3.9.7"
  }
 },
 "nbformat": 4,
 "nbformat_minor": 5
}
