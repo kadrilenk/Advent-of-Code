{
 "cells": [
  {
   "cell_type": "code",
   "execution_count": 1,
   "id": "bb873af6",
   "metadata": {},
   "outputs": [],
   "source": [
    "with open('12.txt') as f:\n",
    "    cave_map = [c.split('-') for c in f.read().split()]"
   ]
  },
  {
   "cell_type": "code",
   "execution_count": 2,
   "id": "19190f1c",
   "metadata": {},
   "outputs": [],
   "source": [
    "keys = set([i for sub in cave_map for i in sub])\n",
    "links = {k:[] for k in keys}\n",
    "\n",
    "for i, j in cave_map:\n",
    "    links[i].append(j)\n",
    "    links[j].append(i)"
   ]
  },
  {
   "cell_type": "code",
   "execution_count": 3,
   "id": "0bc66552",
   "metadata": {},
   "outputs": [
    {
     "data": {
      "text/plain": [
       "{'cz': ['end', 'WR', 'TD', 'kb', 'WX'],\n",
       " 'pz': ['end', 'WR', 'TD', 'UM', 'mj'],\n",
       " 'mj': ['UM', 'kb', 'pz', 'WR'],\n",
       " 'UM': ['start', 'kb', 'mj', 'pz'],\n",
       " 'WR': ['cz', 'start', 'pz', 'kb', 'sp', 'mj'],\n",
       " 'kb': ['UM', 'cz', 'WR', 'TD', 'mj', 'start'],\n",
       " 'start': ['UM', 'WR', 'kb'],\n",
       " 'WX': ['cz'],\n",
       " 'sp': ['WR'],\n",
       " 'TD': ['end', 'cz', 'kb', 'pz'],\n",
       " 'end': ['cz', 'TD', 'pz']}"
      ]
     },
     "execution_count": 3,
     "metadata": {},
     "output_type": "execute_result"
    }
   ],
   "source": [
    "links"
   ]
  },
  {
   "cell_type": "code",
   "execution_count": 4,
   "id": "7106e3b1",
   "metadata": {},
   "outputs": [],
   "source": [
    "def solve_puzzle(path, visit_twice):\n",
    "    \n",
    "    path_count = 0\n",
    "    \n",
    "    for next_step in links[path[-1]]:\n",
    "        \n",
    "        if next_step.isupper() or next_step not in path:\n",
    "            path.append(next_step)\n",
    "            path_count += solve_puzzle(path, visit_twice)\n",
    "            path.pop()\n",
    "        \n",
    "        elif visit_twice and next_step not in ['start', 'end']:\n",
    "            path.append(next_step)\n",
    "            path_count += solve_puzzle(path, False)\n",
    "            path.pop()\n",
    "            \n",
    "    if path[-1] == \"end\":\n",
    "        return 1\n",
    "\n",
    "    return path_count"
   ]
  },
  {
   "cell_type": "code",
   "execution_count": 5,
   "id": "d7b39312",
   "metadata": {},
   "outputs": [
    {
     "name": "stdout",
     "output_type": "stream",
     "text": [
      "3450\n",
      "96528\n"
     ]
    }
   ],
   "source": [
    "print(solve_puzzle(['start'], False))\n",
    "print(solve_puzzle(['start'], True))"
   ]
  },
  {
   "cell_type": "code",
   "execution_count": null,
   "id": "f0f384bf",
   "metadata": {},
   "outputs": [],
   "source": []
  }
 ],
 "metadata": {
  "kernelspec": {
   "display_name": "Python 3 (ipykernel)",
   "language": "python",
   "name": "python3"
  },
  "language_info": {
   "codemirror_mode": {
    "name": "ipython",
    "version": 3
   },
   "file_extension": ".py",
   "mimetype": "text/x-python",
   "name": "python",
   "nbconvert_exporter": "python",
   "pygments_lexer": "ipython3",
   "version": "3.9.7"
  }
 },
 "nbformat": 4,
 "nbformat_minor": 5
}
