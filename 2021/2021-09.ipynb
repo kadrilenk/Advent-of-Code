{
 "cells": [
  {
   "cell_type": "code",
   "execution_count": 1,
   "id": "3a8234a4",
   "metadata": {},
   "outputs": [],
   "source": [
    "import numpy as np"
   ]
  },
  {
   "cell_type": "code",
   "execution_count": 2,
   "id": "58adf245",
   "metadata": {},
   "outputs": [],
   "source": [
    "with open('09.txt') as f:\n",
    "    grid = [list(x.strip()) for x in f.readlines()]\n",
    "    \n",
    "grid = np.array(grid).astype(int)"
   ]
  },
  {
   "cell_type": "markdown",
   "id": "3297bb65",
   "metadata": {},
   "source": [
    "### Part I"
   ]
  },
  {
   "cell_type": "code",
   "execution_count": 3,
   "id": "a5c0e072",
   "metadata": {},
   "outputs": [],
   "source": [
    "x, y = grid.shape"
   ]
  },
  {
   "cell_type": "code",
   "execution_count": 4,
   "id": "640ff180",
   "metadata": {},
   "outputs": [],
   "source": [
    "def find_adjacent(coords):\n",
    "    adjacent_out = []\n",
    "    \n",
    "    for row,col in coords:\n",
    "        adjacent = [(row,col+1), (row+1,col), (row-1,col), (row,col-1)]\n",
    "        adjacent = [(r,c) for r,c in adjacent if 0<=r<x and 0<=c<y]\n",
    "        adjacent_out += adjacent\n",
    "    \n",
    "    return adjacent_out"
   ]
  },
  {
   "cell_type": "code",
   "execution_count": 5,
   "id": "85d5e3dc",
   "metadata": {},
   "outputs": [
    {
     "name": "stdout",
     "output_type": "stream",
     "text": [
      "480\n"
     ]
    }
   ],
   "source": [
    "low_points = []\n",
    "low_point_coords = []\n",
    "\n",
    "for row in range(x):\n",
    "    for col in range(y):\n",
    "        adjacent = find_adjacent([(row,col)])\n",
    "        \n",
    "        if all([grid[a]>grid[row,col] for a in adjacent]):\n",
    "            low_points.append(grid[row,col]+1)\n",
    "            low_point_coords.append([(row,col)])\n",
    "\n",
    "print(sum(low_points))"
   ]
  },
  {
   "cell_type": "markdown",
   "id": "c42ab2ff",
   "metadata": {},
   "source": [
    "### Part II"
   ]
  },
  {
   "cell_type": "code",
   "execution_count": 6,
   "id": "f70b2e70",
   "metadata": {},
   "outputs": [
    {
     "name": "stdout",
     "output_type": "stream",
     "text": [
      "1045660\n"
     ]
    }
   ],
   "source": [
    "basin_sizes = []\n",
    "\n",
    "for loc in low_point_coords:\n",
    "    basin = set(loc)\n",
    "    keep_looking = True\n",
    "    \n",
    "    while keep_looking:\n",
    "        adjacent = find_adjacent(loc)\n",
    "        adjacent = [a for a in adjacent if grid[a]<9]\n",
    "        if [a for a in adjacent if a in basin] == adjacent:\n",
    "            keep_looking = False\n",
    "        else:\n",
    "            loc = [a for a in adjacent if a not in basin]\n",
    "            basin = set.union(basin, set(loc))\n",
    "\n",
    "    basin_sizes.append(len(basin))\n",
    "    \n",
    "basin_sizes.sort()\n",
    "print(np.prod(basin_sizes[-3:]))"
   ]
  },
  {
   "cell_type": "code",
   "execution_count": null,
   "id": "b096b4c5",
   "metadata": {},
   "outputs": [],
   "source": []
  }
 ],
 "metadata": {
  "kernelspec": {
   "display_name": "Python 3 (ipykernel)",
   "language": "python",
   "name": "python3"
  },
  "language_info": {
   "codemirror_mode": {
    "name": "ipython",
    "version": 3
   },
   "file_extension": ".py",
   "mimetype": "text/x-python",
   "name": "python",
   "nbconvert_exporter": "python",
   "pygments_lexer": "ipython3",
   "version": "3.9.7"
  }
 },
 "nbformat": 4,
 "nbformat_minor": 5
}
