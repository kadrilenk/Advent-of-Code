{
 "cells": [
  {
   "cell_type": "code",
   "execution_count": 1,
   "id": "3a8234a4",
   "metadata": {},
   "outputs": [],
   "source": [
    "import numpy as np"
   ]
  },
  {
   "cell_type": "code",
   "execution_count": 2,
   "id": "58adf245",
   "metadata": {},
   "outputs": [],
   "source": [
    "with open('09.txt') as f:\n",
    "    data = [list(x.strip()) for x in f.readlines()]\n",
    "    \n",
    "data = np.array(data).astype(int)"
   ]
  },
  {
   "cell_type": "markdown",
   "id": "3297bb65",
   "metadata": {},
   "source": [
    "### Part I"
   ]
  },
  {
   "cell_type": "code",
   "execution_count": 3,
   "id": "e61c3309",
   "metadata": {},
   "outputs": [
    {
     "name": "stdout",
     "output_type": "stream",
     "text": [
      "480\n"
     ]
    }
   ],
   "source": [
    "low_points = []\n",
    "low_point_coords = []\n",
    "\n",
    "for row in range(data.shape[0]):\n",
    "    for col in range(data.shape[1]):\n",
    "        adjacent = [(row,col+1), (row+1,col), (row-1,col), (row,col-1)]\n",
    "        adjacent = [(r,c) for r,c in adjacent if r>=0 and c>=0 and r<data.shape[0] and c<data.shape[1]]\n",
    "        \n",
    "        if sum([data[loc]>data[row,col] for loc in adjacent])==len(adjacent):\n",
    "            low_points.append(data[row,col]+1)\n",
    "            low_point_coords.append([(row,col)])\n",
    "\n",
    "print(sum(low_points))"
   ]
  },
  {
   "cell_type": "markdown",
   "id": "c42ab2ff",
   "metadata": {},
   "source": [
    "### Part II"
   ]
  },
  {
   "cell_type": "code",
   "execution_count": 4,
   "id": "f09ac606",
   "metadata": {},
   "outputs": [],
   "source": [
    "def find_adjacent_coordinates(coords):\n",
    "    # input: list of coordinates\n",
    "    # output: list of adjacent coordinates where value is not 9\n",
    "    adjacent_out = []\n",
    "    \n",
    "    for row,col in coords:\n",
    "        adjacent = [(row,col+1), (row+1,col), (row-1,col), (row,col-1)]\n",
    "        adjacent = [(r,c) for r,c in adjacent if r>=0 and c>=0 and r<data.shape[0] and c<data.shape[1]]\n",
    "        adjacent = [loc for loc in adjacent if data[loc]<9]\n",
    "        adjacent_out += adjacent\n",
    "    \n",
    "    return adjacent_out"
   ]
  },
  {
   "cell_type": "code",
   "execution_count": 5,
   "id": "8eb47e9f",
   "metadata": {
    "scrolled": false
   },
   "outputs": [
    {
     "name": "stdout",
     "output_type": "stream",
     "text": [
      "1045660\n"
     ]
    }
   ],
   "source": [
    "basin_sizes = []\n",
    "\n",
    "for loc in low_point_coords:\n",
    "    basin = set(loc)\n",
    "    keep_looking = True\n",
    "    \n",
    "    while keep_looking:\n",
    "        adjacent = find_adjacent_coordinates(loc)\n",
    "        if len([a for a in adjacent if a in basin]) == len(adjacent):\n",
    "            keep_looking = False\n",
    "        else:\n",
    "            loc = [a for a in adjacent if a not in basin]\n",
    "            basin = set.union(basin, set(loc))\n",
    "\n",
    "    basin_sizes.append(len(basin))\n",
    "    \n",
    "basin_sizes.sort()\n",
    "print(np.prod(basin_sizes[-3:]))"
   ]
  },
  {
   "cell_type": "code",
   "execution_count": null,
   "id": "03664dd1",
   "metadata": {},
   "outputs": [],
   "source": []
  }
 ],
 "metadata": {
  "kernelspec": {
   "display_name": "Python 3 (ipykernel)",
   "language": "python",
   "name": "python3"
  },
  "language_info": {
   "codemirror_mode": {
    "name": "ipython",
    "version": 3
   },
   "file_extension": ".py",
   "mimetype": "text/x-python",
   "name": "python",
   "nbconvert_exporter": "python",
   "pygments_lexer": "ipython3",
   "version": "3.9.7"
  }
 },
 "nbformat": 4,
 "nbformat_minor": 5
}
