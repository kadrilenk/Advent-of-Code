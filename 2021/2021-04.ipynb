{
 "cells": [
  {
   "cell_type": "code",
   "execution_count": 1,
   "id": "5e2651ae",
   "metadata": {},
   "outputs": [],
   "source": [
    "import numpy as np"
   ]
  },
  {
   "cell_type": "code",
   "execution_count": 2,
   "id": "f666c0e1",
   "metadata": {},
   "outputs": [],
   "source": [
    "with open('04.txt') as f:\n",
    "    data = [x.strip() for x in f.readlines()]"
   ]
  },
  {
   "cell_type": "code",
   "execution_count": 3,
   "id": "d2f331f3",
   "metadata": {
    "scrolled": true
   },
   "outputs": [],
   "source": [
    "numbers = [x for x in data[0].split(',')]"
   ]
  },
  {
   "cell_type": "code",
   "execution_count": 4,
   "id": "ab50bb06",
   "metadata": {},
   "outputs": [],
   "source": [
    "boards_list = []\n",
    "for i in np.arange(2,len(data),6):\n",
    "    board = np.array([x.split() for x in data[i:i+5]])\n",
    "    boards_list.append(board)"
   ]
  },
  {
   "cell_type": "markdown",
   "id": "304d6128",
   "metadata": {},
   "source": [
    "### Part I"
   ]
  },
  {
   "cell_type": "code",
   "execution_count": 5,
   "id": "4e7603f5",
   "metadata": {},
   "outputs": [
    {
     "data": {
      "text/plain": [
       "6592"
      ]
     },
     "execution_count": 5,
     "metadata": {},
     "output_type": "execute_result"
    }
   ],
   "source": [
    "def part_i():\n",
    "    boards = boards_list.copy()\n",
    "    for n in numbers:\n",
    "        for i, b in enumerate(boards):\n",
    "            b = np.where(b==n,'x',b)\n",
    "            boards[i] = b\n",
    "            if 5 in sum(b=='x') or 5 in sum(b.T=='x'):\n",
    "                return sum([int(x) for x in b.flatten() if x!='x'])*int(n)\n",
    "part_i()"
   ]
  },
  {
   "cell_type": "markdown",
   "id": "d8e2a0b7",
   "metadata": {},
   "source": [
    "### Part II"
   ]
  },
  {
   "cell_type": "code",
   "execution_count": 6,
   "id": "92a4c987",
   "metadata": {},
   "outputs": [
    {
     "data": {
      "text/plain": [
       "31755"
      ]
     },
     "execution_count": 6,
     "metadata": {},
     "output_type": "execute_result"
    }
   ],
   "source": [
    "def part_ii():\n",
    "    boards = boards_list.copy()\n",
    "    winning_boards = np.arange(len(boards)).tolist()\n",
    "\n",
    "    for n in numbers:\n",
    "        for i, b in enumerate(boards):\n",
    "            b = np.where(b==n,'x',b)\n",
    "            boards[i] = b\n",
    "            if 5 in sum(b=='x') or 5 in sum(b.T=='x'):\n",
    "                if len(winning_boards)==1 and i in winning_boards:\n",
    "                    return sum([int(x) for x in b.flatten() if x!='x'])*int(n)\n",
    "                elif i in winning_boards:\n",
    "                    winning_boards.remove(i)\n",
    "part_ii()"
   ]
  },
  {
   "cell_type": "code",
   "execution_count": null,
   "id": "faf66247",
   "metadata": {},
   "outputs": [],
   "source": []
  }
 ],
 "metadata": {
  "kernelspec": {
   "display_name": "Python 3 (ipykernel)",
   "language": "python",
   "name": "python3"
  },
  "language_info": {
   "codemirror_mode": {
    "name": "ipython",
    "version": 3
   },
   "file_extension": ".py",
   "mimetype": "text/x-python",
   "name": "python",
   "nbconvert_exporter": "python",
   "pygments_lexer": "ipython3",
   "version": "3.9.7"
  }
 },
 "nbformat": 4,
 "nbformat_minor": 5
}
