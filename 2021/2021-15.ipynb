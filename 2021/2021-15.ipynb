{
 "cells": [
  {
   "cell_type": "markdown",
   "id": "55135bf2",
   "metadata": {},
   "source": [
    "Dijkstra\n",
    "\n",
    "https://www.youtube.com/watch?v=pVfj6mxhdMw"
   ]
  },
  {
   "cell_type": "code",
   "execution_count": 1,
   "id": "5854a777",
   "metadata": {},
   "outputs": [],
   "source": [
    "import numpy as np\n",
    "from itertools import product"
   ]
  },
  {
   "cell_type": "code",
   "execution_count": 2,
   "id": "f315d4c6",
   "metadata": {},
   "outputs": [],
   "source": [
    "grid = np.genfromtxt('15.txt', delimiter=1).astype(int)"
   ]
  },
  {
   "cell_type": "code",
   "execution_count": 3,
   "id": "29ba56b7",
   "metadata": {},
   "outputs": [],
   "source": [
    "# for part 1, comment this cell out\n",
    "\n",
    "grid_1 = (grid + 1) % 10\n",
    "grid_1[grid_1==0] = 1\n",
    "\n",
    "grid_2 = (grid_1 + 1) % 10\n",
    "grid_2[grid_2==0] = 1\n",
    "\n",
    "grid_3 = (grid_2 + 1) % 10\n",
    "grid_3[grid_3==0] = 1\n",
    "\n",
    "grid_4 = (grid_3 + 1) % 10\n",
    "grid_4[grid_4==0] = 1\n",
    "\n",
    "grid_5 = (grid_4 + 1) % 10\n",
    "grid_5[grid_5==0] = 1\n",
    "\n",
    "grid_6 = (grid_5 + 1) % 10\n",
    "grid_6[grid_6==0] = 1\n",
    "\n",
    "grid_7 = (grid_6 + 1) % 10\n",
    "grid_7[grid_7==0] = 1\n",
    "\n",
    "grid_8 = (grid_7 + 1) % 10\n",
    "grid_8[grid_8==0] = 1\n",
    "\n",
    "row_1 = np.concatenate((grid, grid_1, grid_2, grid_3, grid_4), axis=1)\n",
    "row_2 = np.concatenate((grid_1, grid_2, grid_3, grid_4, grid_5), axis=1)\n",
    "row_3 = np.concatenate((grid_2, grid_3, grid_4, grid_5, grid_6), axis=1)\n",
    "row_4 = np.concatenate((grid_3, grid_4, grid_5, grid_6, grid_7), axis=1)\n",
    "row_5 = np.concatenate((grid_4, grid_5, grid_6, grid_7, grid_8), axis=1)\n",
    "\n",
    "grid = np.concatenate((row_1, row_2, row_3, row_4, row_5), axis=0)"
   ]
  },
  {
   "cell_type": "code",
   "execution_count": 4,
   "id": "e51d8f75",
   "metadata": {},
   "outputs": [
    {
     "data": {
      "text/plain": [
       "(500, 500)"
      ]
     },
     "execution_count": 4,
     "metadata": {},
     "output_type": "execute_result"
    }
   ],
   "source": [
    "ymax, xmax = grid.shape\n",
    "grid.shape"
   ]
  },
  {
   "cell_type": "code",
   "execution_count": 5,
   "id": "3655b956",
   "metadata": {},
   "outputs": [],
   "source": [
    "state = {i:float('inf') for i in list(product(range(grid.shape[0]), repeat=2))}\n",
    "state[(0,0)] = 0"
   ]
  },
  {
   "cell_type": "code",
   "execution_count": 6,
   "id": "f5b5b2e5",
   "metadata": {},
   "outputs": [],
   "source": [
    "unvisited = {k: v for k, v in state.items() if v < float('inf')}"
   ]
  },
  {
   "cell_type": "code",
   "execution_count": 7,
   "id": "23703cf2",
   "metadata": {},
   "outputs": [],
   "source": [
    "def find_unvisited_neighbors(yx):\n",
    "    y, x = yx\n",
    "    adjacent = [(y,x+1), (y,x-1), (y+1,x), (y-1,x)]\n",
    "    adjacent = [(y,x) for y,x in adjacent if 0<=y<ymax and 0<=x<xmax]\n",
    "    return adjacent"
   ]
  },
  {
   "cell_type": "code",
   "execution_count": 8,
   "id": "1890afc5",
   "metadata": {},
   "outputs": [],
   "source": [
    "while unvisited:\n",
    "    unvisited = {k: v for k, v in sorted(unvisited.items(), key=lambda item: item[1])}\n",
    "    pairs_iter = iter(unvisited.items())\n",
    "    next_stop = next(pairs_iter)[0]    \n",
    "    neighbors = find_unvisited_neighbors(next_stop)\n",
    "    \n",
    "    for n in neighbors:\n",
    "        current_dist = state[next_stop] + grid[n]\n",
    "        if current_dist <= state[n]:\n",
    "            state[n] = current_dist\n",
    "            unvisited[n] = current_dist\n",
    "            \n",
    "    del unvisited[next_stop]"
   ]
  },
  {
   "cell_type": "code",
   "execution_count": 9,
   "id": "86c66c09",
   "metadata": {},
   "outputs": [
    {
     "data": {
      "text/plain": [
       "2806"
      ]
     },
     "execution_count": 9,
     "metadata": {},
     "output_type": "execute_result"
    }
   ],
   "source": [
    "state[(ymax-1, xmax-1)]"
   ]
  },
  {
   "cell_type": "code",
   "execution_count": null,
   "id": "93b27b26",
   "metadata": {},
   "outputs": [],
   "source": []
  }
 ],
 "metadata": {
  "kernelspec": {
   "display_name": "Python 3 (ipykernel)",
   "language": "python",
   "name": "python3"
  },
  "language_info": {
   "codemirror_mode": {
    "name": "ipython",
    "version": 3
   },
   "file_extension": ".py",
   "mimetype": "text/x-python",
   "name": "python",
   "nbconvert_exporter": "python",
   "pygments_lexer": "ipython3",
   "version": "3.9.7"
  }
 },
 "nbformat": 4,
 "nbformat_minor": 5
}
