{
 "cells": [
  {
   "cell_type": "code",
   "execution_count": 1,
   "id": "5e2651ae",
   "metadata": {},
   "outputs": [],
   "source": [
    "import numpy as np"
   ]
  },
  {
   "cell_type": "code",
   "execution_count": 2,
   "id": "9314135d",
   "metadata": {},
   "outputs": [],
   "source": [
    "import re"
   ]
  },
  {
   "cell_type": "code",
   "execution_count": 3,
   "id": "f666c0e1",
   "metadata": {},
   "outputs": [],
   "source": [
    "with open('05.txt') as f:\n",
    "    vents = [re.findall('\\d+', x) for x in f.readlines()]"
   ]
  },
  {
   "cell_type": "markdown",
   "id": "304d6128",
   "metadata": {},
   "source": [
    "### Part I"
   ]
  },
  {
   "cell_type": "code",
   "execution_count": 7,
   "id": "4fededd1",
   "metadata": {},
   "outputs": [
    {
     "name": "stdout",
     "output_type": "stream",
     "text": [
      "6189\n"
     ]
    }
   ],
   "source": [
    "grid = np.zeros((1000,1000))\n",
    "\n",
    "for v in vents:\n",
    "    x1,y1,x2,y2 = list(map(int, v))\n",
    "\n",
    "    if x1 == x2 or y1 == y2:\n",
    "        if y1>y2 or x1>x2:\n",
    "            grid[y2:y1+1,x2:x1+1] += 1\n",
    "        else:\n",
    "            grid[y1:y2+1,x1:x2+1] += 1\n",
    "print((grid > 1).sum())"
   ]
  },
  {
   "cell_type": "markdown",
   "id": "d8e2a0b7",
   "metadata": {},
   "source": [
    "### Part II"
   ]
  },
  {
   "cell_type": "code",
   "execution_count": 8,
   "id": "7c51e692",
   "metadata": {},
   "outputs": [
    {
     "name": "stdout",
     "output_type": "stream",
     "text": [
      "19164\n"
     ]
    }
   ],
   "source": [
    "grid = np.zeros((1000,1000))\n",
    "\n",
    "for v in vents:\n",
    "    x1,y1,x2,y2 = list(map(int, v))\n",
    "\n",
    "    if x1 == x2 or y1 == y2:\n",
    "        if y1>y2 or x1>x2:\n",
    "            grid[y2:y1+1,x2:x1+1] += 1\n",
    "        else:\n",
    "            grid[y1:y2+1,x1:x2+1] += 1\n",
    "    else:\n",
    "        if x2 > x1 and y2 < y1:\n",
    "            for x, y in zip(range(x1,x2+1), range(y2,y1+1)[::-1]):\n",
    "                grid[y,x] += 1\n",
    "        elif x2 > x1 and y2 > y1:\n",
    "            for x, y in zip(range(x1,x2+1), range(y1,y2+1)):\n",
    "                grid[y,x] += 1\n",
    "        elif x2 < x1 and y2 > y1:\n",
    "            for x, y in zip(range(x2,x1+1), range(y1,y2+1)[::-1]):\n",
    "                grid[y,x] += 1\n",
    "        elif x2 < x1 and y2 < y1:\n",
    "            for x, y in zip(range(x2,x1+1), range(y2,y1+1)):\n",
    "                grid[y,x] += 1\n",
    "\n",
    "print((grid > 1).sum())"
   ]
  },
  {
   "cell_type": "code",
   "execution_count": null,
   "id": "efa0ada1",
   "metadata": {},
   "outputs": [],
   "source": []
  }
 ],
 "metadata": {
  "kernelspec": {
   "display_name": "Python 3 (ipykernel)",
   "language": "python",
   "name": "python3"
  },
  "language_info": {
   "codemirror_mode": {
    "name": "ipython",
    "version": 3
   },
   "file_extension": ".py",
   "mimetype": "text/x-python",
   "name": "python",
   "nbconvert_exporter": "python",
   "pygments_lexer": "ipython3",
   "version": "3.9.7"
  }
 },
 "nbformat": 4,
 "nbformat_minor": 5
}
