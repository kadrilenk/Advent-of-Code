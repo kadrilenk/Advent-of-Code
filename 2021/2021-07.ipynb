{
 "cells": [
  {
   "cell_type": "code",
   "execution_count": 1,
   "id": "58adf245",
   "metadata": {},
   "outputs": [],
   "source": [
    "with open('07.txt') as f:\n",
    "    crabs = f.readlines()[0].split(',')\n",
    "    crabs = [int(x) for x in crabs]"
   ]
  },
  {
   "cell_type": "markdown",
   "id": "3297bb65",
   "metadata": {},
   "source": [
    "### Part I"
   ]
  },
  {
   "cell_type": "code",
   "execution_count": 2,
   "id": "b5c055c9",
   "metadata": {},
   "outputs": [
    {
     "name": "stdout",
     "output_type": "stream",
     "text": [
      "354129\n"
     ]
    }
   ],
   "source": [
    "fuel_list = []\n",
    "for i in crabs:\n",
    "    fuel = sum([abs(c-i) for c in crabs])\n",
    "    fuel_list.append(fuel)\n",
    "    \n",
    "print(min(fuel_list))"
   ]
  },
  {
   "cell_type": "code",
   "execution_count": 3,
   "id": "e0e8d8ca",
   "metadata": {},
   "outputs": [
    {
     "name": "stdout",
     "output_type": "stream",
     "text": [
      "354129\n"
     ]
    }
   ],
   "source": [
    "print(min([sum([abs(c-i) for c in crabs]) for i in crabs]))"
   ]
  },
  {
   "cell_type": "markdown",
   "id": "c42ab2ff",
   "metadata": {},
   "source": [
    "### Part II"
   ]
  },
  {
   "cell_type": "code",
   "execution_count": 4,
   "id": "cf2c8414",
   "metadata": {},
   "outputs": [
    {
     "name": "stdout",
     "output_type": "stream",
     "text": [
      "98905973\n"
     ]
    }
   ],
   "source": [
    "fuel_list = []\n",
    "for i in crabs:\n",
    "    fuel = sum([sum(range(abs(c-i)+1)) for c in crabs])\n",
    "    fuel_list.append(fuel)\n",
    "    \n",
    "print(min(fuel_list))"
   ]
  },
  {
   "cell_type": "code",
   "execution_count": 5,
   "id": "d3e717b8",
   "metadata": {},
   "outputs": [
    {
     "name": "stdout",
     "output_type": "stream",
     "text": [
      "98905973\n"
     ]
    }
   ],
   "source": [
    "print(min([sum([sum(range(abs(c-i)+1)) for c in crabs]) for i in crabs]))"
   ]
  },
  {
   "cell_type": "code",
   "execution_count": null,
   "id": "de68538f",
   "metadata": {},
   "outputs": [],
   "source": []
  }
 ],
 "metadata": {
  "kernelspec": {
   "display_name": "Python 3 (ipykernel)",
   "language": "python",
   "name": "python3"
  },
  "language_info": {
   "codemirror_mode": {
    "name": "ipython",
    "version": 3
   },
   "file_extension": ".py",
   "mimetype": "text/x-python",
   "name": "python",
   "nbconvert_exporter": "python",
   "pygments_lexer": "ipython3",
   "version": "3.9.7"
  }
 },
 "nbformat": 4,
 "nbformat_minor": 5
}
