{
 "cells": [
  {
   "cell_type": "code",
   "execution_count": 1,
   "id": "58adf245",
   "metadata": {},
   "outputs": [],
   "source": [
    "with open('07.txt') as f:\n",
    "    crabs = f.readlines()[0].split(',')\n",
    "    crabs = [int(x) for x in crabs]\n",
    "\n",
    "# test input\n",
    "# crabs = [16,1,2,0,4,2,7,1,2,14]"
   ]
  },
  {
   "cell_type": "code",
   "execution_count": 2,
   "id": "2195503e",
   "metadata": {},
   "outputs": [
    {
     "name": "stdout",
     "output_type": "stream",
     "text": [
      "354129\n"
     ]
    }
   ],
   "source": [
    "fuel_list = []\n",
    "for i in range(max(crabs)):\n",
    "    fuel = 0\n",
    "    for c in crabs:\n",
    "        fuel += abs(c-i)\n",
    "    fuel_list.append(fuel)\n",
    "    \n",
    "print(min(fuel_list))"
   ]
  },
  {
   "cell_type": "code",
   "execution_count": 3,
   "id": "62bbf669",
   "metadata": {},
   "outputs": [
    {
     "name": "stdout",
     "output_type": "stream",
     "text": [
      "98905973\n"
     ]
    }
   ],
   "source": [
    "fuel_list = []\n",
    "for i in range(max(crabs)):\n",
    "    fuel = 0\n",
    "    for c in crabs:\n",
    "        fuel += sum(range(abs(c-i)+1))\n",
    "    fuel_list.append(fuel)\n",
    "    \n",
    "print(min(fuel_list))"
   ]
  },
  {
   "cell_type": "code",
   "execution_count": null,
   "id": "82aa0847",
   "metadata": {},
   "outputs": [],
   "source": []
  }
 ],
 "metadata": {
  "kernelspec": {
   "display_name": "Python 3 (ipykernel)",
   "language": "python",
   "name": "python3"
  },
  "language_info": {
   "codemirror_mode": {
    "name": "ipython",
    "version": 3
   },
   "file_extension": ".py",
   "mimetype": "text/x-python",
   "name": "python",
   "nbconvert_exporter": "python",
   "pygments_lexer": "ipython3",
   "version": "3.9.7"
  }
 },
 "nbformat": 4,
 "nbformat_minor": 5
}
