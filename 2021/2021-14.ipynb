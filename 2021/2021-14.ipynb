{
 "cells": [
  {
   "cell_type": "code",
   "execution_count": 1,
   "id": "8a900de9",
   "metadata": {},
   "outputs": [],
   "source": [
    "import datetime"
   ]
  },
  {
   "cell_type": "code",
   "execution_count": 2,
   "id": "8a93bf32",
   "metadata": {},
   "outputs": [
    {
     "data": {
      "text/plain": [
       "'10:37:02'"
      ]
     },
     "execution_count": 2,
     "metadata": {},
     "output_type": "execute_result"
    }
   ],
   "source": [
    "datetime.datetime.now().strftime('%H:%M:%S')"
   ]
  },
  {
   "cell_type": "code",
   "execution_count": 3,
   "id": "bb873af6",
   "metadata": {},
   "outputs": [],
   "source": [
    "with open('14.txt') as f:\n",
    "    data = [i.strip() for i in f.readlines()]"
   ]
  },
  {
   "cell_type": "code",
   "execution_count": 5,
   "id": "c6a3c18a",
   "metadata": {},
   "outputs": [
    {
     "data": {
      "text/plain": [
       "'KBKPHKHHNBCVCHPSPNHF'"
      ]
     },
     "execution_count": 5,
     "metadata": {},
     "output_type": "execute_result"
    }
   ],
   "source": [
    "template = data[:data.index('')][0]\n",
    "template"
   ]
  },
  {
   "cell_type": "code",
   "execution_count": 6,
   "id": "bd3fe399",
   "metadata": {},
   "outputs": [],
   "source": [
    "insertions = data[data.index('')+1:]\n",
    "insertions = [i.split(' -> ') for i in insertions]"
   ]
  },
  {
   "cell_type": "code",
   "execution_count": 7,
   "id": "d070386c",
   "metadata": {
    "scrolled": true
   },
   "outputs": [],
   "source": [
    "interim_counts = {k:{} for k in [i for i,j in insertions]}"
   ]
  },
  {
   "cell_type": "code",
   "execution_count": 8,
   "id": "4aa4b142",
   "metadata": {
    "scrolled": true
   },
   "outputs": [],
   "source": [
    "for n, key in enumerate(interim_counts.keys()):\n",
    "    \n",
    "    template = key\n",
    "\n",
    "    for step in range(20):\n",
    "        template_new = template[0]\n",
    "\n",
    "        for i, letter in enumerate(template[:-1]):\n",
    "            pair = template[i:i+2]\n",
    "            to_insert = [j for i,j in insertions if i == pair][0]\n",
    "            template_new += to_insert + template[i+1:i+2]\n",
    "\n",
    "        template = template_new\n",
    "        \n",
    "    d = {k:template.count(k) for k in set(list(template))}\n",
    "    interim_counts[key] = d"
   ]
  },
  {
   "cell_type": "code",
   "execution_count": 10,
   "id": "91a86d89",
   "metadata": {},
   "outputs": [],
   "source": [
    "template = data[:data.index('')][0]\n",
    "\n",
    "for step in range(20):\n",
    "    template_new = template[0]\n",
    "\n",
    "    for i, letter in enumerate(template[:-1]):\n",
    "        pair = template[i:i+2]\n",
    "        to_insert = [j for i,j in insertions if i == pair][0]\n",
    "        template_new += to_insert + template[i+1:i+2]\n",
    "\n",
    "    template = template_new"
   ]
  },
  {
   "cell_type": "code",
   "execution_count": 11,
   "id": "9cff9a6d",
   "metadata": {},
   "outputs": [],
   "source": [
    "final_counts = {i:0 for i in set([j for i,j in insertions])}"
   ]
  },
  {
   "cell_type": "code",
   "execution_count": 12,
   "id": "31e58713",
   "metadata": {},
   "outputs": [
    {
     "data": {
      "text/plain": [
       "19922945"
      ]
     },
     "execution_count": 12,
     "metadata": {},
     "output_type": "execute_result"
    }
   ],
   "source": [
    "len(template)"
   ]
  },
  {
   "cell_type": "code",
   "execution_count": 13,
   "id": "152b14dc",
   "metadata": {},
   "outputs": [],
   "source": [
    "for i, letter in enumerate(template[:-1]):\n",
    "    pair = template[i:i+2]\n",
    "    counts = interim_counts[pair]\n",
    "    \n",
    "    for k,v in counts.items():\n",
    "        final_counts[k] += v"
   ]
  },
  {
   "cell_type": "code",
   "execution_count": 14,
   "id": "ca0e6ec6",
   "metadata": {},
   "outputs": [],
   "source": [
    "for k, v in final_counts.items():\n",
    "    final_counts[k] = final_counts[k] - template[1:-1].count(k)"
   ]
  },
  {
   "cell_type": "code",
   "execution_count": 15,
   "id": "07d466d7",
   "metadata": {},
   "outputs": [
    {
     "data": {
      "text/plain": [
       "2587447599164"
      ]
     },
     "execution_count": 15,
     "metadata": {},
     "output_type": "execute_result"
    }
   ],
   "source": [
    "max([v for v in final_counts.values()]) - min([v for v in final_counts.values()])\n",
    "# 2587447599164"
   ]
  },
  {
   "cell_type": "code",
   "execution_count": 16,
   "id": "e3cc4500",
   "metadata": {},
   "outputs": [
    {
     "data": {
      "text/plain": [
       "'10:47:54'"
      ]
     },
     "execution_count": 16,
     "metadata": {},
     "output_type": "execute_result"
    }
   ],
   "source": [
    "datetime.datetime.now().strftime('%H:%M:%S')"
   ]
  }
 ],
 "metadata": {
  "kernelspec": {
   "display_name": "Python 3 (ipykernel)",
   "language": "python",
   "name": "python3"
  },
  "language_info": {
   "codemirror_mode": {
    "name": "ipython",
    "version": 3
   },
   "file_extension": ".py",
   "mimetype": "text/x-python",
   "name": "python",
   "nbconvert_exporter": "python",
   "pygments_lexer": "ipython3",
   "version": "3.9.7"
  }
 },
 "nbformat": 4,
 "nbformat_minor": 5
}
