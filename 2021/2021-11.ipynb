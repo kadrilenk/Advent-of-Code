{
 "cells": [
  {
   "cell_type": "code",
   "execution_count": 1,
   "id": "85647696",
   "metadata": {},
   "outputs": [],
   "source": [
    "import numpy as np"
   ]
  },
  {
   "cell_type": "code",
   "execution_count": 2,
   "id": "58adf245",
   "metadata": {
    "scrolled": true
   },
   "outputs": [],
   "source": [
    "with open('11.txt') as f:\n",
    "    grid = [list(x) for x in f.read().split()]\n",
    "\n",
    "grid = np.array(grid).astype(int)"
   ]
  },
  {
   "cell_type": "code",
   "execution_count": 3,
   "id": "4f501dbb",
   "metadata": {},
   "outputs": [],
   "source": [
    "def find_adjacent(x,y):\n",
    "    adjacent = [(x,y+1), (x,y-1), (x+1,y+1), (x+1,y-1), (x-1,y+1), (x-1,y-1), (x+1,y), (x-1,y)]\n",
    "    adjacent = [(i,j) for i,j in adjacent if 0<=i<10 and 0<=j<10]\n",
    "    return adjacent"
   ]
  },
  {
   "cell_type": "code",
   "execution_count": 4,
   "id": "33b19d8e",
   "metadata": {},
   "outputs": [],
   "source": [
    "def solve_puzzle(grid):\n",
    "    \n",
    "    flashes = 0\n",
    "\n",
    "    for i in range(1000):\n",
    "        grid += 1\n",
    "\n",
    "        if (grid>9).any():\n",
    "            flashed = []\n",
    "            going_to_flash = list(zip(*np.where(grid>9)))\n",
    "\n",
    "            while going_to_flash:\n",
    "                for f in going_to_flash:\n",
    "                    for a in find_adjacent(f[0],f[1]):\n",
    "                        grid[a] += 1\n",
    "                if i < 100:\n",
    "                    flashes += len(going_to_flash)\n",
    "                flashed += going_to_flash\n",
    "                going_to_flash = [i for i in list(zip(*np.where(grid>9))) if i not in flashed]\n",
    "\n",
    "            reset = list(zip(*np.where(grid>9)))\n",
    "            for r in reset:\n",
    "                grid[r] = 0\n",
    "\n",
    "            if (grid==0).all():\n",
    "                return flashes, i+1"
   ]
  },
  {
   "cell_type": "code",
   "execution_count": 5,
   "id": "3e77217d",
   "metadata": {},
   "outputs": [],
   "source": [
    "a, b = solve_puzzle(grid)"
   ]
  },
  {
   "cell_type": "code",
   "execution_count": 6,
   "id": "dbd4982c",
   "metadata": {},
   "outputs": [
    {
     "name": "stdout",
     "output_type": "stream",
     "text": [
      "Part 1: 1741\n",
      "Part 1: 440\n"
     ]
    }
   ],
   "source": [
    "print(f'Part 1: {a}')\n",
    "print(f'Part 1: {b}')"
   ]
  },
  {
   "cell_type": "code",
   "execution_count": null,
   "id": "5a16cecd",
   "metadata": {},
   "outputs": [],
   "source": []
  }
 ],
 "metadata": {
  "kernelspec": {
   "display_name": "Python 3 (ipykernel)",
   "language": "python",
   "name": "python3"
  },
  "language_info": {
   "codemirror_mode": {
    "name": "ipython",
    "version": 3
   },
   "file_extension": ".py",
   "mimetype": "text/x-python",
   "name": "python",
   "nbconvert_exporter": "python",
   "pygments_lexer": "ipython3",
   "version": "3.9.7"
  }
 },
 "nbformat": 4,
 "nbformat_minor": 5
}
