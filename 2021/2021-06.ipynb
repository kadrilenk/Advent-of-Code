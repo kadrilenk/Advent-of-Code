{
 "cells": [
  {
   "cell_type": "code",
   "execution_count": 1,
   "id": "cd8b9443",
   "metadata": {},
   "outputs": [],
   "source": [
    "# test input\n",
    "# fish = [3,4,3,1,2]"
   ]
  },
  {
   "cell_type": "code",
   "execution_count": 2,
   "id": "58adf245",
   "metadata": {},
   "outputs": [],
   "source": [
    "with open('06.txt') as f:\n",
    "    fish = f.readlines()[0].split(',')\n",
    "    fish = [int(x) for x in fish]"
   ]
  },
  {
   "cell_type": "code",
   "execution_count": 3,
   "id": "bb05116f",
   "metadata": {},
   "outputs": [],
   "source": [
    "fish = {i:fish.count(i) for i in range(9)}"
   ]
  },
  {
   "cell_type": "code",
   "execution_count": 4,
   "id": "47dedfb9",
   "metadata": {},
   "outputs": [
    {
     "name": "stdout",
     "output_type": "stream",
     "text": [
      "1629570219571\n"
     ]
    }
   ],
   "source": [
    "days = 256\n",
    "\n",
    "for day in range(1,days+1):\n",
    "    fish_new = {i:0 for i in range(9)}\n",
    "    for timer, fish_count in fish.items():\n",
    "        if timer > 0:\n",
    "            fish_new[timer-1] = fish_count\n",
    "    for timer, fish_count in fish.items():\n",
    "        if timer == 0:\n",
    "            fish_new[8] = fish_count\n",
    "            fish_new[6] = fish_new[6]+fish_count\n",
    "    fish = fish_new\n",
    "    \n",
    "print(sum(fish.values()))"
   ]
  },
  {
   "cell_type": "code",
   "execution_count": null,
   "id": "8c653c30",
   "metadata": {},
   "outputs": [],
   "source": []
  }
 ],
 "metadata": {
  "kernelspec": {
   "display_name": "Python 3 (ipykernel)",
   "language": "python",
   "name": "python3"
  },
  "language_info": {
   "codemirror_mode": {
    "name": "ipython",
    "version": 3
   },
   "file_extension": ".py",
   "mimetype": "text/x-python",
   "name": "python",
   "nbconvert_exporter": "python",
   "pygments_lexer": "ipython3",
   "version": "3.9.7"
  }
 },
 "nbformat": 4,
 "nbformat_minor": 5
}
